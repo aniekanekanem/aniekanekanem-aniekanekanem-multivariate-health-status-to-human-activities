{
 "cells": [
  {
   "cell_type": "markdown",
   "id": "355b5c20-bb94-4bbd-9d45-33a8565b1404",
   "metadata": {},
   "source": [
    "**PROJECT TITLE**:  Multivariate health status to human activities\n",
    "- **Date Created**: April 2 2024\n",
    "- **Last Updated**: April 5 2024\n",
    "- **Project Type**: Research Project\n",
    "- **Author**: Aniekan Charles Ekanem\n",
    "- **Designation**: Data Analyst"
   ]
  },
  {
   "cell_type": "markdown",
   "id": "8b66cdf4-97de-4393-afea-f64c43623cbd",
   "metadata": {},
   "source": [
    "## 1 PROJECT INTRODUCTION\n",
    "\n",
    "This project is curated to help address how the various health parameters of a human being inter relates with one another and are being affected by their various human activities.  The various health parameters that will be studied in this projects are:\n",
    "- Distance covered\n",
    "- Total steps\n",
    "- Calories burnt\n",
    "- Heart rate\n",
    "- Sleep efficiency\n",
    "- Weight\n",
    "- Body Mass Index\n",
    "\n",
    "This project is based on the writer's view from personal experience and from professional points of view and hence is subject to criticism and any correction, addition, etc is welcome.\n",
    "\n",
    "Data used for this project is obtained from  [Fitbit Fitness Tracker Data](https://www.kaggle.com/datasets/arashnic/fitbit/):\n",
    "\n",
    "- The data is from a reliable source which makes it reliable.\n",
    "- The data is from a first party source and is therefore original.\n",
    "- The data is comprehensive enough to answer the question.\n",
    "- The data is complete.\n",
    "- The data is cited making it more credible.\n",
    "\n",
    "**Question**:  How are the various health parameters related and affected by human activities?"
   ]
  },
  {
   "cell_type": "markdown",
   "id": "42ccf338-badb-4995-868f-50609e3de473",
   "metadata": {},
   "source": [
    "## 2 LOADING THE LIBRARIES AND DATASETS"
   ]
  },
  {
   "cell_type": "code",
   "execution_count": 1,
   "id": "8bbfb4d7-e373-401a-bf54-d1304dab2ed9",
   "metadata": {},
   "outputs": [],
   "source": [
    "# Importing the libraries\n",
    "import pandas as pd\n",
    "import numpy as np\n",
    "import seaborn as sns\n",
    "import matplotlib.pyplot as plt\n",
    "import os\n",
    "import glob"
   ]
  },
  {
   "cell_type": "code",
   "execution_count": 2,
   "id": "422ec9fa-0e7d-4a00-9df0-8a88a9e6ea7f",
   "metadata": {},
   "outputs": [],
   "source": [
    "# Loading the datasets\n",
    "\n",
    "folder_path = '/home/aniekan/Documents/datasets for data analysis practice/bellabeats project/'\n",
    "\n",
    "# Getting a list of all CSV files in the folder\n",
    "csv_files = glob.glob(os.path.join(folder_path, '*.csv'))\n",
    "\n",
    "# Creating an empty dictionary to store DataFrames\n",
    "dataframes = {}\n",
    "\n",
    "# Iterating through each CSV file and loading it into a DataFrame\n",
    "for file in csv_files:\n",
    "    # Extract the file name without extension\n",
    "    file_name = os.path.splitext(os.path.basename(file))[0]\n",
    "    # Load the CSV file into a DataFrame and store it in the dictionary\n",
    "    dataframes[file_name] = pd.read_csv(file)\n",
    "\n",
    "# Accessing each DataFrame using its corresponding file name\n",
    "dailyActivity_merged = dataframes['dailyActivity_merged']\n",
    "heartrate_seconds_merged = dataframes['heartrate_seconds_merged']\n",
    "hourlySteps_merged = dataframes['hourlySteps_merged']\n",
    "sleepDay_merged = dataframes['sleepDay_merged']\n",
    "weightLogInfo_merged = dataframes['weightLogInfo_merged']\n",
    "hourlyCalories_merged = dataframes['hourlyCalories_merged']\n",
    "hourlyIntensities_merged = dataframes['hourlyIntensities_merged']\n",
    "minuteCaloriesNarrow_merged = dataframes['minuteCaloriesNarrow_merged']\n",
    "minuteCaloriesWide_merged = dataframes['minuteCaloriesWide_merged']\n",
    "minuteIntensitiesNarrow_merged = dataframes['minuteIntensitiesNarrow_merged']\n",
    "minuteIntensitiesWide_merged = dataframes['minuteIntensitiesWide_merged']\n",
    "minuteMETsNarrow_merged = dataframes['minuteMETsNarrow_merged']\n",
    "minuteSleep_merged = dataframes['minuteSleep_merged']\n",
    "minuteStepsNarrow_merged = dataframes['minuteStepsNarrow_merged']\n",
    "minuteStepsWide_merged = dataframes['minuteStepsWide_merged']"
   ]
  },
  {
   "cell_type": "markdown",
   "id": "9375b74c-e9c6-4cd0-8ffb-0a5b6705f162",
   "metadata": {},
   "source": [
    "## 3 DATA PROCESSING"
   ]
  },
  {
   "cell_type": "markdown",
   "id": "98dd8ebf-857c-453c-8f29-c676714328d0",
   "metadata": {},
   "source": [
    "The above datasets are very large datasets and will need to undergo the following data processings:\n",
    "\n",
    "\n",
    "- Data inspection including checking the structure of the datasets, checking descriptive statistics, checking for data types, checking for missing data, applying feature engineering, data cleaning, etc.  This is to prepare the data for the analysis process.\n",
    "- Exploratory Data Analysis"
   ]
  },
  {
   "cell_type": "markdown",
   "id": "82336faf-89f9-44a3-88f9-c8a0be962c2f",
   "metadata": {},
   "source": [
    "**I. PROCESSING DAILYACTIVITY_MERGE DATASET**"
   ]
  },
  {
   "cell_type": "code",
   "execution_count": 3,
   "id": "c61b73df-6603-411f-8af6-adf531d28eb4",
   "metadata": {},
   "outputs": [
    {
     "data": {
      "text/html": [
       "<div>\n",
       "<style scoped>\n",
       "    .dataframe tbody tr th:only-of-type {\n",
       "        vertical-align: middle;\n",
       "    }\n",
       "\n",
       "    .dataframe tbody tr th {\n",
       "        vertical-align: top;\n",
       "    }\n",
       "\n",
       "    .dataframe thead th {\n",
       "        text-align: right;\n",
       "    }\n",
       "</style>\n",
       "<table border=\"1\" class=\"dataframe\">\n",
       "  <thead>\n",
       "    <tr style=\"text-align: right;\">\n",
       "      <th></th>\n",
       "      <th>Id</th>\n",
       "      <th>ActivityDate</th>\n",
       "      <th>TotalSteps</th>\n",
       "      <th>TotalDistance</th>\n",
       "      <th>TrackerDistance</th>\n",
       "      <th>LoggedActivitiesDistance</th>\n",
       "      <th>VeryActiveDistance</th>\n",
       "      <th>ModeratelyActiveDistance</th>\n",
       "      <th>LightActiveDistance</th>\n",
       "      <th>SedentaryActiveDistance</th>\n",
       "      <th>VeryActiveMinutes</th>\n",
       "      <th>FairlyActiveMinutes</th>\n",
       "      <th>LightlyActiveMinutes</th>\n",
       "      <th>SedentaryMinutes</th>\n",
       "      <th>Calories</th>\n",
       "    </tr>\n",
       "  </thead>\n",
       "  <tbody>\n",
       "    <tr>\n",
       "      <th>0</th>\n",
       "      <td>1503960366</td>\n",
       "      <td>4/12/2016</td>\n",
       "      <td>13162</td>\n",
       "      <td>8.50</td>\n",
       "      <td>8.50</td>\n",
       "      <td>0.0</td>\n",
       "      <td>1.88</td>\n",
       "      <td>0.55</td>\n",
       "      <td>6.06</td>\n",
       "      <td>0.0</td>\n",
       "      <td>25</td>\n",
       "      <td>13</td>\n",
       "      <td>328</td>\n",
       "      <td>728</td>\n",
       "      <td>1985</td>\n",
       "    </tr>\n",
       "    <tr>\n",
       "      <th>1</th>\n",
       "      <td>1503960366</td>\n",
       "      <td>4/13/2016</td>\n",
       "      <td>10735</td>\n",
       "      <td>6.97</td>\n",
       "      <td>6.97</td>\n",
       "      <td>0.0</td>\n",
       "      <td>1.57</td>\n",
       "      <td>0.69</td>\n",
       "      <td>4.71</td>\n",
       "      <td>0.0</td>\n",
       "      <td>21</td>\n",
       "      <td>19</td>\n",
       "      <td>217</td>\n",
       "      <td>776</td>\n",
       "      <td>1797</td>\n",
       "    </tr>\n",
       "    <tr>\n",
       "      <th>2</th>\n",
       "      <td>1503960366</td>\n",
       "      <td>4/14/2016</td>\n",
       "      <td>10460</td>\n",
       "      <td>6.74</td>\n",
       "      <td>6.74</td>\n",
       "      <td>0.0</td>\n",
       "      <td>2.44</td>\n",
       "      <td>0.40</td>\n",
       "      <td>3.91</td>\n",
       "      <td>0.0</td>\n",
       "      <td>30</td>\n",
       "      <td>11</td>\n",
       "      <td>181</td>\n",
       "      <td>1218</td>\n",
       "      <td>1776</td>\n",
       "    </tr>\n",
       "    <tr>\n",
       "      <th>3</th>\n",
       "      <td>1503960366</td>\n",
       "      <td>4/15/2016</td>\n",
       "      <td>9762</td>\n",
       "      <td>6.28</td>\n",
       "      <td>6.28</td>\n",
       "      <td>0.0</td>\n",
       "      <td>2.14</td>\n",
       "      <td>1.26</td>\n",
       "      <td>2.83</td>\n",
       "      <td>0.0</td>\n",
       "      <td>29</td>\n",
       "      <td>34</td>\n",
       "      <td>209</td>\n",
       "      <td>726</td>\n",
       "      <td>1745</td>\n",
       "    </tr>\n",
       "    <tr>\n",
       "      <th>4</th>\n",
       "      <td>1503960366</td>\n",
       "      <td>4/16/2016</td>\n",
       "      <td>12669</td>\n",
       "      <td>8.16</td>\n",
       "      <td>8.16</td>\n",
       "      <td>0.0</td>\n",
       "      <td>2.71</td>\n",
       "      <td>0.41</td>\n",
       "      <td>5.04</td>\n",
       "      <td>0.0</td>\n",
       "      <td>36</td>\n",
       "      <td>10</td>\n",
       "      <td>221</td>\n",
       "      <td>773</td>\n",
       "      <td>1863</td>\n",
       "    </tr>\n",
       "  </tbody>\n",
       "</table>\n",
       "</div>"
      ],
      "text/plain": [
       "           Id ActivityDate  TotalSteps  TotalDistance  TrackerDistance  \\\n",
       "0  1503960366    4/12/2016       13162           8.50             8.50   \n",
       "1  1503960366    4/13/2016       10735           6.97             6.97   \n",
       "2  1503960366    4/14/2016       10460           6.74             6.74   \n",
       "3  1503960366    4/15/2016        9762           6.28             6.28   \n",
       "4  1503960366    4/16/2016       12669           8.16             8.16   \n",
       "\n",
       "   LoggedActivitiesDistance  VeryActiveDistance  ModeratelyActiveDistance  \\\n",
       "0                       0.0                1.88                      0.55   \n",
       "1                       0.0                1.57                      0.69   \n",
       "2                       0.0                2.44                      0.40   \n",
       "3                       0.0                2.14                      1.26   \n",
       "4                       0.0                2.71                      0.41   \n",
       "\n",
       "   LightActiveDistance  SedentaryActiveDistance  VeryActiveMinutes  \\\n",
       "0                 6.06                      0.0                 25   \n",
       "1                 4.71                      0.0                 21   \n",
       "2                 3.91                      0.0                 30   \n",
       "3                 2.83                      0.0                 29   \n",
       "4                 5.04                      0.0                 36   \n",
       "\n",
       "   FairlyActiveMinutes  LightlyActiveMinutes  SedentaryMinutes  Calories  \n",
       "0                   13                   328               728      1985  \n",
       "1                   19                   217               776      1797  \n",
       "2                   11                   181              1218      1776  \n",
       "3                   34                   209               726      1745  \n",
       "4                   10                   221               773      1863  "
      ]
     },
     "execution_count": 3,
     "metadata": {},
     "output_type": "execute_result"
    }
   ],
   "source": [
    "# General viewing and inspection of the dailyActivity_merged dataset variables and data\n",
    "\n",
    "dailyActivity_merged.head(5)"
   ]
  },
  {
   "cell_type": "code",
   "execution_count": 4,
   "id": "c8681140-a608-4ae7-aff7-c9c79f78988a",
   "metadata": {},
   "outputs": [
    {
     "data": {
      "text/plain": [
       "Id                            int64\n",
       "ActivityDate                 object\n",
       "TotalSteps                    int64\n",
       "TotalDistance               float64\n",
       "TrackerDistance             float64\n",
       "LoggedActivitiesDistance    float64\n",
       "VeryActiveDistance          float64\n",
       "ModeratelyActiveDistance    float64\n",
       "LightActiveDistance         float64\n",
       "SedentaryActiveDistance     float64\n",
       "VeryActiveMinutes             int64\n",
       "FairlyActiveMinutes           int64\n",
       "LightlyActiveMinutes          int64\n",
       "SedentaryMinutes              int64\n",
       "Calories                      int64\n",
       "dtype: object"
      ]
     },
     "execution_count": 4,
     "metadata": {},
     "output_type": "execute_result"
    }
   ],
   "source": [
    "# Checking the dataypes of the dataset variables\n",
    "\n",
    "dailyActivity_merged.dtypes"
   ]
  },
  {
   "cell_type": "code",
   "execution_count": 5,
   "id": "ebd788e9-220f-471b-8cb4-5c8f332c1328",
   "metadata": {},
   "outputs": [],
   "source": [
    "# Converting Id and ActivityDate datatype to string and date format respectively\n",
    "dailyActivity_merged['Id'] = dailyActivity_merged['Id'].astype(str)\n",
    "dailyActivity_merged['ActivityDate'] = pd.to_datetime(dailyActivity_merged['ActivityDate'])"
   ]
  },
  {
   "cell_type": "code",
   "execution_count": 6,
   "id": "0646db07-06fd-46b3-8643-f18739b1eb68",
   "metadata": {},
   "outputs": [
    {
     "data": {
      "text/plain": [
       "Id                                  object\n",
       "ActivityDate                datetime64[ns]\n",
       "TotalSteps                           int64\n",
       "TotalDistance                      float64\n",
       "TrackerDistance                    float64\n",
       "LoggedActivitiesDistance           float64\n",
       "VeryActiveDistance                 float64\n",
       "ModeratelyActiveDistance           float64\n",
       "LightActiveDistance                float64\n",
       "SedentaryActiveDistance            float64\n",
       "VeryActiveMinutes                    int64\n",
       "FairlyActiveMinutes                  int64\n",
       "LightlyActiveMinutes                 int64\n",
       "SedentaryMinutes                     int64\n",
       "Calories                             int64\n",
       "dtype: object"
      ]
     },
     "execution_count": 6,
     "metadata": {},
     "output_type": "execute_result"
    }
   ],
   "source": [
    "#  Cross-checking the datatypes\n",
    "dailyActivity_merged.dtypes"
   ]
  },
  {
   "cell_type": "code",
   "execution_count": 7,
   "id": "142840f0-2320-4a9f-b05e-1893f7df63b5",
   "metadata": {},
   "outputs": [],
   "source": [
    "# Checking for unique datatype"
   ]
  },
  {
   "cell_type": "code",
   "execution_count": 6,
   "id": "018a1f97-1563-45b8-9165-aec22c53c7c1",
   "metadata": {},
   "outputs": [],
   "source": [
    "# Function to count unique data types in a column and return counts\n",
    "def count_unique_data_types(col):\n",
    "    data_type_count = len(set(map(type, col)))\n",
    "    return data_type_count"
   ]
  },
  {
   "cell_type": "code",
   "execution_count": 13,
   "id": "e6855b1c-2c07-4af3-80cf-36ab1e5428d0",
   "metadata": {},
   "outputs": [
    {
     "name": "stdout",
     "output_type": "stream",
     "text": [
      "Column Name: Count of Unique Data Types\n",
      "Id: 1\n",
      "ActivityDate: 1\n",
      "TotalSteps: 1\n",
      "TotalDistance: 1\n",
      "TrackerDistance: 1\n",
      "LoggedActivitiesDistance: 1\n",
      "VeryActiveDistance: 1\n",
      "ModeratelyActiveDistance: 1\n",
      "LightActiveDistance: 1\n",
      "SedentaryActiveDistance: 1\n",
      "VeryActiveMinutes: 1\n",
      "FairlyActiveMinutes: 1\n",
      "LightlyActiveMinutes: 1\n",
      "SedentaryMinutes: 1\n",
      "Calories: 1\n"
     ]
    }
   ],
   "source": [
    "# Counting the number of unique data types in each column and store the result in a dictionary\n",
    "result = {}\n",
    "for column in dailyActivity_merged.columns:\n",
    "    result[column] = count_unique_data_types(dailyActivity_merged[column])\n",
    "\n",
    "# Printing the result with column names\n",
    "print(\"Column Name: Count of Unique Data Types\")\n",
    "for column, count in result.items():\n",
    "    print(f\"{column}: {count}\")"
   ]
  },
  {
   "cell_type": "code",
   "execution_count": 10,
   "id": "24c4046a-bf45-490a-b75f-49050d6f9768",
   "metadata": {},
   "outputs": [
    {
     "data": {
      "text/html": [
       "<div>\n",
       "<style scoped>\n",
       "    .dataframe tbody tr th:only-of-type {\n",
       "        vertical-align: middle;\n",
       "    }\n",
       "\n",
       "    .dataframe tbody tr th {\n",
       "        vertical-align: top;\n",
       "    }\n",
       "\n",
       "    .dataframe thead th {\n",
       "        text-align: right;\n",
       "    }\n",
       "</style>\n",
       "<table border=\"1\" class=\"dataframe\">\n",
       "  <thead>\n",
       "    <tr style=\"text-align: right;\">\n",
       "      <th></th>\n",
       "      <th>TotalSteps</th>\n",
       "      <th>TotalDistance</th>\n",
       "      <th>TrackerDistance</th>\n",
       "      <th>LoggedActivitiesDistance</th>\n",
       "      <th>VeryActiveDistance</th>\n",
       "      <th>ModeratelyActiveDistance</th>\n",
       "      <th>LightActiveDistance</th>\n",
       "      <th>SedentaryActiveDistance</th>\n",
       "      <th>VeryActiveMinutes</th>\n",
       "      <th>FairlyActiveMinutes</th>\n",
       "      <th>LightlyActiveMinutes</th>\n",
       "      <th>SedentaryMinutes</th>\n",
       "      <th>Calories</th>\n",
       "    </tr>\n",
       "  </thead>\n",
       "  <tbody>\n",
       "    <tr>\n",
       "      <th>count</th>\n",
       "      <td>940.000000</td>\n",
       "      <td>940.000000</td>\n",
       "      <td>940.000000</td>\n",
       "      <td>940.000000</td>\n",
       "      <td>940.000000</td>\n",
       "      <td>940.000000</td>\n",
       "      <td>940.000000</td>\n",
       "      <td>940.000000</td>\n",
       "      <td>940.000000</td>\n",
       "      <td>940.000000</td>\n",
       "      <td>940.000000</td>\n",
       "      <td>940.000000</td>\n",
       "      <td>940.000000</td>\n",
       "    </tr>\n",
       "    <tr>\n",
       "      <th>mean</th>\n",
       "      <td>7637.910638</td>\n",
       "      <td>5.489702</td>\n",
       "      <td>5.475351</td>\n",
       "      <td>0.108171</td>\n",
       "      <td>1.502681</td>\n",
       "      <td>0.567543</td>\n",
       "      <td>3.340819</td>\n",
       "      <td>0.001606</td>\n",
       "      <td>21.164894</td>\n",
       "      <td>13.564894</td>\n",
       "      <td>192.812766</td>\n",
       "      <td>991.210638</td>\n",
       "      <td>2303.609574</td>\n",
       "    </tr>\n",
       "    <tr>\n",
       "      <th>std</th>\n",
       "      <td>5087.150742</td>\n",
       "      <td>3.924606</td>\n",
       "      <td>3.907276</td>\n",
       "      <td>0.619897</td>\n",
       "      <td>2.658941</td>\n",
       "      <td>0.883580</td>\n",
       "      <td>2.040655</td>\n",
       "      <td>0.007346</td>\n",
       "      <td>32.844803</td>\n",
       "      <td>19.987404</td>\n",
       "      <td>109.174700</td>\n",
       "      <td>301.267437</td>\n",
       "      <td>718.166862</td>\n",
       "    </tr>\n",
       "    <tr>\n",
       "      <th>min</th>\n",
       "      <td>0.000000</td>\n",
       "      <td>0.000000</td>\n",
       "      <td>0.000000</td>\n",
       "      <td>0.000000</td>\n",
       "      <td>0.000000</td>\n",
       "      <td>0.000000</td>\n",
       "      <td>0.000000</td>\n",
       "      <td>0.000000</td>\n",
       "      <td>0.000000</td>\n",
       "      <td>0.000000</td>\n",
       "      <td>0.000000</td>\n",
       "      <td>0.000000</td>\n",
       "      <td>0.000000</td>\n",
       "    </tr>\n",
       "    <tr>\n",
       "      <th>25%</th>\n",
       "      <td>3789.750000</td>\n",
       "      <td>2.620000</td>\n",
       "      <td>2.620000</td>\n",
       "      <td>0.000000</td>\n",
       "      <td>0.000000</td>\n",
       "      <td>0.000000</td>\n",
       "      <td>1.945000</td>\n",
       "      <td>0.000000</td>\n",
       "      <td>0.000000</td>\n",
       "      <td>0.000000</td>\n",
       "      <td>127.000000</td>\n",
       "      <td>729.750000</td>\n",
       "      <td>1828.500000</td>\n",
       "    </tr>\n",
       "    <tr>\n",
       "      <th>50%</th>\n",
       "      <td>7405.500000</td>\n",
       "      <td>5.245000</td>\n",
       "      <td>5.245000</td>\n",
       "      <td>0.000000</td>\n",
       "      <td>0.210000</td>\n",
       "      <td>0.240000</td>\n",
       "      <td>3.365000</td>\n",
       "      <td>0.000000</td>\n",
       "      <td>4.000000</td>\n",
       "      <td>6.000000</td>\n",
       "      <td>199.000000</td>\n",
       "      <td>1057.500000</td>\n",
       "      <td>2134.000000</td>\n",
       "    </tr>\n",
       "    <tr>\n",
       "      <th>75%</th>\n",
       "      <td>10727.000000</td>\n",
       "      <td>7.712500</td>\n",
       "      <td>7.710000</td>\n",
       "      <td>0.000000</td>\n",
       "      <td>2.052500</td>\n",
       "      <td>0.800000</td>\n",
       "      <td>4.782500</td>\n",
       "      <td>0.000000</td>\n",
       "      <td>32.000000</td>\n",
       "      <td>19.000000</td>\n",
       "      <td>264.000000</td>\n",
       "      <td>1229.500000</td>\n",
       "      <td>2793.250000</td>\n",
       "    </tr>\n",
       "    <tr>\n",
       "      <th>max</th>\n",
       "      <td>36019.000000</td>\n",
       "      <td>28.030001</td>\n",
       "      <td>28.030001</td>\n",
       "      <td>4.942142</td>\n",
       "      <td>21.920000</td>\n",
       "      <td>6.480000</td>\n",
       "      <td>10.710000</td>\n",
       "      <td>0.110000</td>\n",
       "      <td>210.000000</td>\n",
       "      <td>143.000000</td>\n",
       "      <td>518.000000</td>\n",
       "      <td>1440.000000</td>\n",
       "      <td>4900.000000</td>\n",
       "    </tr>\n",
       "  </tbody>\n",
       "</table>\n",
       "</div>"
      ],
      "text/plain": [
       "         TotalSteps  TotalDistance  TrackerDistance  LoggedActivitiesDistance  \\\n",
       "count    940.000000     940.000000       940.000000                940.000000   \n",
       "mean    7637.910638       5.489702         5.475351                  0.108171   \n",
       "std     5087.150742       3.924606         3.907276                  0.619897   \n",
       "min        0.000000       0.000000         0.000000                  0.000000   \n",
       "25%     3789.750000       2.620000         2.620000                  0.000000   \n",
       "50%     7405.500000       5.245000         5.245000                  0.000000   \n",
       "75%    10727.000000       7.712500         7.710000                  0.000000   \n",
       "max    36019.000000      28.030001        28.030001                  4.942142   \n",
       "\n",
       "       VeryActiveDistance  ModeratelyActiveDistance  LightActiveDistance  \\\n",
       "count          940.000000                940.000000           940.000000   \n",
       "mean             1.502681                  0.567543             3.340819   \n",
       "std              2.658941                  0.883580             2.040655   \n",
       "min              0.000000                  0.000000             0.000000   \n",
       "25%              0.000000                  0.000000             1.945000   \n",
       "50%              0.210000                  0.240000             3.365000   \n",
       "75%              2.052500                  0.800000             4.782500   \n",
       "max             21.920000                  6.480000            10.710000   \n",
       "\n",
       "       SedentaryActiveDistance  VeryActiveMinutes  FairlyActiveMinutes  \\\n",
       "count               940.000000         940.000000           940.000000   \n",
       "mean                  0.001606          21.164894            13.564894   \n",
       "std                   0.007346          32.844803            19.987404   \n",
       "min                   0.000000           0.000000             0.000000   \n",
       "25%                   0.000000           0.000000             0.000000   \n",
       "50%                   0.000000           4.000000             6.000000   \n",
       "75%                   0.000000          32.000000            19.000000   \n",
       "max                   0.110000         210.000000           143.000000   \n",
       "\n",
       "       LightlyActiveMinutes  SedentaryMinutes     Calories  \n",
       "count            940.000000        940.000000   940.000000  \n",
       "mean             192.812766        991.210638  2303.609574  \n",
       "std              109.174700        301.267437   718.166862  \n",
       "min                0.000000          0.000000     0.000000  \n",
       "25%              127.000000        729.750000  1828.500000  \n",
       "50%              199.000000       1057.500000  2134.000000  \n",
       "75%              264.000000       1229.500000  2793.250000  \n",
       "max              518.000000       1440.000000  4900.000000  "
      ]
     },
     "execution_count": 10,
     "metadata": {},
     "output_type": "execute_result"
    }
   ],
   "source": [
    "# Checking the descriptive statistics of the dataset\n",
    "dailyActivity_merged.describe()"
   ]
  },
  {
   "cell_type": "markdown",
   "id": "ef06bdf8-2dc2-497b-a10f-07b64c58dff3",
   "metadata": {},
   "source": []
  },
  {
   "cell_type": "markdown",
   "id": "407daed6-797e-4f66-936e-ec5027ae87b6",
   "metadata": {},
   "source": [
    "**II. PROCESSING HEARTRATE_SECONDS_MERGED DATASET**"
   ]
  },
  {
   "cell_type": "code",
   "execution_count": 11,
   "id": "e0a1ea8c-af20-4925-84e4-3fc16df682d3",
   "metadata": {},
   "outputs": [
    {
     "data": {
      "text/html": [
       "<div>\n",
       "<style scoped>\n",
       "    .dataframe tbody tr th:only-of-type {\n",
       "        vertical-align: middle;\n",
       "    }\n",
       "\n",
       "    .dataframe tbody tr th {\n",
       "        vertical-align: top;\n",
       "    }\n",
       "\n",
       "    .dataframe thead th {\n",
       "        text-align: right;\n",
       "    }\n",
       "</style>\n",
       "<table border=\"1\" class=\"dataframe\">\n",
       "  <thead>\n",
       "    <tr style=\"text-align: right;\">\n",
       "      <th></th>\n",
       "      <th>Id</th>\n",
       "      <th>Time</th>\n",
       "      <th>Value</th>\n",
       "    </tr>\n",
       "  </thead>\n",
       "  <tbody>\n",
       "    <tr>\n",
       "      <th>0</th>\n",
       "      <td>2022484408</td>\n",
       "      <td>4/12/2016 7:21:00 AM</td>\n",
       "      <td>97</td>\n",
       "    </tr>\n",
       "    <tr>\n",
       "      <th>1</th>\n",
       "      <td>2022484408</td>\n",
       "      <td>4/12/2016 7:21:05 AM</td>\n",
       "      <td>102</td>\n",
       "    </tr>\n",
       "    <tr>\n",
       "      <th>2</th>\n",
       "      <td>2022484408</td>\n",
       "      <td>4/12/2016 7:21:10 AM</td>\n",
       "      <td>105</td>\n",
       "    </tr>\n",
       "    <tr>\n",
       "      <th>3</th>\n",
       "      <td>2022484408</td>\n",
       "      <td>4/12/2016 7:21:20 AM</td>\n",
       "      <td>103</td>\n",
       "    </tr>\n",
       "    <tr>\n",
       "      <th>4</th>\n",
       "      <td>2022484408</td>\n",
       "      <td>4/12/2016 7:21:25 AM</td>\n",
       "      <td>101</td>\n",
       "    </tr>\n",
       "  </tbody>\n",
       "</table>\n",
       "</div>"
      ],
      "text/plain": [
       "           Id                  Time  Value\n",
       "0  2022484408  4/12/2016 7:21:00 AM     97\n",
       "1  2022484408  4/12/2016 7:21:05 AM    102\n",
       "2  2022484408  4/12/2016 7:21:10 AM    105\n",
       "3  2022484408  4/12/2016 7:21:20 AM    103\n",
       "4  2022484408  4/12/2016 7:21:25 AM    101"
      ]
     },
     "execution_count": 11,
     "metadata": {},
     "output_type": "execute_result"
    }
   ],
   "source": [
    "# General viewing and inspection of the heartrate_seconds_merged dataset variables and data\n",
    "\n",
    "heartrate_seconds_merged.head(5)"
   ]
  },
  {
   "cell_type": "code",
   "execution_count": 12,
   "id": "a1d60250-0b94-431d-b5b7-185bcfbb404b",
   "metadata": {},
   "outputs": [
    {
     "data": {
      "text/plain": [
       "Id        int64\n",
       "Time     object\n",
       "Value     int64\n",
       "dtype: object"
      ]
     },
     "execution_count": 12,
     "metadata": {},
     "output_type": "execute_result"
    }
   ],
   "source": [
    "# Checking the datatypes of heartrate_seconds_merged dataset variables\n",
    "\n",
    "heartrate_seconds_merged.dtypes"
   ]
  },
  {
   "cell_type": "code",
   "execution_count": 13,
   "id": "6df9aede-9ca3-45be-ae93-a89ae1c19743",
   "metadata": {},
   "outputs": [],
   "source": [
    "# Converting the Id and Time datatype to 'string' and 'date format' data type respectively\n",
    "\n",
    "# Extracting date from Time column\n",
    "heartrate_seconds_merged['Time'] = pd.to_datetime(heartrate_seconds_merged['Time'])\n",
    "heartrate_seconds_merged['ActivityDate'] = heartrate_seconds_merged['Time'].dt.date\n",
    "\n",
    "# Rearranging columns\n",
    "heartrate_seconds_merged = heartrate_seconds_merged[['Id', 'Time', 'ActivityDate', 'Value']]\n",
    "\n",
    "# # Converting to the respective data types\n",
    "heartrate_seconds_merged['Id'] = heartrate_seconds_merged['Id'].astype(str)\n",
    "heartrate_seconds_merged['ActivityDate'] = pd.to_datetime(heartrate_seconds_merged['ActivityDate'])"
   ]
  },
  {
   "cell_type": "code",
   "execution_count": 14,
   "id": "41d498c0-fffc-4545-b9cc-d2643ba212ce",
   "metadata": {},
   "outputs": [
    {
     "data": {
      "text/plain": [
       "Id                      object\n",
       "Time            datetime64[ns]\n",
       "ActivityDate    datetime64[ns]\n",
       "Value                    int64\n",
       "dtype: object"
      ]
     },
     "execution_count": 14,
     "metadata": {},
     "output_type": "execute_result"
    }
   ],
   "source": [
    "#  Cross-checking the datatypes\n",
    "heartrate_seconds_merged.dtypes"
   ]
  },
  {
   "cell_type": "code",
   "execution_count": 15,
   "id": "2a4ff67e-162b-4a4c-af17-7c191923f894",
   "metadata": {},
   "outputs": [],
   "source": [
    "# Checking for unique datatype"
   ]
  },
  {
   "cell_type": "code",
   "execution_count": 16,
   "id": "5d48192b-0587-46d4-bba8-607b1f2a4e95",
   "metadata": {},
   "outputs": [
    {
     "name": "stdout",
     "output_type": "stream",
     "text": [
      "Column Name: Count of Unique Data Types\n",
      "Id: 1\n",
      "Time: 1\n",
      "ActivityDate: 1\n",
      "Value: 1\n"
     ]
    }
   ],
   "source": [
    "# Counting the number of unique data types in each column and store the result in a dictionary\n",
    "result = {}\n",
    "for column in heartrate_seconds_merged.columns:\n",
    "    result[column] = count_unique_data_types(heartrate_seconds_merged[column])\n",
    "\n",
    "# Printing the result with column names\n",
    "print(\"Column Name: Count of Unique Data Types\")\n",
    "for column, count in result.items():\n",
    "    print(f\"{column}: {count}\")"
   ]
  },
  {
   "cell_type": "code",
   "execution_count": 17,
   "id": "b5dbe6e5-7643-4aac-a800-202b80cee907",
   "metadata": {},
   "outputs": [
    {
     "data": {
      "text/html": [
       "<div>\n",
       "<style scoped>\n",
       "    .dataframe tbody tr th:only-of-type {\n",
       "        vertical-align: middle;\n",
       "    }\n",
       "\n",
       "    .dataframe tbody tr th {\n",
       "        vertical-align: top;\n",
       "    }\n",
       "\n",
       "    .dataframe thead th {\n",
       "        text-align: right;\n",
       "    }\n",
       "</style>\n",
       "<table border=\"1\" class=\"dataframe\">\n",
       "  <thead>\n",
       "    <tr style=\"text-align: right;\">\n",
       "      <th></th>\n",
       "      <th>Value</th>\n",
       "    </tr>\n",
       "  </thead>\n",
       "  <tbody>\n",
       "    <tr>\n",
       "      <th>count</th>\n",
       "      <td>2.483658e+06</td>\n",
       "    </tr>\n",
       "    <tr>\n",
       "      <th>mean</th>\n",
       "      <td>7.732842e+01</td>\n",
       "    </tr>\n",
       "    <tr>\n",
       "      <th>std</th>\n",
       "      <td>1.940450e+01</td>\n",
       "    </tr>\n",
       "    <tr>\n",
       "      <th>min</th>\n",
       "      <td>3.600000e+01</td>\n",
       "    </tr>\n",
       "    <tr>\n",
       "      <th>25%</th>\n",
       "      <td>6.300000e+01</td>\n",
       "    </tr>\n",
       "    <tr>\n",
       "      <th>50%</th>\n",
       "      <td>7.300000e+01</td>\n",
       "    </tr>\n",
       "    <tr>\n",
       "      <th>75%</th>\n",
       "      <td>8.800000e+01</td>\n",
       "    </tr>\n",
       "    <tr>\n",
       "      <th>max</th>\n",
       "      <td>2.030000e+02</td>\n",
       "    </tr>\n",
       "  </tbody>\n",
       "</table>\n",
       "</div>"
      ],
      "text/plain": [
       "              Value\n",
       "count  2.483658e+06\n",
       "mean   7.732842e+01\n",
       "std    1.940450e+01\n",
       "min    3.600000e+01\n",
       "25%    6.300000e+01\n",
       "50%    7.300000e+01\n",
       "75%    8.800000e+01\n",
       "max    2.030000e+02"
      ]
     },
     "execution_count": 17,
     "metadata": {},
     "output_type": "execute_result"
    }
   ],
   "source": [
    "# Checking the descriptive statistics of the dataset\n",
    "heartrate_seconds_merged.describe()"
   ]
  },
  {
   "cell_type": "code",
   "execution_count": 18,
   "id": "ad2ea774-b0c3-4366-8f23-f2a5df2840d7",
   "metadata": {},
   "outputs": [
    {
     "data": {
      "text/plain": [
       "0"
      ]
     },
     "execution_count": 18,
     "metadata": {},
     "output_type": "execute_result"
    }
   ],
   "source": [
    "# Number of rows with missing data\n",
    "heartrate_seconds_merged.isna().any(axis=1).sum()"
   ]
  },
  {
   "cell_type": "code",
   "execution_count": null,
   "id": "20854a72-8efb-438b-9aae-912730cfe2cf",
   "metadata": {},
   "outputs": [],
   "source": []
  },
  {
   "cell_type": "markdown",
   "id": "2f1caf7b-fea1-45d9-ab97-1f3bc294c456",
   "metadata": {},
   "source": [
    "**III. PROCESSING HOURLYSTEPS_MERGED DATASET**"
   ]
  },
  {
   "cell_type": "code",
   "execution_count": 19,
   "id": "6c0b954c-84b2-4474-b101-810235ce8b4c",
   "metadata": {},
   "outputs": [
    {
     "data": {
      "text/html": [
       "<div>\n",
       "<style scoped>\n",
       "    .dataframe tbody tr th:only-of-type {\n",
       "        vertical-align: middle;\n",
       "    }\n",
       "\n",
       "    .dataframe tbody tr th {\n",
       "        vertical-align: top;\n",
       "    }\n",
       "\n",
       "    .dataframe thead th {\n",
       "        text-align: right;\n",
       "    }\n",
       "</style>\n",
       "<table border=\"1\" class=\"dataframe\">\n",
       "  <thead>\n",
       "    <tr style=\"text-align: right;\">\n",
       "      <th></th>\n",
       "      <th>Id</th>\n",
       "      <th>ActivityHour</th>\n",
       "      <th>StepTotal</th>\n",
       "    </tr>\n",
       "  </thead>\n",
       "  <tbody>\n",
       "    <tr>\n",
       "      <th>0</th>\n",
       "      <td>1503960366</td>\n",
       "      <td>4/12/2016 12:00:00 AM</td>\n",
       "      <td>373</td>\n",
       "    </tr>\n",
       "    <tr>\n",
       "      <th>1</th>\n",
       "      <td>1503960366</td>\n",
       "      <td>4/12/2016 1:00:00 AM</td>\n",
       "      <td>160</td>\n",
       "    </tr>\n",
       "    <tr>\n",
       "      <th>2</th>\n",
       "      <td>1503960366</td>\n",
       "      <td>4/12/2016 2:00:00 AM</td>\n",
       "      <td>151</td>\n",
       "    </tr>\n",
       "    <tr>\n",
       "      <th>3</th>\n",
       "      <td>1503960366</td>\n",
       "      <td>4/12/2016 3:00:00 AM</td>\n",
       "      <td>0</td>\n",
       "    </tr>\n",
       "    <tr>\n",
       "      <th>4</th>\n",
       "      <td>1503960366</td>\n",
       "      <td>4/12/2016 4:00:00 AM</td>\n",
       "      <td>0</td>\n",
       "    </tr>\n",
       "  </tbody>\n",
       "</table>\n",
       "</div>"
      ],
      "text/plain": [
       "           Id           ActivityHour  StepTotal\n",
       "0  1503960366  4/12/2016 12:00:00 AM        373\n",
       "1  1503960366   4/12/2016 1:00:00 AM        160\n",
       "2  1503960366   4/12/2016 2:00:00 AM        151\n",
       "3  1503960366   4/12/2016 3:00:00 AM          0\n",
       "4  1503960366   4/12/2016 4:00:00 AM          0"
      ]
     },
     "execution_count": 19,
     "metadata": {},
     "output_type": "execute_result"
    }
   ],
   "source": [
    "# General viewing and inspection of the hourlySteps_merged dataset variables and data\n",
    "\n",
    "hourlySteps_merged.head(5)"
   ]
  },
  {
   "cell_type": "code",
   "execution_count": 20,
   "id": "8adea186-a5d4-4660-af39-20db4ffad13b",
   "metadata": {},
   "outputs": [
    {
     "data": {
      "text/plain": [
       "Id               int64\n",
       "ActivityHour    object\n",
       "StepTotal        int64\n",
       "dtype: object"
      ]
     },
     "execution_count": 20,
     "metadata": {},
     "output_type": "execute_result"
    }
   ],
   "source": [
    "# Checking the datatypes of heartrate_seconds_merged dataset variables\n",
    "\n",
    "hourlySteps_merged.dtypes"
   ]
  },
  {
   "cell_type": "code",
   "execution_count": 21,
   "id": "8057dfe7-22e5-4e0f-9a66-11dc80b6c2ba",
   "metadata": {},
   "outputs": [],
   "source": [
    "# Converting the Id and ActivityHour datatype to 'string' and 'date format' data type respectively\n",
    "\n",
    "# Extracting date from the ActivityHour column\n",
    "hourlySteps_merged['ActivityHour'] = pd.to_datetime(hourlySteps_merged['ActivityHour'])\n",
    "hourlySteps_merged['ActivityDate'] = hourlySteps_merged['ActivityHour'].dt.date\n",
    "\n",
    "# Rearranging columns\n",
    "hourlySteps_merged = hourlySteps_merged[['Id', 'ActivityHour', 'ActivityDate', 'StepTotal']]\n",
    "\n",
    "# Converting to the respective data types\n",
    "hourlySteps_merged['Id'] = hourlySteps_merged['Id'].astype(str)\n",
    "hourlySteps_merged['ActivityDate'] = pd.to_datetime(hourlySteps_merged['ActivityDate'])"
   ]
  },
  {
   "cell_type": "code",
   "execution_count": 22,
   "id": "a8c2e027-2831-43a7-b67d-132e6bd632e5",
   "metadata": {},
   "outputs": [
    {
     "data": {
      "text/plain": [
       "Id                      object\n",
       "ActivityHour    datetime64[ns]\n",
       "ActivityDate    datetime64[ns]\n",
       "StepTotal                int64\n",
       "dtype: object"
      ]
     },
     "execution_count": 22,
     "metadata": {},
     "output_type": "execute_result"
    }
   ],
   "source": [
    "#  Cross-checking the datatypes\n",
    "hourlySteps_merged.dtypes"
   ]
  },
  {
   "cell_type": "code",
   "execution_count": 23,
   "id": "6ee1fa4e-b744-441f-ba79-a7dd45817231",
   "metadata": {},
   "outputs": [],
   "source": [
    "# Checking for unique datatype"
   ]
  },
  {
   "cell_type": "code",
   "execution_count": 24,
   "id": "41b6f26b-f070-4c14-8f00-5a323af83ee2",
   "metadata": {},
   "outputs": [
    {
     "name": "stdout",
     "output_type": "stream",
     "text": [
      "Column Name: Count of Unique Data Types\n",
      "Id: 1\n",
      "ActivityHour: 1\n",
      "ActivityDate: 1\n",
      "StepTotal: 1\n"
     ]
    }
   ],
   "source": [
    "# Counting the number of unique data types in each column and store the result in a dictionary\n",
    "result = {}\n",
    "for column in hourlySteps_merged.columns:\n",
    "    result[column] = count_unique_data_types(hourlySteps_merged[column])\n",
    "\n",
    "# Printing the result with column names\n",
    "print(\"Column Name: Count of Unique Data Types\")\n",
    "for column, count in result.items():\n",
    "    print(f\"{column}: {count}\")"
   ]
  },
  {
   "cell_type": "code",
   "execution_count": 25,
   "id": "3a03860a-1bad-43c6-a4e0-28b568dc94b7",
   "metadata": {},
   "outputs": [
    {
     "data": {
      "text/html": [
       "<div>\n",
       "<style scoped>\n",
       "    .dataframe tbody tr th:only-of-type {\n",
       "        vertical-align: middle;\n",
       "    }\n",
       "\n",
       "    .dataframe tbody tr th {\n",
       "        vertical-align: top;\n",
       "    }\n",
       "\n",
       "    .dataframe thead th {\n",
       "        text-align: right;\n",
       "    }\n",
       "</style>\n",
       "<table border=\"1\" class=\"dataframe\">\n",
       "  <thead>\n",
       "    <tr style=\"text-align: right;\">\n",
       "      <th></th>\n",
       "      <th>StepTotal</th>\n",
       "    </tr>\n",
       "  </thead>\n",
       "  <tbody>\n",
       "    <tr>\n",
       "      <th>count</th>\n",
       "      <td>22099.000000</td>\n",
       "    </tr>\n",
       "    <tr>\n",
       "      <th>mean</th>\n",
       "      <td>320.166342</td>\n",
       "    </tr>\n",
       "    <tr>\n",
       "      <th>std</th>\n",
       "      <td>690.384228</td>\n",
       "    </tr>\n",
       "    <tr>\n",
       "      <th>min</th>\n",
       "      <td>0.000000</td>\n",
       "    </tr>\n",
       "    <tr>\n",
       "      <th>25%</th>\n",
       "      <td>0.000000</td>\n",
       "    </tr>\n",
       "    <tr>\n",
       "      <th>50%</th>\n",
       "      <td>40.000000</td>\n",
       "    </tr>\n",
       "    <tr>\n",
       "      <th>75%</th>\n",
       "      <td>357.000000</td>\n",
       "    </tr>\n",
       "    <tr>\n",
       "      <th>max</th>\n",
       "      <td>10554.000000</td>\n",
       "    </tr>\n",
       "  </tbody>\n",
       "</table>\n",
       "</div>"
      ],
      "text/plain": [
       "          StepTotal\n",
       "count  22099.000000\n",
       "mean     320.166342\n",
       "std      690.384228\n",
       "min        0.000000\n",
       "25%        0.000000\n",
       "50%       40.000000\n",
       "75%      357.000000\n",
       "max    10554.000000"
      ]
     },
     "execution_count": 25,
     "metadata": {},
     "output_type": "execute_result"
    }
   ],
   "source": [
    "# Checking the descriptive statistics of the dataset\n",
    "hourlySteps_merged.describe()"
   ]
  },
  {
   "cell_type": "code",
   "execution_count": 26,
   "id": "5e164047-b3d0-464a-aca3-77b6aafd59e0",
   "metadata": {},
   "outputs": [
    {
     "data": {
      "text/plain": [
       "0"
      ]
     },
     "execution_count": 26,
     "metadata": {},
     "output_type": "execute_result"
    }
   ],
   "source": [
    "# Number of rows with missing data\n",
    "hourlySteps_merged.isna().any(axis=1).sum()"
   ]
  },
  {
   "cell_type": "code",
   "execution_count": null,
   "id": "5fb20d0c-cc1d-4abf-9d3d-b496e7df3424",
   "metadata": {},
   "outputs": [],
   "source": []
  },
  {
   "cell_type": "markdown",
   "id": "99da2e0c-784c-4900-a956-80b61621d143",
   "metadata": {},
   "source": [
    "**IV. PROCESSING SLEEPDAY_MERGED DATASET**"
   ]
  },
  {
   "cell_type": "code",
   "execution_count": 27,
   "id": "320d9e96-1a4d-4b02-83d6-9381790ce471",
   "metadata": {},
   "outputs": [
    {
     "data": {
      "text/html": [
       "<div>\n",
       "<style scoped>\n",
       "    .dataframe tbody tr th:only-of-type {\n",
       "        vertical-align: middle;\n",
       "    }\n",
       "\n",
       "    .dataframe tbody tr th {\n",
       "        vertical-align: top;\n",
       "    }\n",
       "\n",
       "    .dataframe thead th {\n",
       "        text-align: right;\n",
       "    }\n",
       "</style>\n",
       "<table border=\"1\" class=\"dataframe\">\n",
       "  <thead>\n",
       "    <tr style=\"text-align: right;\">\n",
       "      <th></th>\n",
       "      <th>Id</th>\n",
       "      <th>SleepDay</th>\n",
       "      <th>TotalSleepRecords</th>\n",
       "      <th>TotalMinutesAsleep</th>\n",
       "      <th>TotalTimeInBed</th>\n",
       "    </tr>\n",
       "  </thead>\n",
       "  <tbody>\n",
       "    <tr>\n",
       "      <th>0</th>\n",
       "      <td>1503960366</td>\n",
       "      <td>4/12/2016 12:00:00 AM</td>\n",
       "      <td>1</td>\n",
       "      <td>327</td>\n",
       "      <td>346</td>\n",
       "    </tr>\n",
       "    <tr>\n",
       "      <th>1</th>\n",
       "      <td>1503960366</td>\n",
       "      <td>4/13/2016 12:00:00 AM</td>\n",
       "      <td>2</td>\n",
       "      <td>384</td>\n",
       "      <td>407</td>\n",
       "    </tr>\n",
       "    <tr>\n",
       "      <th>2</th>\n",
       "      <td>1503960366</td>\n",
       "      <td>4/15/2016 12:00:00 AM</td>\n",
       "      <td>1</td>\n",
       "      <td>412</td>\n",
       "      <td>442</td>\n",
       "    </tr>\n",
       "    <tr>\n",
       "      <th>3</th>\n",
       "      <td>1503960366</td>\n",
       "      <td>4/16/2016 12:00:00 AM</td>\n",
       "      <td>2</td>\n",
       "      <td>340</td>\n",
       "      <td>367</td>\n",
       "    </tr>\n",
       "    <tr>\n",
       "      <th>4</th>\n",
       "      <td>1503960366</td>\n",
       "      <td>4/17/2016 12:00:00 AM</td>\n",
       "      <td>1</td>\n",
       "      <td>700</td>\n",
       "      <td>712</td>\n",
       "    </tr>\n",
       "  </tbody>\n",
       "</table>\n",
       "</div>"
      ],
      "text/plain": [
       "           Id               SleepDay  TotalSleepRecords  TotalMinutesAsleep  \\\n",
       "0  1503960366  4/12/2016 12:00:00 AM                  1                 327   \n",
       "1  1503960366  4/13/2016 12:00:00 AM                  2                 384   \n",
       "2  1503960366  4/15/2016 12:00:00 AM                  1                 412   \n",
       "3  1503960366  4/16/2016 12:00:00 AM                  2                 340   \n",
       "4  1503960366  4/17/2016 12:00:00 AM                  1                 700   \n",
       "\n",
       "   TotalTimeInBed  \n",
       "0             346  \n",
       "1             407  \n",
       "2             442  \n",
       "3             367  \n",
       "4             712  "
      ]
     },
     "execution_count": 27,
     "metadata": {},
     "output_type": "execute_result"
    }
   ],
   "source": [
    "# General viewing and inspection of the heartrate_seconds_merged dataset variables and data\n",
    "\n",
    "sleepDay_merged.head(5)"
   ]
  },
  {
   "cell_type": "markdown",
   "id": "ad1f081b-b6cb-4944-b3fa-186c31b01107",
   "metadata": {},
   "source": [
    "With this dataset, areas that can be addressed includes: sleep patterns, identifying outliers, sleep data by time, sleep quality/efficiency, etc.  For this project on this dataset, I will be focusing on sleep efficiency"
   ]
  },
  {
   "cell_type": "code",
   "execution_count": 28,
   "id": "f7f2c806-b804-4ab4-bdda-8ac1dc71512b",
   "metadata": {},
   "outputs": [],
   "source": [
    "sleepDay_merged['SleepEfficiency'] = sleepDay_merged['TotalMinutesAsleep']/sleepDay_merged['TotalTimeInBed'] * 100\n",
    "sleepDay_merged = sleepDay_merged[['Id', 'SleepDay', 'TotalSleepRecords', 'TotalMinutesAsleep', 'TotalTimeInBed', 'SleepEfficiency']]"
   ]
  },
  {
   "cell_type": "code",
   "execution_count": 29,
   "id": "1a115112-4185-4d54-89c9-e96a27120750",
   "metadata": {},
   "outputs": [
    {
     "data": {
      "text/html": [
       "<div>\n",
       "<style scoped>\n",
       "    .dataframe tbody tr th:only-of-type {\n",
       "        vertical-align: middle;\n",
       "    }\n",
       "\n",
       "    .dataframe tbody tr th {\n",
       "        vertical-align: top;\n",
       "    }\n",
       "\n",
       "    .dataframe thead th {\n",
       "        text-align: right;\n",
       "    }\n",
       "</style>\n",
       "<table border=\"1\" class=\"dataframe\">\n",
       "  <thead>\n",
       "    <tr style=\"text-align: right;\">\n",
       "      <th></th>\n",
       "      <th>Id</th>\n",
       "      <th>SleepDay</th>\n",
       "      <th>TotalSleepRecords</th>\n",
       "      <th>TotalMinutesAsleep</th>\n",
       "      <th>TotalTimeInBed</th>\n",
       "      <th>SleepEfficiency</th>\n",
       "    </tr>\n",
       "  </thead>\n",
       "  <tbody>\n",
       "    <tr>\n",
       "      <th>0</th>\n",
       "      <td>1503960366</td>\n",
       "      <td>4/12/2016 12:00:00 AM</td>\n",
       "      <td>1</td>\n",
       "      <td>327</td>\n",
       "      <td>346</td>\n",
       "      <td>94.508671</td>\n",
       "    </tr>\n",
       "    <tr>\n",
       "      <th>1</th>\n",
       "      <td>1503960366</td>\n",
       "      <td>4/13/2016 12:00:00 AM</td>\n",
       "      <td>2</td>\n",
       "      <td>384</td>\n",
       "      <td>407</td>\n",
       "      <td>94.348894</td>\n",
       "    </tr>\n",
       "    <tr>\n",
       "      <th>2</th>\n",
       "      <td>1503960366</td>\n",
       "      <td>4/15/2016 12:00:00 AM</td>\n",
       "      <td>1</td>\n",
       "      <td>412</td>\n",
       "      <td>442</td>\n",
       "      <td>93.212670</td>\n",
       "    </tr>\n",
       "    <tr>\n",
       "      <th>3</th>\n",
       "      <td>1503960366</td>\n",
       "      <td>4/16/2016 12:00:00 AM</td>\n",
       "      <td>2</td>\n",
       "      <td>340</td>\n",
       "      <td>367</td>\n",
       "      <td>92.643052</td>\n",
       "    </tr>\n",
       "    <tr>\n",
       "      <th>4</th>\n",
       "      <td>1503960366</td>\n",
       "      <td>4/17/2016 12:00:00 AM</td>\n",
       "      <td>1</td>\n",
       "      <td>700</td>\n",
       "      <td>712</td>\n",
       "      <td>98.314607</td>\n",
       "    </tr>\n",
       "    <tr>\n",
       "      <th>...</th>\n",
       "      <td>...</td>\n",
       "      <td>...</td>\n",
       "      <td>...</td>\n",
       "      <td>...</td>\n",
       "      <td>...</td>\n",
       "      <td>...</td>\n",
       "    </tr>\n",
       "    <tr>\n",
       "      <th>408</th>\n",
       "      <td>8792009665</td>\n",
       "      <td>4/30/2016 12:00:00 AM</td>\n",
       "      <td>1</td>\n",
       "      <td>343</td>\n",
       "      <td>360</td>\n",
       "      <td>95.277778</td>\n",
       "    </tr>\n",
       "    <tr>\n",
       "      <th>409</th>\n",
       "      <td>8792009665</td>\n",
       "      <td>5/1/2016 12:00:00 AM</td>\n",
       "      <td>1</td>\n",
       "      <td>503</td>\n",
       "      <td>527</td>\n",
       "      <td>95.445920</td>\n",
       "    </tr>\n",
       "    <tr>\n",
       "      <th>410</th>\n",
       "      <td>8792009665</td>\n",
       "      <td>5/2/2016 12:00:00 AM</td>\n",
       "      <td>1</td>\n",
       "      <td>415</td>\n",
       "      <td>423</td>\n",
       "      <td>98.108747</td>\n",
       "    </tr>\n",
       "    <tr>\n",
       "      <th>411</th>\n",
       "      <td>8792009665</td>\n",
       "      <td>5/3/2016 12:00:00 AM</td>\n",
       "      <td>1</td>\n",
       "      <td>516</td>\n",
       "      <td>545</td>\n",
       "      <td>94.678899</td>\n",
       "    </tr>\n",
       "    <tr>\n",
       "      <th>412</th>\n",
       "      <td>8792009665</td>\n",
       "      <td>5/4/2016 12:00:00 AM</td>\n",
       "      <td>1</td>\n",
       "      <td>439</td>\n",
       "      <td>463</td>\n",
       "      <td>94.816415</td>\n",
       "    </tr>\n",
       "  </tbody>\n",
       "</table>\n",
       "<p>413 rows × 6 columns</p>\n",
       "</div>"
      ],
      "text/plain": [
       "             Id               SleepDay  TotalSleepRecords  TotalMinutesAsleep  \\\n",
       "0    1503960366  4/12/2016 12:00:00 AM                  1                 327   \n",
       "1    1503960366  4/13/2016 12:00:00 AM                  2                 384   \n",
       "2    1503960366  4/15/2016 12:00:00 AM                  1                 412   \n",
       "3    1503960366  4/16/2016 12:00:00 AM                  2                 340   \n",
       "4    1503960366  4/17/2016 12:00:00 AM                  1                 700   \n",
       "..          ...                    ...                ...                 ...   \n",
       "408  8792009665  4/30/2016 12:00:00 AM                  1                 343   \n",
       "409  8792009665   5/1/2016 12:00:00 AM                  1                 503   \n",
       "410  8792009665   5/2/2016 12:00:00 AM                  1                 415   \n",
       "411  8792009665   5/3/2016 12:00:00 AM                  1                 516   \n",
       "412  8792009665   5/4/2016 12:00:00 AM                  1                 439   \n",
       "\n",
       "     TotalTimeInBed  SleepEfficiency  \n",
       "0               346        94.508671  \n",
       "1               407        94.348894  \n",
       "2               442        93.212670  \n",
       "3               367        92.643052  \n",
       "4               712        98.314607  \n",
       "..              ...              ...  \n",
       "408             360        95.277778  \n",
       "409             527        95.445920  \n",
       "410             423        98.108747  \n",
       "411             545        94.678899  \n",
       "412             463        94.816415  \n",
       "\n",
       "[413 rows x 6 columns]"
      ]
     },
     "execution_count": 29,
     "metadata": {},
     "output_type": "execute_result"
    }
   ],
   "source": [
    "sleepDay_merged"
   ]
  },
  {
   "cell_type": "code",
   "execution_count": 30,
   "id": "633eb558-8561-4ae0-9179-9b86273f7d89",
   "metadata": {},
   "outputs": [
    {
     "data": {
      "text/plain": [
       "Id                      int64\n",
       "SleepDay               object\n",
       "TotalSleepRecords       int64\n",
       "TotalMinutesAsleep      int64\n",
       "TotalTimeInBed          int64\n",
       "SleepEfficiency       float64\n",
       "dtype: object"
      ]
     },
     "execution_count": 30,
     "metadata": {},
     "output_type": "execute_result"
    }
   ],
   "source": [
    "# Checking the datatypes of heartrate_seconds_merged dataset variables\n",
    "\n",
    "sleepDay_merged.dtypes"
   ]
  },
  {
   "cell_type": "code",
   "execution_count": 31,
   "id": "3d29ad38-25a7-486a-a05e-de71ddebb246",
   "metadata": {},
   "outputs": [],
   "source": [
    "# Converting the Id and SleepDay datatype to 'string' and 'date format' data type respectively\n",
    "\n",
    "# Extracting date from SleepDay column\n",
    "sleepDay_merged['SleepDay'] = pd.to_datetime(sleepDay_merged['SleepDay']) # First convert to date format\n",
    "sleepDay_merged['ActivityDate'] = sleepDay_merged['SleepDay'].dt.date # Extract the date part\n",
    "\n",
    "# Rearranging columns\n",
    "sleepDay_merged = sleepDay_merged[['Id', 'SleepDay', 'ActivityDate', 'TotalSleepRecords', 'TotalMinutesAsleep', 'TotalTimeInBed', 'SleepEfficiency']]\n",
    "\n",
    "# Converting to the respective data types\n",
    "sleepDay_merged['Id'] = sleepDay_merged['Id'].astype(str)\n",
    "sleepDay_merged['ActivityDate'] = pd.to_datetime(sleepDay_merged['ActivityDate'])"
   ]
  },
  {
   "cell_type": "code",
   "execution_count": 32,
   "id": "6968f93d-243e-4814-bbc6-480b555a68be",
   "metadata": {},
   "outputs": [
    {
     "data": {
      "text/plain": [
       "Id                            object\n",
       "SleepDay              datetime64[ns]\n",
       "ActivityDate          datetime64[ns]\n",
       "TotalSleepRecords              int64\n",
       "TotalMinutesAsleep             int64\n",
       "TotalTimeInBed                 int64\n",
       "SleepEfficiency              float64\n",
       "dtype: object"
      ]
     },
     "execution_count": 32,
     "metadata": {},
     "output_type": "execute_result"
    }
   ],
   "source": [
    "sleepDay_merged.dtypes"
   ]
  },
  {
   "cell_type": "code",
   "execution_count": 33,
   "id": "6f13bf8a-9626-4c57-9cad-bdeb769f4464",
   "metadata": {},
   "outputs": [
    {
     "data": {
      "text/html": [
       "<div>\n",
       "<style scoped>\n",
       "    .dataframe tbody tr th:only-of-type {\n",
       "        vertical-align: middle;\n",
       "    }\n",
       "\n",
       "    .dataframe tbody tr th {\n",
       "        vertical-align: top;\n",
       "    }\n",
       "\n",
       "    .dataframe thead th {\n",
       "        text-align: right;\n",
       "    }\n",
       "</style>\n",
       "<table border=\"1\" class=\"dataframe\">\n",
       "  <thead>\n",
       "    <tr style=\"text-align: right;\">\n",
       "      <th></th>\n",
       "      <th>Id</th>\n",
       "      <th>SleepDay</th>\n",
       "      <th>ActivityDate</th>\n",
       "      <th>TotalSleepRecords</th>\n",
       "      <th>TotalMinutesAsleep</th>\n",
       "      <th>TotalTimeInBed</th>\n",
       "      <th>SleepEfficiency</th>\n",
       "    </tr>\n",
       "  </thead>\n",
       "  <tbody>\n",
       "    <tr>\n",
       "      <th>0</th>\n",
       "      <td>1503960366</td>\n",
       "      <td>2016-04-12</td>\n",
       "      <td>2016-04-12</td>\n",
       "      <td>1</td>\n",
       "      <td>327</td>\n",
       "      <td>346</td>\n",
       "      <td>94.508671</td>\n",
       "    </tr>\n",
       "    <tr>\n",
       "      <th>1</th>\n",
       "      <td>1503960366</td>\n",
       "      <td>2016-04-13</td>\n",
       "      <td>2016-04-13</td>\n",
       "      <td>2</td>\n",
       "      <td>384</td>\n",
       "      <td>407</td>\n",
       "      <td>94.348894</td>\n",
       "    </tr>\n",
       "    <tr>\n",
       "      <th>2</th>\n",
       "      <td>1503960366</td>\n",
       "      <td>2016-04-15</td>\n",
       "      <td>2016-04-15</td>\n",
       "      <td>1</td>\n",
       "      <td>412</td>\n",
       "      <td>442</td>\n",
       "      <td>93.212670</td>\n",
       "    </tr>\n",
       "    <tr>\n",
       "      <th>3</th>\n",
       "      <td>1503960366</td>\n",
       "      <td>2016-04-16</td>\n",
       "      <td>2016-04-16</td>\n",
       "      <td>2</td>\n",
       "      <td>340</td>\n",
       "      <td>367</td>\n",
       "      <td>92.643052</td>\n",
       "    </tr>\n",
       "    <tr>\n",
       "      <th>4</th>\n",
       "      <td>1503960366</td>\n",
       "      <td>2016-04-17</td>\n",
       "      <td>2016-04-17</td>\n",
       "      <td>1</td>\n",
       "      <td>700</td>\n",
       "      <td>712</td>\n",
       "      <td>98.314607</td>\n",
       "    </tr>\n",
       "    <tr>\n",
       "      <th>...</th>\n",
       "      <td>...</td>\n",
       "      <td>...</td>\n",
       "      <td>...</td>\n",
       "      <td>...</td>\n",
       "      <td>...</td>\n",
       "      <td>...</td>\n",
       "      <td>...</td>\n",
       "    </tr>\n",
       "    <tr>\n",
       "      <th>408</th>\n",
       "      <td>8792009665</td>\n",
       "      <td>2016-04-30</td>\n",
       "      <td>2016-04-30</td>\n",
       "      <td>1</td>\n",
       "      <td>343</td>\n",
       "      <td>360</td>\n",
       "      <td>95.277778</td>\n",
       "    </tr>\n",
       "    <tr>\n",
       "      <th>409</th>\n",
       "      <td>8792009665</td>\n",
       "      <td>2016-05-01</td>\n",
       "      <td>2016-05-01</td>\n",
       "      <td>1</td>\n",
       "      <td>503</td>\n",
       "      <td>527</td>\n",
       "      <td>95.445920</td>\n",
       "    </tr>\n",
       "    <tr>\n",
       "      <th>410</th>\n",
       "      <td>8792009665</td>\n",
       "      <td>2016-05-02</td>\n",
       "      <td>2016-05-02</td>\n",
       "      <td>1</td>\n",
       "      <td>415</td>\n",
       "      <td>423</td>\n",
       "      <td>98.108747</td>\n",
       "    </tr>\n",
       "    <tr>\n",
       "      <th>411</th>\n",
       "      <td>8792009665</td>\n",
       "      <td>2016-05-03</td>\n",
       "      <td>2016-05-03</td>\n",
       "      <td>1</td>\n",
       "      <td>516</td>\n",
       "      <td>545</td>\n",
       "      <td>94.678899</td>\n",
       "    </tr>\n",
       "    <tr>\n",
       "      <th>412</th>\n",
       "      <td>8792009665</td>\n",
       "      <td>2016-05-04</td>\n",
       "      <td>2016-05-04</td>\n",
       "      <td>1</td>\n",
       "      <td>439</td>\n",
       "      <td>463</td>\n",
       "      <td>94.816415</td>\n",
       "    </tr>\n",
       "  </tbody>\n",
       "</table>\n",
       "<p>413 rows × 7 columns</p>\n",
       "</div>"
      ],
      "text/plain": [
       "             Id   SleepDay ActivityDate  TotalSleepRecords  \\\n",
       "0    1503960366 2016-04-12   2016-04-12                  1   \n",
       "1    1503960366 2016-04-13   2016-04-13                  2   \n",
       "2    1503960366 2016-04-15   2016-04-15                  1   \n",
       "3    1503960366 2016-04-16   2016-04-16                  2   \n",
       "4    1503960366 2016-04-17   2016-04-17                  1   \n",
       "..          ...        ...          ...                ...   \n",
       "408  8792009665 2016-04-30   2016-04-30                  1   \n",
       "409  8792009665 2016-05-01   2016-05-01                  1   \n",
       "410  8792009665 2016-05-02   2016-05-02                  1   \n",
       "411  8792009665 2016-05-03   2016-05-03                  1   \n",
       "412  8792009665 2016-05-04   2016-05-04                  1   \n",
       "\n",
       "     TotalMinutesAsleep  TotalTimeInBed  SleepEfficiency  \n",
       "0                   327             346        94.508671  \n",
       "1                   384             407        94.348894  \n",
       "2                   412             442        93.212670  \n",
       "3                   340             367        92.643052  \n",
       "4                   700             712        98.314607  \n",
       "..                  ...             ...              ...  \n",
       "408                 343             360        95.277778  \n",
       "409                 503             527        95.445920  \n",
       "410                 415             423        98.108747  \n",
       "411                 516             545        94.678899  \n",
       "412                 439             463        94.816415  \n",
       "\n",
       "[413 rows x 7 columns]"
      ]
     },
     "execution_count": 33,
     "metadata": {},
     "output_type": "execute_result"
    }
   ],
   "source": [
    "sleepDay_merged"
   ]
  },
  {
   "cell_type": "code",
   "execution_count": 34,
   "id": "b841cca5-4970-4c70-84d9-0244707ed2f3",
   "metadata": {},
   "outputs": [],
   "source": [
    "# Checking for unique datatype"
   ]
  },
  {
   "cell_type": "code",
   "execution_count": 35,
   "id": "707bebf6-61d0-4aa1-945e-ec885550be10",
   "metadata": {},
   "outputs": [
    {
     "name": "stdout",
     "output_type": "stream",
     "text": [
      "Column Name: Count of Unique Data Types\n",
      "Id: 1\n",
      "SleepDay: 1\n",
      "ActivityDate: 1\n",
      "TotalSleepRecords: 1\n",
      "TotalMinutesAsleep: 1\n",
      "TotalTimeInBed: 1\n",
      "SleepEfficiency: 1\n"
     ]
    }
   ],
   "source": [
    "# Counting the number of unique data types in each column and store the result in a dictionary\n",
    "result = {}\n",
    "for column in sleepDay_merged.columns:\n",
    "    result[column] = count_unique_data_types(sleepDay_merged[column])\n",
    "\n",
    "# Printing the result with column names\n",
    "print(\"Column Name: Count of Unique Data Types\")\n",
    "for column, count in result.items():\n",
    "    print(f\"{column}: {count}\")"
   ]
  },
  {
   "cell_type": "code",
   "execution_count": 36,
   "id": "42f62d31-d4d8-4f96-b5df-7ecec273248f",
   "metadata": {},
   "outputs": [
    {
     "data": {
      "text/html": [
       "<div>\n",
       "<style scoped>\n",
       "    .dataframe tbody tr th:only-of-type {\n",
       "        vertical-align: middle;\n",
       "    }\n",
       "\n",
       "    .dataframe tbody tr th {\n",
       "        vertical-align: top;\n",
       "    }\n",
       "\n",
       "    .dataframe thead th {\n",
       "        text-align: right;\n",
       "    }\n",
       "</style>\n",
       "<table border=\"1\" class=\"dataframe\">\n",
       "  <thead>\n",
       "    <tr style=\"text-align: right;\">\n",
       "      <th></th>\n",
       "      <th>TotalSleepRecords</th>\n",
       "      <th>TotalMinutesAsleep</th>\n",
       "      <th>TotalTimeInBed</th>\n",
       "      <th>SleepEfficiency</th>\n",
       "    </tr>\n",
       "  </thead>\n",
       "  <tbody>\n",
       "    <tr>\n",
       "      <th>count</th>\n",
       "      <td>413.000000</td>\n",
       "      <td>413.000000</td>\n",
       "      <td>413.000000</td>\n",
       "      <td>413.000000</td>\n",
       "    </tr>\n",
       "    <tr>\n",
       "      <th>mean</th>\n",
       "      <td>1.118644</td>\n",
       "      <td>419.467312</td>\n",
       "      <td>458.639225</td>\n",
       "      <td>91.676921</td>\n",
       "    </tr>\n",
       "    <tr>\n",
       "      <th>std</th>\n",
       "      <td>0.345521</td>\n",
       "      <td>118.344679</td>\n",
       "      <td>127.101607</td>\n",
       "      <td>8.703885</td>\n",
       "    </tr>\n",
       "    <tr>\n",
       "      <th>min</th>\n",
       "      <td>1.000000</td>\n",
       "      <td>58.000000</td>\n",
       "      <td>61.000000</td>\n",
       "      <td>49.836066</td>\n",
       "    </tr>\n",
       "    <tr>\n",
       "      <th>25%</th>\n",
       "      <td>1.000000</td>\n",
       "      <td>361.000000</td>\n",
       "      <td>403.000000</td>\n",
       "      <td>91.218130</td>\n",
       "    </tr>\n",
       "    <tr>\n",
       "      <th>50%</th>\n",
       "      <td>1.000000</td>\n",
       "      <td>433.000000</td>\n",
       "      <td>463.000000</td>\n",
       "      <td>94.312796</td>\n",
       "    </tr>\n",
       "    <tr>\n",
       "      <th>75%</th>\n",
       "      <td>1.000000</td>\n",
       "      <td>490.000000</td>\n",
       "      <td>526.000000</td>\n",
       "      <td>96.068796</td>\n",
       "    </tr>\n",
       "    <tr>\n",
       "      <th>max</th>\n",
       "      <td>3.000000</td>\n",
       "      <td>796.000000</td>\n",
       "      <td>961.000000</td>\n",
       "      <td>100.000000</td>\n",
       "    </tr>\n",
       "  </tbody>\n",
       "</table>\n",
       "</div>"
      ],
      "text/plain": [
       "       TotalSleepRecords  TotalMinutesAsleep  TotalTimeInBed  SleepEfficiency\n",
       "count         413.000000          413.000000      413.000000       413.000000\n",
       "mean            1.118644          419.467312      458.639225        91.676921\n",
       "std             0.345521          118.344679      127.101607         8.703885\n",
       "min             1.000000           58.000000       61.000000        49.836066\n",
       "25%             1.000000          361.000000      403.000000        91.218130\n",
       "50%             1.000000          433.000000      463.000000        94.312796\n",
       "75%             1.000000          490.000000      526.000000        96.068796\n",
       "max             3.000000          796.000000      961.000000       100.000000"
      ]
     },
     "execution_count": 36,
     "metadata": {},
     "output_type": "execute_result"
    }
   ],
   "source": [
    "# Checking the descriptive statistics of the dataset\n",
    "sleepDay_merged.describe()"
   ]
  },
  {
   "cell_type": "code",
   "execution_count": 37,
   "id": "72953d32-aedf-4298-a6d1-6e15469b609a",
   "metadata": {},
   "outputs": [
    {
     "data": {
      "text/plain": [
       "0"
      ]
     },
     "execution_count": 37,
     "metadata": {},
     "output_type": "execute_result"
    }
   ],
   "source": [
    "# Number of rows with missing data\n",
    "sleepDay_merged.isna().any(axis=1).sum()"
   ]
  },
  {
   "cell_type": "code",
   "execution_count": null,
   "id": "56a8cbd8-6121-4734-8055-0c7d69d8c8e8",
   "metadata": {},
   "outputs": [],
   "source": []
  },
  {
   "cell_type": "markdown",
   "id": "5a867dc6-f19d-4701-80b6-0abf27ad2b99",
   "metadata": {},
   "source": [
    "**V. PROCESSING WEIGHTLOGINFO_MERGED DATASET**"
   ]
  },
  {
   "cell_type": "code",
   "execution_count": 38,
   "id": "35e7a63e-d143-4254-9b2f-3e24775a71b9",
   "metadata": {},
   "outputs": [
    {
     "data": {
      "text/html": [
       "<div>\n",
       "<style scoped>\n",
       "    .dataframe tbody tr th:only-of-type {\n",
       "        vertical-align: middle;\n",
       "    }\n",
       "\n",
       "    .dataframe tbody tr th {\n",
       "        vertical-align: top;\n",
       "    }\n",
       "\n",
       "    .dataframe thead th {\n",
       "        text-align: right;\n",
       "    }\n",
       "</style>\n",
       "<table border=\"1\" class=\"dataframe\">\n",
       "  <thead>\n",
       "    <tr style=\"text-align: right;\">\n",
       "      <th></th>\n",
       "      <th>Id</th>\n",
       "      <th>Date</th>\n",
       "      <th>WeightKg</th>\n",
       "      <th>WeightPounds</th>\n",
       "      <th>Fat</th>\n",
       "      <th>BMI</th>\n",
       "      <th>IsManualReport</th>\n",
       "      <th>LogId</th>\n",
       "    </tr>\n",
       "  </thead>\n",
       "  <tbody>\n",
       "    <tr>\n",
       "      <th>0</th>\n",
       "      <td>1503960366</td>\n",
       "      <td>5/2/2016 11:59:59 PM</td>\n",
       "      <td>52.599998</td>\n",
       "      <td>115.963147</td>\n",
       "      <td>22.0</td>\n",
       "      <td>22.650000</td>\n",
       "      <td>True</td>\n",
       "      <td>1462233599000</td>\n",
       "    </tr>\n",
       "    <tr>\n",
       "      <th>1</th>\n",
       "      <td>1503960366</td>\n",
       "      <td>5/3/2016 11:59:59 PM</td>\n",
       "      <td>52.599998</td>\n",
       "      <td>115.963147</td>\n",
       "      <td>NaN</td>\n",
       "      <td>22.650000</td>\n",
       "      <td>True</td>\n",
       "      <td>1462319999000</td>\n",
       "    </tr>\n",
       "    <tr>\n",
       "      <th>2</th>\n",
       "      <td>1927972279</td>\n",
       "      <td>4/13/2016 1:08:52 AM</td>\n",
       "      <td>133.500000</td>\n",
       "      <td>294.317120</td>\n",
       "      <td>NaN</td>\n",
       "      <td>47.540001</td>\n",
       "      <td>False</td>\n",
       "      <td>1460509732000</td>\n",
       "    </tr>\n",
       "    <tr>\n",
       "      <th>3</th>\n",
       "      <td>2873212765</td>\n",
       "      <td>4/21/2016 11:59:59 PM</td>\n",
       "      <td>56.700001</td>\n",
       "      <td>125.002104</td>\n",
       "      <td>NaN</td>\n",
       "      <td>21.450001</td>\n",
       "      <td>True</td>\n",
       "      <td>1461283199000</td>\n",
       "    </tr>\n",
       "    <tr>\n",
       "      <th>4</th>\n",
       "      <td>2873212765</td>\n",
       "      <td>5/12/2016 11:59:59 PM</td>\n",
       "      <td>57.299999</td>\n",
       "      <td>126.324875</td>\n",
       "      <td>NaN</td>\n",
       "      <td>21.690001</td>\n",
       "      <td>True</td>\n",
       "      <td>1463097599000</td>\n",
       "    </tr>\n",
       "  </tbody>\n",
       "</table>\n",
       "</div>"
      ],
      "text/plain": [
       "           Id                   Date    WeightKg  WeightPounds   Fat  \\\n",
       "0  1503960366   5/2/2016 11:59:59 PM   52.599998    115.963147  22.0   \n",
       "1  1503960366   5/3/2016 11:59:59 PM   52.599998    115.963147   NaN   \n",
       "2  1927972279   4/13/2016 1:08:52 AM  133.500000    294.317120   NaN   \n",
       "3  2873212765  4/21/2016 11:59:59 PM   56.700001    125.002104   NaN   \n",
       "4  2873212765  5/12/2016 11:59:59 PM   57.299999    126.324875   NaN   \n",
       "\n",
       "         BMI  IsManualReport          LogId  \n",
       "0  22.650000            True  1462233599000  \n",
       "1  22.650000            True  1462319999000  \n",
       "2  47.540001           False  1460509732000  \n",
       "3  21.450001            True  1461283199000  \n",
       "4  21.690001            True  1463097599000  "
      ]
     },
     "execution_count": 38,
     "metadata": {},
     "output_type": "execute_result"
    }
   ],
   "source": [
    "# General viewing and inspection of the heartrate_seconds_merged dataset variables and data\n",
    "\n",
    "weightLogInfo_merged.head(5)"
   ]
  },
  {
   "cell_type": "code",
   "execution_count": 39,
   "id": "0ee27d0c-2d7d-4155-8fec-0e26c3883025",
   "metadata": {},
   "outputs": [
    {
     "data": {
      "text/plain": [
       "Id                  int64\n",
       "Date               object\n",
       "WeightKg          float64\n",
       "WeightPounds      float64\n",
       "Fat               float64\n",
       "BMI               float64\n",
       "IsManualReport       bool\n",
       "LogId               int64\n",
       "dtype: object"
      ]
     },
     "execution_count": 39,
     "metadata": {},
     "output_type": "execute_result"
    }
   ],
   "source": [
    "# Checking the datatypes of weightLogInfo_merged dataset variables\n",
    "\n",
    "weightLogInfo_merged.dtypes"
   ]
  },
  {
   "cell_type": "code",
   "execution_count": 40,
   "id": "a90d10f1-7109-4b2c-a40e-b894704887dc",
   "metadata": {},
   "outputs": [],
   "source": [
    "# Converting datatype of Id and Date to 'string' and 'date format' data type respectively\n",
    "\n",
    "# Extracting date part from the Date column and assigning it to a new column 'ActivityDate'\n",
    "weightLogInfo_merged['Date'] = pd.to_datetime(weightLogInfo_merged['Date'])\n",
    "weightLogInfo_merged['ActivityDate'] = weightLogInfo_merged['Date'].dt.date\n",
    "\n",
    "# Rearrange columns\n",
    "weightLogInfo_merged = weightLogInfo_merged[['Id', 'Date', 'ActivityDate', 'WeightKg', 'WeightPounds', 'Fat', 'BMI', 'IsManualReport', 'LogId']]\n",
    "\n",
    "# Converting to the respective datatypes\n",
    "weightLogInfo_merged['Id'] = weightLogInfo_merged['Id'].astype(str)\n",
    "weightLogInfo_merged['ActivityDate'] = pd.to_datetime(weightLogInfo_merged['ActivityDate'])"
   ]
  },
  {
   "cell_type": "code",
   "execution_count": 41,
   "id": "596ceb94-ae15-4fc5-9159-afd5d4bf33c6",
   "metadata": {},
   "outputs": [
    {
     "data": {
      "text/plain": [
       "Id                        object\n",
       "Date              datetime64[ns]\n",
       "ActivityDate      datetime64[ns]\n",
       "WeightKg                 float64\n",
       "WeightPounds             float64\n",
       "Fat                      float64\n",
       "BMI                      float64\n",
       "IsManualReport              bool\n",
       "LogId                      int64\n",
       "dtype: object"
      ]
     },
     "execution_count": 41,
     "metadata": {},
     "output_type": "execute_result"
    }
   ],
   "source": [
    "weightLogInfo_merged.dtypes"
   ]
  },
  {
   "cell_type": "code",
   "execution_count": 42,
   "id": "885d2f37-120e-44ec-aa26-8410a69c7829",
   "metadata": {},
   "outputs": [],
   "source": [
    "# Checking for unique datatype"
   ]
  },
  {
   "cell_type": "code",
   "execution_count": 43,
   "id": "aecd0b89-ca88-417a-a6e0-5b298c35a9b6",
   "metadata": {},
   "outputs": [
    {
     "name": "stdout",
     "output_type": "stream",
     "text": [
      "Column Name: Count of Unique Data Types\n",
      "Id: 1\n",
      "Date: 1\n",
      "ActivityDate: 1\n",
      "WeightKg: 1\n",
      "WeightPounds: 1\n",
      "Fat: 1\n",
      "BMI: 1\n",
      "IsManualReport: 1\n",
      "LogId: 1\n"
     ]
    }
   ],
   "source": [
    "# Counting the number of unique data types in each column and store the result in a dictionary\n",
    "result = {}\n",
    "for column in weightLogInfo_merged.columns:\n",
    "    result[column] = count_unique_data_types(weightLogInfo_merged[column])\n",
    "\n",
    "# Printing the result with column names\n",
    "print(\"Column Name: Count of Unique Data Types\")\n",
    "for column, count in result.items():\n",
    "    print(f\"{column}: {count}\")"
   ]
  },
  {
   "cell_type": "code",
   "execution_count": 44,
   "id": "726e80b9-34d6-452d-afb0-fe0c10027358",
   "metadata": {},
   "outputs": [
    {
     "data": {
      "text/html": [
       "<div>\n",
       "<style scoped>\n",
       "    .dataframe tbody tr th:only-of-type {\n",
       "        vertical-align: middle;\n",
       "    }\n",
       "\n",
       "    .dataframe tbody tr th {\n",
       "        vertical-align: top;\n",
       "    }\n",
       "\n",
       "    .dataframe thead th {\n",
       "        text-align: right;\n",
       "    }\n",
       "</style>\n",
       "<table border=\"1\" class=\"dataframe\">\n",
       "  <thead>\n",
       "    <tr style=\"text-align: right;\">\n",
       "      <th></th>\n",
       "      <th>WeightKg</th>\n",
       "      <th>WeightPounds</th>\n",
       "      <th>Fat</th>\n",
       "      <th>BMI</th>\n",
       "      <th>LogId</th>\n",
       "    </tr>\n",
       "  </thead>\n",
       "  <tbody>\n",
       "    <tr>\n",
       "      <th>count</th>\n",
       "      <td>67.000000</td>\n",
       "      <td>67.000000</td>\n",
       "      <td>2.00000</td>\n",
       "      <td>67.000000</td>\n",
       "      <td>6.700000e+01</td>\n",
       "    </tr>\n",
       "    <tr>\n",
       "      <th>mean</th>\n",
       "      <td>72.035821</td>\n",
       "      <td>158.811801</td>\n",
       "      <td>23.50000</td>\n",
       "      <td>25.185224</td>\n",
       "      <td>1.461772e+12</td>\n",
       "    </tr>\n",
       "    <tr>\n",
       "      <th>std</th>\n",
       "      <td>13.923206</td>\n",
       "      <td>30.695415</td>\n",
       "      <td>2.12132</td>\n",
       "      <td>3.066963</td>\n",
       "      <td>7.829948e+08</td>\n",
       "    </tr>\n",
       "    <tr>\n",
       "      <th>min</th>\n",
       "      <td>52.599998</td>\n",
       "      <td>115.963147</td>\n",
       "      <td>22.00000</td>\n",
       "      <td>21.450001</td>\n",
       "      <td>1.460444e+12</td>\n",
       "    </tr>\n",
       "    <tr>\n",
       "      <th>25%</th>\n",
       "      <td>61.400002</td>\n",
       "      <td>135.363832</td>\n",
       "      <td>22.75000</td>\n",
       "      <td>23.959999</td>\n",
       "      <td>1.461079e+12</td>\n",
       "    </tr>\n",
       "    <tr>\n",
       "      <th>50%</th>\n",
       "      <td>62.500000</td>\n",
       "      <td>137.788914</td>\n",
       "      <td>23.50000</td>\n",
       "      <td>24.389999</td>\n",
       "      <td>1.461802e+12</td>\n",
       "    </tr>\n",
       "    <tr>\n",
       "      <th>75%</th>\n",
       "      <td>85.049999</td>\n",
       "      <td>187.503152</td>\n",
       "      <td>24.25000</td>\n",
       "      <td>25.559999</td>\n",
       "      <td>1.462375e+12</td>\n",
       "    </tr>\n",
       "    <tr>\n",
       "      <th>max</th>\n",
       "      <td>133.500000</td>\n",
       "      <td>294.317120</td>\n",
       "      <td>25.00000</td>\n",
       "      <td>47.540001</td>\n",
       "      <td>1.463098e+12</td>\n",
       "    </tr>\n",
       "  </tbody>\n",
       "</table>\n",
       "</div>"
      ],
      "text/plain": [
       "         WeightKg  WeightPounds       Fat        BMI         LogId\n",
       "count   67.000000     67.000000   2.00000  67.000000  6.700000e+01\n",
       "mean    72.035821    158.811801  23.50000  25.185224  1.461772e+12\n",
       "std     13.923206     30.695415   2.12132   3.066963  7.829948e+08\n",
       "min     52.599998    115.963147  22.00000  21.450001  1.460444e+12\n",
       "25%     61.400002    135.363832  22.75000  23.959999  1.461079e+12\n",
       "50%     62.500000    137.788914  23.50000  24.389999  1.461802e+12\n",
       "75%     85.049999    187.503152  24.25000  25.559999  1.462375e+12\n",
       "max    133.500000    294.317120  25.00000  47.540001  1.463098e+12"
      ]
     },
     "execution_count": 44,
     "metadata": {},
     "output_type": "execute_result"
    }
   ],
   "source": [
    "# Checking the descriptive statistics of the dataset\n",
    "weightLogInfo_merged.describe()"
   ]
  },
  {
   "cell_type": "code",
   "execution_count": 45,
   "id": "9f9da9b3-77df-45d4-8507-e8c287782283",
   "metadata": {},
   "outputs": [
    {
     "data": {
      "text/plain": [
       "65"
      ]
     },
     "execution_count": 45,
     "metadata": {},
     "output_type": "execute_result"
    }
   ],
   "source": [
    "# Number of rows with missing data\n",
    "weightLogInfo_merged.isna().any(axis=1).sum()"
   ]
  },
  {
   "cell_type": "markdown",
   "id": "2cbf8cd2-abeb-4d05-b4d6-74cb6a5db3a2",
   "metadata": {},
   "source": [
    "The above shows there are 65 rows having at least one value missing and this can be observed from the 'Fat' column  with 'NaN' data content.  however, the 'Fat' column wouldn't be of any use and could be disregarded.  Instaed the 'BMI' column is enough to address any health issue on ground."
   ]
  },
  {
   "cell_type": "code",
   "execution_count": null,
   "id": "bd48c69b-78ca-4994-9adf-a2d116bc75d5",
   "metadata": {},
   "outputs": [],
   "source": []
  },
  {
   "cell_type": "markdown",
   "id": "0f735e43-a3d4-4ee8-926b-8c4174b4b429",
   "metadata": {},
   "source": [
    "**VI. PROCESSING HOURLYCALORIES_MERGED DATASET**"
   ]
  },
  {
   "cell_type": "code",
   "execution_count": 46,
   "id": "9e2a1197-a9d2-46bd-9916-72efb00d5064",
   "metadata": {},
   "outputs": [
    {
     "data": {
      "text/html": [
       "<div>\n",
       "<style scoped>\n",
       "    .dataframe tbody tr th:only-of-type {\n",
       "        vertical-align: middle;\n",
       "    }\n",
       "\n",
       "    .dataframe tbody tr th {\n",
       "        vertical-align: top;\n",
       "    }\n",
       "\n",
       "    .dataframe thead th {\n",
       "        text-align: right;\n",
       "    }\n",
       "</style>\n",
       "<table border=\"1\" class=\"dataframe\">\n",
       "  <thead>\n",
       "    <tr style=\"text-align: right;\">\n",
       "      <th></th>\n",
       "      <th>Id</th>\n",
       "      <th>ActivityHour</th>\n",
       "      <th>Calories</th>\n",
       "    </tr>\n",
       "  </thead>\n",
       "  <tbody>\n",
       "    <tr>\n",
       "      <th>0</th>\n",
       "      <td>1503960366</td>\n",
       "      <td>4/12/2016 12:00:00 AM</td>\n",
       "      <td>81</td>\n",
       "    </tr>\n",
       "    <tr>\n",
       "      <th>1</th>\n",
       "      <td>1503960366</td>\n",
       "      <td>4/12/2016 1:00:00 AM</td>\n",
       "      <td>61</td>\n",
       "    </tr>\n",
       "    <tr>\n",
       "      <th>2</th>\n",
       "      <td>1503960366</td>\n",
       "      <td>4/12/2016 2:00:00 AM</td>\n",
       "      <td>59</td>\n",
       "    </tr>\n",
       "    <tr>\n",
       "      <th>3</th>\n",
       "      <td>1503960366</td>\n",
       "      <td>4/12/2016 3:00:00 AM</td>\n",
       "      <td>47</td>\n",
       "    </tr>\n",
       "    <tr>\n",
       "      <th>4</th>\n",
       "      <td>1503960366</td>\n",
       "      <td>4/12/2016 4:00:00 AM</td>\n",
       "      <td>48</td>\n",
       "    </tr>\n",
       "  </tbody>\n",
       "</table>\n",
       "</div>"
      ],
      "text/plain": [
       "           Id           ActivityHour  Calories\n",
       "0  1503960366  4/12/2016 12:00:00 AM        81\n",
       "1  1503960366   4/12/2016 1:00:00 AM        61\n",
       "2  1503960366   4/12/2016 2:00:00 AM        59\n",
       "3  1503960366   4/12/2016 3:00:00 AM        47\n",
       "4  1503960366   4/12/2016 4:00:00 AM        48"
      ]
     },
     "execution_count": 46,
     "metadata": {},
     "output_type": "execute_result"
    }
   ],
   "source": [
    "# General viewing and inspection of the hourlyCalories_merged dataset variables and data\n",
    "\n",
    "hourlyCalories_merged.head()"
   ]
  },
  {
   "cell_type": "code",
   "execution_count": 47,
   "id": "5265318d-e68b-44d2-8df0-4811d9ee29a6",
   "metadata": {},
   "outputs": [
    {
     "data": {
      "text/plain": [
       "Id               int64\n",
       "ActivityHour    object\n",
       "Calories         int64\n",
       "dtype: object"
      ]
     },
     "execution_count": 47,
     "metadata": {},
     "output_type": "execute_result"
    }
   ],
   "source": [
    "# Checking the datatypes dataset variables\n",
    "\n",
    "hourlyCalories_merged.dtypes"
   ]
  },
  {
   "cell_type": "code",
   "execution_count": 48,
   "id": "4bf785e0-db32-46eb-8e1c-febdcf066a74",
   "metadata": {},
   "outputs": [],
   "source": [
    "# Converting datatype to 'string' and 'date format' datatype respectively\n",
    "\n",
    "# Extracting the date part in the ActivityHour column and assigning it to another column \"ActivityDate\"\n",
    "hourlyCalories_merged['ActivityHour'] = pd.to_datetime(hourlyCalories_merged['ActivityHour'])\n",
    "hourlyCalories_merged['ActivityDate'] = hourlyCalories_merged['ActivityHour'].dt.date\n",
    "\n",
    "# Rearranging columns\n",
    "hourlyCalories_merged = hourlyCalories_merged[['Id', 'ActivityHour', 'ActivityDate', 'Calories']]\n",
    "\n",
    "# Converting to the respective datatype\n",
    "hourlyCalories_merged['Id'] = hourlyCalories_merged['Id'].astype(str)\n",
    "hourlyCalories_merged['ActivityDate'] = pd.to_datetime(hourlyCalories_merged['ActivityDate'])"
   ]
  },
  {
   "cell_type": "code",
   "execution_count": 49,
   "id": "fb71f3e2-c808-489a-b47c-e783557404ba",
   "metadata": {},
   "outputs": [
    {
     "data": {
      "text/plain": [
       "Id                      object\n",
       "ActivityHour    datetime64[ns]\n",
       "ActivityDate    datetime64[ns]\n",
       "Calories                 int64\n",
       "dtype: object"
      ]
     },
     "execution_count": 49,
     "metadata": {},
     "output_type": "execute_result"
    }
   ],
   "source": [
    "#  Cross-checking the datatypes\n",
    "hourlyCalories_merged.dtypes"
   ]
  },
  {
   "cell_type": "code",
   "execution_count": 50,
   "id": "7980347f-2403-4360-a29c-282d2555c664",
   "metadata": {},
   "outputs": [],
   "source": [
    "# Checking for unique datatype"
   ]
  },
  {
   "cell_type": "code",
   "execution_count": 51,
   "id": "dfaad218-146a-4641-a030-de4bc697044e",
   "metadata": {},
   "outputs": [
    {
     "name": "stdout",
     "output_type": "stream",
     "text": [
      "Column Name: Count of Unique Data Types\n",
      "Id: 1\n",
      "ActivityHour: 1\n",
      "ActivityDate: 1\n",
      "Calories: 1\n"
     ]
    }
   ],
   "source": [
    "# Counting the number of unique data types in each column and store the result in a dictionary\n",
    "result = {}\n",
    "for column in hourlyCalories_merged.columns:\n",
    "    result[column] = count_unique_data_types(hourlyCalories_merged[column])\n",
    "\n",
    "# Printing the result with column names\n",
    "print(\"Column Name: Count of Unique Data Types\")\n",
    "for column, count in result.items():\n",
    "    print(f\"{column}: {count}\")"
   ]
  },
  {
   "cell_type": "code",
   "execution_count": 52,
   "id": "9e066b62-3bad-45bc-a966-de3b8a91d07e",
   "metadata": {},
   "outputs": [
    {
     "data": {
      "text/html": [
       "<div>\n",
       "<style scoped>\n",
       "    .dataframe tbody tr th:only-of-type {\n",
       "        vertical-align: middle;\n",
       "    }\n",
       "\n",
       "    .dataframe tbody tr th {\n",
       "        vertical-align: top;\n",
       "    }\n",
       "\n",
       "    .dataframe thead th {\n",
       "        text-align: right;\n",
       "    }\n",
       "</style>\n",
       "<table border=\"1\" class=\"dataframe\">\n",
       "  <thead>\n",
       "    <tr style=\"text-align: right;\">\n",
       "      <th></th>\n",
       "      <th>Calories</th>\n",
       "    </tr>\n",
       "  </thead>\n",
       "  <tbody>\n",
       "    <tr>\n",
       "      <th>count</th>\n",
       "      <td>22099.000000</td>\n",
       "    </tr>\n",
       "    <tr>\n",
       "      <th>mean</th>\n",
       "      <td>97.386760</td>\n",
       "    </tr>\n",
       "    <tr>\n",
       "      <th>std</th>\n",
       "      <td>60.702622</td>\n",
       "    </tr>\n",
       "    <tr>\n",
       "      <th>min</th>\n",
       "      <td>42.000000</td>\n",
       "    </tr>\n",
       "    <tr>\n",
       "      <th>25%</th>\n",
       "      <td>63.000000</td>\n",
       "    </tr>\n",
       "    <tr>\n",
       "      <th>50%</th>\n",
       "      <td>83.000000</td>\n",
       "    </tr>\n",
       "    <tr>\n",
       "      <th>75%</th>\n",
       "      <td>108.000000</td>\n",
       "    </tr>\n",
       "    <tr>\n",
       "      <th>max</th>\n",
       "      <td>948.000000</td>\n",
       "    </tr>\n",
       "  </tbody>\n",
       "</table>\n",
       "</div>"
      ],
      "text/plain": [
       "           Calories\n",
       "count  22099.000000\n",
       "mean      97.386760\n",
       "std       60.702622\n",
       "min       42.000000\n",
       "25%       63.000000\n",
       "50%       83.000000\n",
       "75%      108.000000\n",
       "max      948.000000"
      ]
     },
     "execution_count": 52,
     "metadata": {},
     "output_type": "execute_result"
    }
   ],
   "source": [
    "# Checking the descriptive statistics of the dataset\n",
    "\n",
    "hourlyCalories_merged.describe()"
   ]
  },
  {
   "cell_type": "code",
   "execution_count": 53,
   "id": "753e3ad3-c6c1-46f3-adcc-ea8ea8be7f02",
   "metadata": {},
   "outputs": [
    {
     "data": {
      "text/plain": [
       "0"
      ]
     },
     "execution_count": 53,
     "metadata": {},
     "output_type": "execute_result"
    }
   ],
   "source": [
    "# Number of rows with missing data\n",
    "hourlyCalories_merged.isna().any(axis=1).sum()"
   ]
  },
  {
   "cell_type": "code",
   "execution_count": null,
   "id": "00f57698-c7f7-45d3-b78d-62863ff889b8",
   "metadata": {},
   "outputs": [],
   "source": []
  },
  {
   "cell_type": "markdown",
   "id": "e96933a5-7d96-4cf6-a6fc-bed73ebae22c",
   "metadata": {},
   "source": [
    "**VII. PROCESSING HOURLYINTENSITIES_MERGED DATASET**"
   ]
  },
  {
   "cell_type": "code",
   "execution_count": 54,
   "id": "25378e55-97f1-4e10-866f-e46da4acaf82",
   "metadata": {},
   "outputs": [
    {
     "data": {
      "text/html": [
       "<div>\n",
       "<style scoped>\n",
       "    .dataframe tbody tr th:only-of-type {\n",
       "        vertical-align: middle;\n",
       "    }\n",
       "\n",
       "    .dataframe tbody tr th {\n",
       "        vertical-align: top;\n",
       "    }\n",
       "\n",
       "    .dataframe thead th {\n",
       "        text-align: right;\n",
       "    }\n",
       "</style>\n",
       "<table border=\"1\" class=\"dataframe\">\n",
       "  <thead>\n",
       "    <tr style=\"text-align: right;\">\n",
       "      <th></th>\n",
       "      <th>Id</th>\n",
       "      <th>ActivityHour</th>\n",
       "      <th>TotalIntensity</th>\n",
       "      <th>AverageIntensity</th>\n",
       "    </tr>\n",
       "  </thead>\n",
       "  <tbody>\n",
       "    <tr>\n",
       "      <th>0</th>\n",
       "      <td>1503960366</td>\n",
       "      <td>4/12/2016 12:00:00 AM</td>\n",
       "      <td>20</td>\n",
       "      <td>0.333333</td>\n",
       "    </tr>\n",
       "    <tr>\n",
       "      <th>1</th>\n",
       "      <td>1503960366</td>\n",
       "      <td>4/12/2016 1:00:00 AM</td>\n",
       "      <td>8</td>\n",
       "      <td>0.133333</td>\n",
       "    </tr>\n",
       "    <tr>\n",
       "      <th>2</th>\n",
       "      <td>1503960366</td>\n",
       "      <td>4/12/2016 2:00:00 AM</td>\n",
       "      <td>7</td>\n",
       "      <td>0.116667</td>\n",
       "    </tr>\n",
       "    <tr>\n",
       "      <th>3</th>\n",
       "      <td>1503960366</td>\n",
       "      <td>4/12/2016 3:00:00 AM</td>\n",
       "      <td>0</td>\n",
       "      <td>0.000000</td>\n",
       "    </tr>\n",
       "    <tr>\n",
       "      <th>4</th>\n",
       "      <td>1503960366</td>\n",
       "      <td>4/12/2016 4:00:00 AM</td>\n",
       "      <td>0</td>\n",
       "      <td>0.000000</td>\n",
       "    </tr>\n",
       "  </tbody>\n",
       "</table>\n",
       "</div>"
      ],
      "text/plain": [
       "           Id           ActivityHour  TotalIntensity  AverageIntensity\n",
       "0  1503960366  4/12/2016 12:00:00 AM              20          0.333333\n",
       "1  1503960366   4/12/2016 1:00:00 AM               8          0.133333\n",
       "2  1503960366   4/12/2016 2:00:00 AM               7          0.116667\n",
       "3  1503960366   4/12/2016 3:00:00 AM               0          0.000000\n",
       "4  1503960366   4/12/2016 4:00:00 AM               0          0.000000"
      ]
     },
     "execution_count": 54,
     "metadata": {},
     "output_type": "execute_result"
    }
   ],
   "source": [
    "# General viewing and inspection of the heartrate_seconds_merged dataset variables and data\n",
    "\n",
    "hourlyIntensities_merged.head()"
   ]
  },
  {
   "cell_type": "code",
   "execution_count": 55,
   "id": "c64390a4-14ae-4e3b-bcd9-304735cae4cf",
   "metadata": {},
   "outputs": [
    {
     "data": {
      "text/plain": [
       "Id                    int64\n",
       "ActivityHour         object\n",
       "TotalIntensity        int64\n",
       "AverageIntensity    float64\n",
       "dtype: object"
      ]
     },
     "execution_count": 55,
     "metadata": {},
     "output_type": "execute_result"
    }
   ],
   "source": [
    "# Checking the datatypes dataset variables\n",
    "\n",
    "hourlyIntensities_merged.dtypes"
   ]
  },
  {
   "cell_type": "code",
   "execution_count": 56,
   "id": "96f85a66-2514-41f8-8832-0c6f20f6c66d",
   "metadata": {},
   "outputs": [],
   "source": [
    "# Converting datatype to 'string' and 'date format' datatype respectively\n",
    "\n",
    "# Extracting the date part from the ActivityHour column and assigning it to a new column 'ActivityDate'\n",
    "hourlyIntensities_merged['ActivityHour'] = pd.to_datetime(hourlyIntensities_merged['ActivityHour'])\n",
    "hourlyIntensities_merged['ActivityDate'] = hourlyIntensities_merged['ActivityHour'].dt.date\n",
    "\n",
    "# Rearranging columns\n",
    "hourlyIntensities_merged = hourlyIntensities_merged[['Id', 'ActivityHour', 'ActivityDate', 'TotalIntensity', 'AverageIntensity']]\n",
    "\n",
    "# Converting to the respective datatype\n",
    "hourlyIntensities_merged['Id'] = hourlyIntensities_merged['Id'].astype(str)\n",
    "hourlyIntensities_merged['ActivityDate'] = pd.to_datetime(hourlyIntensities_merged['ActivityDate'])"
   ]
  },
  {
   "cell_type": "code",
   "execution_count": 57,
   "id": "fcd23f46-7b1a-4e37-a433-f847505470a0",
   "metadata": {},
   "outputs": [
    {
     "data": {
      "text/plain": [
       "Id                          object\n",
       "ActivityHour        datetime64[ns]\n",
       "ActivityDate        datetime64[ns]\n",
       "TotalIntensity               int64\n",
       "AverageIntensity           float64\n",
       "dtype: object"
      ]
     },
     "execution_count": 57,
     "metadata": {},
     "output_type": "execute_result"
    }
   ],
   "source": [
    "#  Cross-checking the datatypes\n",
    "\n",
    "hourlyIntensities_merged.dtypes"
   ]
  },
  {
   "cell_type": "code",
   "execution_count": 58,
   "id": "dd7117a1-4f65-4e1c-8e7c-5e7cba219a33",
   "metadata": {},
   "outputs": [],
   "source": [
    "# Checking for unique datatype"
   ]
  },
  {
   "cell_type": "code",
   "execution_count": 59,
   "id": "22a861cc-b60a-4aa1-819f-25c4030d1fbf",
   "metadata": {},
   "outputs": [
    {
     "name": "stdout",
     "output_type": "stream",
     "text": [
      "Column Name: Count of Unique Data Types\n",
      "Id: 1\n",
      "ActivityHour: 1\n",
      "ActivityDate: 1\n",
      "TotalIntensity: 1\n",
      "AverageIntensity: 1\n"
     ]
    }
   ],
   "source": [
    "# Counting the number of unique data types in each column and store the result in a dictionary\n",
    "\n",
    "result = {}\n",
    "for column in hourlyIntensities_merged.columns:\n",
    "    result[column] = count_unique_data_types(hourlyIntensities_merged[column])\n",
    "\n",
    "print('Column Name: Count of Unique Data Types')\n",
    "for column, count in result.items():\n",
    "    print(f\"{column}: {count}\")"
   ]
  },
  {
   "cell_type": "code",
   "execution_count": 60,
   "id": "2c14615c-188b-4eb6-a706-382a6867c82d",
   "metadata": {},
   "outputs": [
    {
     "data": {
      "text/html": [
       "<div>\n",
       "<style scoped>\n",
       "    .dataframe tbody tr th:only-of-type {\n",
       "        vertical-align: middle;\n",
       "    }\n",
       "\n",
       "    .dataframe tbody tr th {\n",
       "        vertical-align: top;\n",
       "    }\n",
       "\n",
       "    .dataframe thead th {\n",
       "        text-align: right;\n",
       "    }\n",
       "</style>\n",
       "<table border=\"1\" class=\"dataframe\">\n",
       "  <thead>\n",
       "    <tr style=\"text-align: right;\">\n",
       "      <th></th>\n",
       "      <th>TotalIntensity</th>\n",
       "      <th>AverageIntensity</th>\n",
       "    </tr>\n",
       "  </thead>\n",
       "  <tbody>\n",
       "    <tr>\n",
       "      <th>count</th>\n",
       "      <td>22099.000000</td>\n",
       "      <td>22099.000000</td>\n",
       "    </tr>\n",
       "    <tr>\n",
       "      <th>mean</th>\n",
       "      <td>12.035341</td>\n",
       "      <td>0.200589</td>\n",
       "    </tr>\n",
       "    <tr>\n",
       "      <th>std</th>\n",
       "      <td>21.133110</td>\n",
       "      <td>0.352219</td>\n",
       "    </tr>\n",
       "    <tr>\n",
       "      <th>min</th>\n",
       "      <td>0.000000</td>\n",
       "      <td>0.000000</td>\n",
       "    </tr>\n",
       "    <tr>\n",
       "      <th>25%</th>\n",
       "      <td>0.000000</td>\n",
       "      <td>0.000000</td>\n",
       "    </tr>\n",
       "    <tr>\n",
       "      <th>50%</th>\n",
       "      <td>3.000000</td>\n",
       "      <td>0.050000</td>\n",
       "    </tr>\n",
       "    <tr>\n",
       "      <th>75%</th>\n",
       "      <td>16.000000</td>\n",
       "      <td>0.266667</td>\n",
       "    </tr>\n",
       "    <tr>\n",
       "      <th>max</th>\n",
       "      <td>180.000000</td>\n",
       "      <td>3.000000</td>\n",
       "    </tr>\n",
       "  </tbody>\n",
       "</table>\n",
       "</div>"
      ],
      "text/plain": [
       "       TotalIntensity  AverageIntensity\n",
       "count    22099.000000      22099.000000\n",
       "mean        12.035341          0.200589\n",
       "std         21.133110          0.352219\n",
       "min          0.000000          0.000000\n",
       "25%          0.000000          0.000000\n",
       "50%          3.000000          0.050000\n",
       "75%         16.000000          0.266667\n",
       "max        180.000000          3.000000"
      ]
     },
     "execution_count": 60,
     "metadata": {},
     "output_type": "execute_result"
    }
   ],
   "source": [
    "# Checking the descriptive statistics of the dataset\n",
    "\n",
    "hourlyIntensities_merged.describe()"
   ]
  },
  {
   "cell_type": "code",
   "execution_count": 61,
   "id": "9cbf73bc-bffc-4291-8a05-9e84593dd524",
   "metadata": {},
   "outputs": [
    {
     "data": {
      "text/plain": [
       "count    22099.000000\n",
       "mean        12.035341\n",
       "std         21.133110\n",
       "min          0.000000\n",
       "25%          0.000000\n",
       "50%          3.000000\n",
       "75%         16.000000\n",
       "max        180.000000\n",
       "Name: TotalIntensity, dtype: float64"
      ]
     },
     "execution_count": 61,
     "metadata": {},
     "output_type": "execute_result"
    }
   ],
   "source": [
    "hourlyIntensities_merged['TotalIntensity'].describe()"
   ]
  },
  {
   "cell_type": "code",
   "execution_count": 62,
   "id": "d6ee0c52-8f34-4e9a-8bb0-c08b25689507",
   "metadata": {},
   "outputs": [
    {
     "data": {
      "text/plain": [
       "0"
      ]
     },
     "execution_count": 62,
     "metadata": {},
     "output_type": "execute_result"
    }
   ],
   "source": [
    "# Number of rows with missing data\n",
    "hourlyIntensities_merged.isna().any(axis=1).sum()"
   ]
  },
  {
   "cell_type": "code",
   "execution_count": null,
   "id": "bba26b1d-9c75-4a98-bcad-5d0548039e73",
   "metadata": {},
   "outputs": [],
   "source": []
  },
  {
   "cell_type": "markdown",
   "id": "e29614b1-1d99-43a0-a6b1-826be6eb7ed7",
   "metadata": {},
   "source": [
    "**VIII. PROCESSING MINUTECALORIESNARROW_MERGED DATASET**"
   ]
  },
  {
   "cell_type": "code",
   "execution_count": 63,
   "id": "0cceddd0-3dae-4171-b732-82a271b704df",
   "metadata": {},
   "outputs": [
    {
     "data": {
      "text/html": [
       "<div>\n",
       "<style scoped>\n",
       "    .dataframe tbody tr th:only-of-type {\n",
       "        vertical-align: middle;\n",
       "    }\n",
       "\n",
       "    .dataframe tbody tr th {\n",
       "        vertical-align: top;\n",
       "    }\n",
       "\n",
       "    .dataframe thead th {\n",
       "        text-align: right;\n",
       "    }\n",
       "</style>\n",
       "<table border=\"1\" class=\"dataframe\">\n",
       "  <thead>\n",
       "    <tr style=\"text-align: right;\">\n",
       "      <th></th>\n",
       "      <th>Id</th>\n",
       "      <th>ActivityMinute</th>\n",
       "      <th>Calories</th>\n",
       "    </tr>\n",
       "  </thead>\n",
       "  <tbody>\n",
       "    <tr>\n",
       "      <th>0</th>\n",
       "      <td>1503960366</td>\n",
       "      <td>4/12/2016 12:00:00 AM</td>\n",
       "      <td>0.7865</td>\n",
       "    </tr>\n",
       "    <tr>\n",
       "      <th>1</th>\n",
       "      <td>1503960366</td>\n",
       "      <td>4/12/2016 12:01:00 AM</td>\n",
       "      <td>0.7865</td>\n",
       "    </tr>\n",
       "    <tr>\n",
       "      <th>2</th>\n",
       "      <td>1503960366</td>\n",
       "      <td>4/12/2016 12:02:00 AM</td>\n",
       "      <td>0.7865</td>\n",
       "    </tr>\n",
       "    <tr>\n",
       "      <th>3</th>\n",
       "      <td>1503960366</td>\n",
       "      <td>4/12/2016 12:03:00 AM</td>\n",
       "      <td>0.7865</td>\n",
       "    </tr>\n",
       "    <tr>\n",
       "      <th>4</th>\n",
       "      <td>1503960366</td>\n",
       "      <td>4/12/2016 12:04:00 AM</td>\n",
       "      <td>0.7865</td>\n",
       "    </tr>\n",
       "  </tbody>\n",
       "</table>\n",
       "</div>"
      ],
      "text/plain": [
       "           Id         ActivityMinute  Calories\n",
       "0  1503960366  4/12/2016 12:00:00 AM    0.7865\n",
       "1  1503960366  4/12/2016 12:01:00 AM    0.7865\n",
       "2  1503960366  4/12/2016 12:02:00 AM    0.7865\n",
       "3  1503960366  4/12/2016 12:03:00 AM    0.7865\n",
       "4  1503960366  4/12/2016 12:04:00 AM    0.7865"
      ]
     },
     "execution_count": 63,
     "metadata": {},
     "output_type": "execute_result"
    }
   ],
   "source": [
    "# General viewing and inspection of the heartrate_seconds_merged dataset variables and data\n",
    "\n",
    "minuteCaloriesNarrow_merged.head()"
   ]
  },
  {
   "cell_type": "code",
   "execution_count": 64,
   "id": "4627129a-b167-4291-bd40-ad41108428e5",
   "metadata": {},
   "outputs": [
    {
     "data": {
      "text/plain": [
       "Id                  int64\n",
       "ActivityMinute     object\n",
       "Calories          float64\n",
       "dtype: object"
      ]
     },
     "execution_count": 64,
     "metadata": {},
     "output_type": "execute_result"
    }
   ],
   "source": [
    "# Checking the datatypes dataset variables\n",
    "\n",
    "minuteCaloriesNarrow_merged.dtypes"
   ]
  },
  {
   "cell_type": "code",
   "execution_count": 65,
   "id": "75b6066a-d386-4b4f-8f15-900fce85eef1",
   "metadata": {},
   "outputs": [],
   "source": [
    "# Converting datatype to 'string' and 'date format' datatype respectively\n",
    "\n",
    "# Extracting the date part from the ActivityMinute column and assigning it to a new column 'ActivityDate'\n",
    "minuteCaloriesNarrow_merged['ActivityMinute'] = pd.to_datetime(minuteCaloriesNarrow_merged['ActivityMinute'])\n",
    "minuteCaloriesNarrow_merged['ActivityDate'] = minuteCaloriesNarrow_merged['ActivityMinute'].dt.date\n",
    "\n",
    "# Rearranging columns\n",
    "minuteCaloriesNarrow_merged = minuteCaloriesNarrow_merged[['Id','ActivityMinute','ActivityDate','Calories']]\n",
    "\n",
    "# Converting to the respective datatype\n",
    "minuteCaloriesNarrow_merged['Id'] = minuteCaloriesNarrow_merged['Id'].astype(str)\n",
    "minuteCaloriesNarrow_merged['ActivityDate'] = pd.to_datetime(minuteCaloriesNarrow_merged['ActivityDate'])"
   ]
  },
  {
   "cell_type": "code",
   "execution_count": 66,
   "id": "2e85a1a6-f87b-4811-b685-721a7195c0f6",
   "metadata": {},
   "outputs": [
    {
     "data": {
      "text/plain": [
       "Id                        object\n",
       "ActivityMinute    datetime64[ns]\n",
       "ActivityDate      datetime64[ns]\n",
       "Calories                 float64\n",
       "dtype: object"
      ]
     },
     "execution_count": 66,
     "metadata": {},
     "output_type": "execute_result"
    }
   ],
   "source": [
    "#  Cross-checking the datatypes\n",
    "minuteCaloriesNarrow_merged.dtypes"
   ]
  },
  {
   "cell_type": "code",
   "execution_count": 67,
   "id": "4eedb91b-6ea4-4c56-89b2-8f13af4e2e9b",
   "metadata": {},
   "outputs": [],
   "source": [
    "# Checking for unique datatype"
   ]
  },
  {
   "cell_type": "code",
   "execution_count": 68,
   "id": "d64e7748-4720-4fee-867a-b833ae3cb0ca",
   "metadata": {},
   "outputs": [
    {
     "name": "stdout",
     "output_type": "stream",
     "text": [
      "Column Name: Count of Unique Data Types\n",
      "Id: 1\n",
      "ActivityMinute: 1\n",
      "ActivityDate: 1\n",
      "Calories: 1\n"
     ]
    }
   ],
   "source": [
    "# Counting the number of unique data types in each column and store the result in a dictionary\n",
    "result = {}\n",
    "for column in minuteCaloriesNarrow_merged.columns:\n",
    "    result[column] = count_unique_data_types(minuteCaloriesNarrow_merged[column])\n",
    "\n",
    "print('Column Name: Count of Unique Data Types')\n",
    "for column, count in result.items():\n",
    "    print(f\"{column}: {count}\")"
   ]
  },
  {
   "cell_type": "code",
   "execution_count": 69,
   "id": "15be24e1-98a4-432b-9670-67536a0f0ba0",
   "metadata": {},
   "outputs": [
    {
     "data": {
      "text/html": [
       "<div>\n",
       "<style scoped>\n",
       "    .dataframe tbody tr th:only-of-type {\n",
       "        vertical-align: middle;\n",
       "    }\n",
       "\n",
       "    .dataframe tbody tr th {\n",
       "        vertical-align: top;\n",
       "    }\n",
       "\n",
       "    .dataframe thead th {\n",
       "        text-align: right;\n",
       "    }\n",
       "</style>\n",
       "<table border=\"1\" class=\"dataframe\">\n",
       "  <thead>\n",
       "    <tr style=\"text-align: right;\">\n",
       "      <th></th>\n",
       "      <th>Calories</th>\n",
       "    </tr>\n",
       "  </thead>\n",
       "  <tbody>\n",
       "    <tr>\n",
       "      <th>count</th>\n",
       "      <td>1.325580e+06</td>\n",
       "    </tr>\n",
       "    <tr>\n",
       "      <th>mean</th>\n",
       "      <td>1.623130e+00</td>\n",
       "    </tr>\n",
       "    <tr>\n",
       "      <th>std</th>\n",
       "      <td>1.410447e+00</td>\n",
       "    </tr>\n",
       "    <tr>\n",
       "      <th>min</th>\n",
       "      <td>0.000000e+00</td>\n",
       "    </tr>\n",
       "    <tr>\n",
       "      <th>25%</th>\n",
       "      <td>9.357000e-01</td>\n",
       "    </tr>\n",
       "    <tr>\n",
       "      <th>50%</th>\n",
       "      <td>1.217600e+00</td>\n",
       "    </tr>\n",
       "    <tr>\n",
       "      <th>75%</th>\n",
       "      <td>1.432700e+00</td>\n",
       "    </tr>\n",
       "    <tr>\n",
       "      <th>max</th>\n",
       "      <td>1.974995e+01</td>\n",
       "    </tr>\n",
       "  </tbody>\n",
       "</table>\n",
       "</div>"
      ],
      "text/plain": [
       "           Calories\n",
       "count  1.325580e+06\n",
       "mean   1.623130e+00\n",
       "std    1.410447e+00\n",
       "min    0.000000e+00\n",
       "25%    9.357000e-01\n",
       "50%    1.217600e+00\n",
       "75%    1.432700e+00\n",
       "max    1.974995e+01"
      ]
     },
     "execution_count": 69,
     "metadata": {},
     "output_type": "execute_result"
    }
   ],
   "source": [
    "# Checking the descriptive statistics of the dataset\n",
    "minuteCaloriesNarrow_merged.describe()"
   ]
  },
  {
   "cell_type": "code",
   "execution_count": 70,
   "id": "d557a56f-5351-4c83-9144-303255c28f81",
   "metadata": {},
   "outputs": [
    {
     "data": {
      "text/plain": [
       "0"
      ]
     },
     "execution_count": 70,
     "metadata": {},
     "output_type": "execute_result"
    }
   ],
   "source": [
    "# Number of rows with missing data\n",
    "minuteCaloriesNarrow_merged.isna().any(axis=1).sum()"
   ]
  },
  {
   "cell_type": "code",
   "execution_count": null,
   "id": "dd108721-10ed-45a5-9d5f-e2f74390152b",
   "metadata": {},
   "outputs": [],
   "source": []
  },
  {
   "cell_type": "markdown",
   "id": "272bea10-c5bd-476a-8239-dde2d420ff64",
   "metadata": {},
   "source": [
    "**IX. PROCESSING MINUTECALORIESWIDE_MERGED DATASET**"
   ]
  },
  {
   "cell_type": "code",
   "execution_count": 71,
   "id": "40b71581-2504-43e7-9641-2d3ab3425e3a",
   "metadata": {},
   "outputs": [
    {
     "data": {
      "text/html": [
       "<div>\n",
       "<style scoped>\n",
       "    .dataframe tbody tr th:only-of-type {\n",
       "        vertical-align: middle;\n",
       "    }\n",
       "\n",
       "    .dataframe tbody tr th {\n",
       "        vertical-align: top;\n",
       "    }\n",
       "\n",
       "    .dataframe thead th {\n",
       "        text-align: right;\n",
       "    }\n",
       "</style>\n",
       "<table border=\"1\" class=\"dataframe\">\n",
       "  <thead>\n",
       "    <tr style=\"text-align: right;\">\n",
       "      <th></th>\n",
       "      <th>Id</th>\n",
       "      <th>ActivityMinute</th>\n",
       "      <th>ActivityDate</th>\n",
       "      <th>Calories</th>\n",
       "    </tr>\n",
       "  </thead>\n",
       "  <tbody>\n",
       "    <tr>\n",
       "      <th>0</th>\n",
       "      <td>1503960366</td>\n",
       "      <td>2016-04-12 00:00:00</td>\n",
       "      <td>2016-04-12</td>\n",
       "      <td>0.7865</td>\n",
       "    </tr>\n",
       "    <tr>\n",
       "      <th>1</th>\n",
       "      <td>1503960366</td>\n",
       "      <td>2016-04-12 00:01:00</td>\n",
       "      <td>2016-04-12</td>\n",
       "      <td>0.7865</td>\n",
       "    </tr>\n",
       "    <tr>\n",
       "      <th>2</th>\n",
       "      <td>1503960366</td>\n",
       "      <td>2016-04-12 00:02:00</td>\n",
       "      <td>2016-04-12</td>\n",
       "      <td>0.7865</td>\n",
       "    </tr>\n",
       "    <tr>\n",
       "      <th>3</th>\n",
       "      <td>1503960366</td>\n",
       "      <td>2016-04-12 00:03:00</td>\n",
       "      <td>2016-04-12</td>\n",
       "      <td>0.7865</td>\n",
       "    </tr>\n",
       "    <tr>\n",
       "      <th>4</th>\n",
       "      <td>1503960366</td>\n",
       "      <td>2016-04-12 00:04:00</td>\n",
       "      <td>2016-04-12</td>\n",
       "      <td>0.7865</td>\n",
       "    </tr>\n",
       "  </tbody>\n",
       "</table>\n",
       "</div>"
      ],
      "text/plain": [
       "           Id      ActivityMinute ActivityDate  Calories\n",
       "0  1503960366 2016-04-12 00:00:00   2016-04-12    0.7865\n",
       "1  1503960366 2016-04-12 00:01:00   2016-04-12    0.7865\n",
       "2  1503960366 2016-04-12 00:02:00   2016-04-12    0.7865\n",
       "3  1503960366 2016-04-12 00:03:00   2016-04-12    0.7865\n",
       "4  1503960366 2016-04-12 00:04:00   2016-04-12    0.7865"
      ]
     },
     "execution_count": 71,
     "metadata": {},
     "output_type": "execute_result"
    }
   ],
   "source": [
    "# General viewing and inspection of the heartrate_seconds_merged dataset variables and data\n",
    "\n",
    "minuteCaloriesNarrow_merged.head()"
   ]
  },
  {
   "cell_type": "code",
   "execution_count": 72,
   "id": "2ce7abd6-4db0-4861-8282-d00863d043bf",
   "metadata": {},
   "outputs": [
    {
     "data": {
      "text/plain": [
       "Id                        object\n",
       "ActivityMinute    datetime64[ns]\n",
       "ActivityDate      datetime64[ns]\n",
       "Calories                 float64\n",
       "dtype: object"
      ]
     },
     "execution_count": 72,
     "metadata": {},
     "output_type": "execute_result"
    }
   ],
   "source": [
    "# Checking the datatypes dataset variables\n",
    "\n",
    "minuteCaloriesNarrow_merged.dtypes"
   ]
  },
  {
   "cell_type": "code",
   "execution_count": 73,
   "id": "076318f2-7fa5-46a6-80ed-3ddade300c5a",
   "metadata": {},
   "outputs": [],
   "source": [
    "# Converting datatype to 'string' and 'date format' datatype respectively\n",
    "\n",
    "# Extracting the date part from 'ActivityMinute' column and assigning it to a new column 'ActivityDate'\n",
    "minuteCaloriesNarrow_merged['ActivityMinute'] = pd.to_datetime(minuteCaloriesNarrow_merged['ActivityMinute'])\n",
    "minuteCaloriesNarrow_merged['ActivityDate'] = minuteCaloriesNarrow_merged['ActivityMinute'].dt.date\n",
    "\n",
    "# Rearranging column\n",
    "minuteCaloriesNarrow_merged = minuteCaloriesNarrow_merged[['Id','ActivityMinute','ActivityDate','Calories']]\n",
    "\n",
    "# Converting to the respective datatype\n",
    "minuteCaloriesNarrow_merged['Id'] = minuteCaloriesNarrow_merged['Id'].astype(str)\n",
    "minuteCaloriesNarrow_merged['ActivityDate'] = pd.to_datetime(minuteCaloriesNarrow_merged['ActivityDate'])"
   ]
  },
  {
   "cell_type": "code",
   "execution_count": 74,
   "id": "54ac1b35-7aa0-4d98-9206-25230bb4ee0f",
   "metadata": {},
   "outputs": [
    {
     "data": {
      "text/plain": [
       "Id                        object\n",
       "ActivityMinute    datetime64[ns]\n",
       "ActivityDate      datetime64[ns]\n",
       "Calories                 float64\n",
       "dtype: object"
      ]
     },
     "execution_count": 74,
     "metadata": {},
     "output_type": "execute_result"
    }
   ],
   "source": [
    "# Cross-checking the datatypes\n",
    "minuteCaloriesNarrow_merged.dtypes"
   ]
  },
  {
   "cell_type": "code",
   "execution_count": 75,
   "id": "4c131468-d50f-4abe-8412-9163d142282f",
   "metadata": {},
   "outputs": [],
   "source": [
    "# Checking for unique datatype"
   ]
  },
  {
   "cell_type": "code",
   "execution_count": 76,
   "id": "5dbe3450-fb67-4667-a5be-942f3b2878f9",
   "metadata": {},
   "outputs": [
    {
     "name": "stdout",
     "output_type": "stream",
     "text": [
      "Column Name: Count of Unique Data Types\n",
      "Id: 1\n",
      "ActivityMinute: 1\n",
      "ActivityDate: 1\n",
      "Calories: 1\n"
     ]
    }
   ],
   "source": [
    "# Counting the number of unique data types in each column and store the result in a dictionary\n",
    "result = {}\n",
    "for column in minuteCaloriesNarrow_merged.columns:\n",
    "    result[column] = count_unique_data_types(minuteCaloriesNarrow_merged[column])\n",
    "\n",
    "print('Column Name: Count of Unique Data Types')\n",
    "for column, count in  result.items():\n",
    "    print(f\"{column}: {count}\")"
   ]
  },
  {
   "cell_type": "code",
   "execution_count": 77,
   "id": "7d4a4f58-21c7-47a1-83cc-35246cd78f2e",
   "metadata": {},
   "outputs": [
    {
     "data": {
      "text/html": [
       "<div>\n",
       "<style scoped>\n",
       "    .dataframe tbody tr th:only-of-type {\n",
       "        vertical-align: middle;\n",
       "    }\n",
       "\n",
       "    .dataframe tbody tr th {\n",
       "        vertical-align: top;\n",
       "    }\n",
       "\n",
       "    .dataframe thead th {\n",
       "        text-align: right;\n",
       "    }\n",
       "</style>\n",
       "<table border=\"1\" class=\"dataframe\">\n",
       "  <thead>\n",
       "    <tr style=\"text-align: right;\">\n",
       "      <th></th>\n",
       "      <th>Calories</th>\n",
       "    </tr>\n",
       "  </thead>\n",
       "  <tbody>\n",
       "    <tr>\n",
       "      <th>count</th>\n",
       "      <td>1.325580e+06</td>\n",
       "    </tr>\n",
       "    <tr>\n",
       "      <th>mean</th>\n",
       "      <td>1.623130e+00</td>\n",
       "    </tr>\n",
       "    <tr>\n",
       "      <th>std</th>\n",
       "      <td>1.410447e+00</td>\n",
       "    </tr>\n",
       "    <tr>\n",
       "      <th>min</th>\n",
       "      <td>0.000000e+00</td>\n",
       "    </tr>\n",
       "    <tr>\n",
       "      <th>25%</th>\n",
       "      <td>9.357000e-01</td>\n",
       "    </tr>\n",
       "    <tr>\n",
       "      <th>50%</th>\n",
       "      <td>1.217600e+00</td>\n",
       "    </tr>\n",
       "    <tr>\n",
       "      <th>75%</th>\n",
       "      <td>1.432700e+00</td>\n",
       "    </tr>\n",
       "    <tr>\n",
       "      <th>max</th>\n",
       "      <td>1.974995e+01</td>\n",
       "    </tr>\n",
       "  </tbody>\n",
       "</table>\n",
       "</div>"
      ],
      "text/plain": [
       "           Calories\n",
       "count  1.325580e+06\n",
       "mean   1.623130e+00\n",
       "std    1.410447e+00\n",
       "min    0.000000e+00\n",
       "25%    9.357000e-01\n",
       "50%    1.217600e+00\n",
       "75%    1.432700e+00\n",
       "max    1.974995e+01"
      ]
     },
     "execution_count": 77,
     "metadata": {},
     "output_type": "execute_result"
    }
   ],
   "source": [
    "# Checking the descriptive statistics of the dataset\n",
    "minuteCaloriesNarrow_merged.describe()"
   ]
  },
  {
   "cell_type": "code",
   "execution_count": 78,
   "id": "9d354d13-a030-478c-806c-c0480526c6d1",
   "metadata": {},
   "outputs": [
    {
     "data": {
      "text/plain": [
       "0"
      ]
     },
     "execution_count": 78,
     "metadata": {},
     "output_type": "execute_result"
    }
   ],
   "source": [
    "# Number of rows with missing data\n",
    "minuteCaloriesNarrow_merged.isna().any(axis=1).sum()"
   ]
  },
  {
   "cell_type": "markdown",
   "id": "942fd88a-f563-479b-adc7-33f31f6fd04f",
   "metadata": {},
   "source": [
    "## 4 ANALYSIS"
   ]
  },
  {
   "cell_type": "markdown",
   "id": "b3446bf8-77b9-40e7-80fc-57c46896c107",
   "metadata": {},
   "source": [
    "**4.1 Discovering patterns**"
   ]
  },
  {
   "cell_type": "markdown",
   "id": "6b08c0b3-727c-4146-a42f-bfd971626623",
   "metadata": {},
   "source": [
    "**4.1.1 Pattern distribution of user category**\n",
    "-  **Concentration of user type**\n",
    "\n",
    "From the processing of the dailyActivity_merged dataset, the following variables will be accessed for user's physical activities:\n",
    "- Calories\n",
    "- TotalSteps\n",
    "- TotalDistance\n",
    "\n",
    "Using the result from the above, the following can be derived:\n",
    "\n",
    "- The amount of user categories based on distance covered\n",
    "- The amount of user categories based on minutes spent\n",
    "\n",
    "Users will be judged on the above variables based on their active distance covered and active minutes used during physical activities.  For both the active distance covered and the minutes used, the following will be derived:\n",
    "- Sedentary\n",
    "- Lightly Active\n",
    "- Moderately Active\n",
    "- Very Active"
   ]
  },
  {
   "cell_type": "code",
   "execution_count": 124,
   "id": "d14372e3-4de8-4785-a407-35521931a44b",
   "metadata": {},
   "outputs": [
    {
     "data": {
      "text/html": [
       "<div>\n",
       "<style scoped>\n",
       "    .dataframe tbody tr th:only-of-type {\n",
       "        vertical-align: middle;\n",
       "    }\n",
       "\n",
       "    .dataframe tbody tr th {\n",
       "        vertical-align: top;\n",
       "    }\n",
       "\n",
       "    .dataframe thead th {\n",
       "        text-align: right;\n",
       "    }\n",
       "</style>\n",
       "<table border=\"1\" class=\"dataframe\">\n",
       "  <thead>\n",
       "    <tr style=\"text-align: right;\">\n",
       "      <th></th>\n",
       "      <th>Id</th>\n",
       "      <th>userTypeDistance</th>\n",
       "      <th>Calories</th>\n",
       "      <th>TotalSteps</th>\n",
       "      <th>TotalDistance</th>\n",
       "    </tr>\n",
       "  </thead>\n",
       "  <tbody>\n",
       "    <tr>\n",
       "      <th>9</th>\n",
       "      <td>1503960366</td>\n",
       "      <td>Lightly Active</td>\n",
       "      <td>1775</td>\n",
       "      <td>9819</td>\n",
       "      <td>6.34</td>\n",
       "    </tr>\n",
       "    <tr>\n",
       "      <th>12</th>\n",
       "      <td>1503960366</td>\n",
       "      <td>Very Active</td>\n",
       "      <td>1788</td>\n",
       "      <td>10039</td>\n",
       "      <td>6.41</td>\n",
       "    </tr>\n",
       "    <tr>\n",
       "      <th>17</th>\n",
       "      <td>1503960366</td>\n",
       "      <td>Lightly Active</td>\n",
       "      <td>1837</td>\n",
       "      <td>11181</td>\n",
       "      <td>7.15</td>\n",
       "    </tr>\n",
       "    <tr>\n",
       "      <th>26</th>\n",
       "      <td>1503960366</td>\n",
       "      <td>Very Active</td>\n",
       "      <td>1740</td>\n",
       "      <td>10060</td>\n",
       "      <td>6.58</td>\n",
       "    </tr>\n",
       "    <tr>\n",
       "      <th>31</th>\n",
       "      <td>1624580081</td>\n",
       "      <td>Lightly Active</td>\n",
       "      <td>1432</td>\n",
       "      <td>8163</td>\n",
       "      <td>5.31</td>\n",
       "    </tr>\n",
       "  </tbody>\n",
       "</table>\n",
       "</div>"
      ],
      "text/plain": [
       "            Id userTypeDistance  Calories  TotalSteps  TotalDistance\n",
       "9   1503960366   Lightly Active      1775        9819           6.34\n",
       "12  1503960366      Very Active      1788       10039           6.41\n",
       "17  1503960366   Lightly Active      1837       11181           7.15\n",
       "26  1503960366      Very Active      1740       10060           6.58\n",
       "31  1624580081   Lightly Active      1432        8163           5.31"
      ]
     },
     "execution_count": 124,
     "metadata": {},
     "output_type": "execute_result"
    }
   ],
   "source": [
    "# classifying users based on their distance covering activities\n",
    "\n",
    "dataset_by_usertype_distance = dailyActivity_merged\n",
    "\n",
    "mean_SedentaryActiveDistance = dataset_by_usertype_distance['SedentaryActiveDistance'].mean()\n",
    "mean_LightActiveDistance = dataset_by_usertype_distance['LightActiveDistance'].mean()\n",
    "mean_ModeratelyActiveDistance = dataset_by_usertype_distance['ModeratelyActiveDistance'].mean()\n",
    "mean_VeryActiveDistance = dataset_by_usertype_distance['VeryActiveDistance'].mean()\n",
    "\n",
    "# Defining a function to classify user activity(distance) based on multiple columns (SedentaryActiveDistance, LightActiveDistance, ModeratelyActiveDistance, and VeryActiveDistance)\n",
    "def usertypeDistance_class(row):\n",
    "    SedentaryActiveDistance = row['SedentaryActiveDistance']\n",
    "    LightActiveDistance = row['LightActiveDistance']\n",
    "    ModeratelyActiveDistance = row['ModeratelyActiveDistance']\n",
    "    VeryActiveDistance = row['VeryActiveDistance']\n",
    "    \n",
    "    if SedentaryActiveDistance > mean_SedentaryActiveDistance and \\\n",
    "        LightActiveDistance < mean_LightActiveDistance and \\\n",
    "        ModeratelyActiveDistance < mean_ModeratelyActiveDistance and \\\n",
    "        VeryActiveDistance < mean_VeryActiveDistance:\n",
    "        return 'Sedentary'\n",
    "    elif SedentaryActiveDistance < mean_SedentaryActiveDistance and \\\n",
    "        LightActiveDistance > mean_LightActiveDistance and \\\n",
    "        ModeratelyActiveDistance < mean_ModeratelyActiveDistance and \\\n",
    "        VeryActiveDistance < mean_VeryActiveDistance:\n",
    "        return 'Lightly Active'\n",
    "    elif SedentaryActiveDistance < mean_SedentaryActiveDistance and \\\n",
    "        LightActiveDistance < mean_LightActiveDistance and \\\n",
    "        ModeratelyActiveDistance > mean_ModeratelyActiveDistance and \\\n",
    "        VeryActiveDistance < mean_VeryActiveDistance:\n",
    "        return 'Moderately Active'\n",
    "    elif SedentaryActiveDistance < mean_SedentaryActiveDistance and \\\n",
    "        LightActiveDistance < mean_LightActiveDistance and \\\n",
    "        ModeratelyActiveDistance < mean_ModeratelyActiveDistance and \\\n",
    "        VeryActiveDistance > mean_VeryActiveDistance:\n",
    "        return 'Very Active'\n",
    "    \n",
    "    return 'none'\n",
    "\n",
    "# Applying the function to create the 'userTypeDistance' column\n",
    "dataset_by_usertype_distance['userTypeDistance'] = dataset_by_usertype_distance.apply(usertypeDistance_class, axis=1)\n",
    "\n",
    "# Selecting required columns\n",
    "dataset_by_usertype_distance = dataset_by_usertype_distance[['Id', 'userTypeDistance', 'Calories', 'TotalSteps', 'TotalDistance']]\n",
    "\n",
    "# Cleaning the dataset (eliminating records where the userTypeDistance column contains 'none'\n",
    "dataset_by_usertype_distance = dataset_by_usertype_distance[dataset_by_usertype_distance['userTypeDistance'] != 'none']\n",
    "dataset_by_usertype_distance.head()"
   ]
  },
  {
   "cell_type": "code",
   "execution_count": 80,
   "id": "25a8b2bc-e540-40dc-b485-0b220a3755f9",
   "metadata": {},
   "outputs": [
    {
     "data": {
      "text/plain": [
       "Lightly Active       166\n",
       "Very Active           54\n",
       "Moderately Active     34\n",
       "Sedentary             18\n",
       "Name: userTypeDistance, dtype: int64"
      ]
     },
     "execution_count": 80,
     "metadata": {},
     "output_type": "execute_result"
    }
   ],
   "source": [
    "# Accessing the number of usertypes based on distance\n",
    "usertype_by_distance_count = dataset_by_usertype_distance['userTypeDistance'].value_counts()\n",
    "usertype_by_distance_count"
   ]
  },
  {
   "cell_type": "markdown",
   "id": "5360fc24-171d-4814-b425-92a5899dc376",
   "metadata": {},
   "source": [
    "Initially, there were 668 activities classified as 'none'.  If an individual based on his physical activities does not fulfil the requirement condition on either being **sedentary, moderately active, lightly active, or very active**, it means this person shows some kind of irregularity in his physical activities or is not easily categorized by traditional standards.  This might indicate a need for further examination or consideration of their specific activities and lifestyle to better understand their physical activity patterns.  However, for simplicity, these records were filtered out.\n",
    "\n",
    "Permit me to convert the above series into a proper dataframe."
   ]
  },
  {
   "cell_type": "code",
   "execution_count": 81,
   "id": "37f705fb-27fd-4966-902a-1bced4b77790",
   "metadata": {},
   "outputs": [
    {
     "data": {
      "text/html": [
       "<div>\n",
       "<style scoped>\n",
       "    .dataframe tbody tr th:only-of-type {\n",
       "        vertical-align: middle;\n",
       "    }\n",
       "\n",
       "    .dataframe tbody tr th {\n",
       "        vertical-align: top;\n",
       "    }\n",
       "\n",
       "    .dataframe thead th {\n",
       "        text-align: right;\n",
       "    }\n",
       "</style>\n",
       "<table border=\"1\" class=\"dataframe\">\n",
       "  <thead>\n",
       "    <tr style=\"text-align: right;\">\n",
       "      <th></th>\n",
       "      <th>userTypeDistance</th>\n",
       "      <th>Total</th>\n",
       "    </tr>\n",
       "  </thead>\n",
       "  <tbody>\n",
       "    <tr>\n",
       "      <th>0</th>\n",
       "      <td>Lightly Active</td>\n",
       "      <td>166</td>\n",
       "    </tr>\n",
       "    <tr>\n",
       "      <th>1</th>\n",
       "      <td>Very Active</td>\n",
       "      <td>54</td>\n",
       "    </tr>\n",
       "    <tr>\n",
       "      <th>2</th>\n",
       "      <td>Moderately Active</td>\n",
       "      <td>34</td>\n",
       "    </tr>\n",
       "    <tr>\n",
       "      <th>3</th>\n",
       "      <td>Sedentary</td>\n",
       "      <td>18</td>\n",
       "    </tr>\n",
       "  </tbody>\n",
       "</table>\n",
       "</div>"
      ],
      "text/plain": [
       "    userTypeDistance  Total\n",
       "0     Lightly Active    166\n",
       "1        Very Active     54\n",
       "2  Moderately Active     34\n",
       "3          Sedentary     18"
      ]
     },
     "execution_count": 81,
     "metadata": {},
     "output_type": "execute_result"
    }
   ],
   "source": [
    "# Converting the above value counts to DataFrame and adding column headers\n",
    "usertype_by_distance_count_df = pd.DataFrame(usertype_by_distance_count)\n",
    "usertype_by_distance_count_df.reset_index(inplace=True)\n",
    "usertype_by_distance_count_df.columns = ['userTypeDistance', 'Total']\n",
    "usertype_by_distance_count_df"
   ]
  },
  {
   "cell_type": "code",
   "execution_count": 82,
   "id": "f761c230-bb10-4034-9d2f-dce8e224c1f4",
   "metadata": {},
   "outputs": [
    {
     "data": {
      "image/png": "[encoded data removed]",
      "text/plain": [
       "<Figure size 1000x600 with 1 Axes>"
      ]
     },
     "metadata": {},
     "output_type": "display_data"
    }
   ],
   "source": [
    "# Making an bar plot of userTypeDistance against Total counts\n",
    "\n",
    "# Plotting the bar chart\n",
    "plt.figure(figsize=(10, 6))\n",
    "plt.bar(usertype_by_distance_count_df['userTypeDistance'], usertype_by_distance_count_df['Total'], color='skyblue')\n",
    "\n",
    "# Adding labels and title\n",
    "plt.xlabel('User Type Distance')\n",
    "plt.ylabel('Total')\n",
    "plt.title('Total against UserTypeDistance')\n",
    "\n",
    "# Rotating x-axis labels for better visibility\n",
    "plt.xticks(rotation=45, ha='right')\n",
    "\n",
    "# Display the plot\n",
    "plt.tight_layout()\n",
    "plt.show()"
   ]
  },
  {
   "cell_type": "markdown",
   "id": "a1393948-c7f6-4c44-9b17-5b34333c7905",
   "metadata": {},
   "source": [
    "The above result shows that there more uncategorized users whose activities based on the distance they covered are not regular.  This is an indication that such users are not consistent in their daily exercise routine, hence it will be difficult for them to know where they fall under which is an issue."
   ]
  },
  {
   "cell_type": "code",
   "execution_count": 140,
   "id": "7d94e6f8-711c-4b67-b56c-281cfdfc4801",
   "metadata": {},
   "outputs": [
    {
     "data": {
      "text/html": [
       "<div>\n",
       "<style scoped>\n",
       "    .dataframe tbody tr th:only-of-type {\n",
       "        vertical-align: middle;\n",
       "    }\n",
       "\n",
       "    .dataframe tbody tr th {\n",
       "        vertical-align: top;\n",
       "    }\n",
       "\n",
       "    .dataframe thead th {\n",
       "        text-align: right;\n",
       "    }\n",
       "</style>\n",
       "<table border=\"1\" class=\"dataframe\">\n",
       "  <thead>\n",
       "    <tr style=\"text-align: right;\">\n",
       "      <th></th>\n",
       "      <th>Id</th>\n",
       "      <th>userTypeMinutes</th>\n",
       "      <th>Calories</th>\n",
       "      <th>TotalSteps</th>\n",
       "      <th>TotalDistance</th>\n",
       "    </tr>\n",
       "  </thead>\n",
       "  <tbody>\n",
       "    <tr>\n",
       "      <th>9</th>\n",
       "      <td>1503960366</td>\n",
       "      <td>Lightly Active</td>\n",
       "      <td>1775</td>\n",
       "      <td>9819</td>\n",
       "      <td>6.34</td>\n",
       "    </tr>\n",
       "    <tr>\n",
       "      <th>17</th>\n",
       "      <td>1503960366</td>\n",
       "      <td>Lightly Active</td>\n",
       "      <td>1837</td>\n",
       "      <td>11181</td>\n",
       "      <td>7.15</td>\n",
       "    </tr>\n",
       "    <tr>\n",
       "      <th>30</th>\n",
       "      <td>1503960366</td>\n",
       "      <td>Sedentary</td>\n",
       "      <td>0</td>\n",
       "      <td>0</td>\n",
       "      <td>0.00</td>\n",
       "    </tr>\n",
       "    <tr>\n",
       "      <th>31</th>\n",
       "      <td>1624580081</td>\n",
       "      <td>Sedentary</td>\n",
       "      <td>1432</td>\n",
       "      <td>8163</td>\n",
       "      <td>5.31</td>\n",
       "    </tr>\n",
       "    <tr>\n",
       "      <th>32</th>\n",
       "      <td>1624580081</td>\n",
       "      <td>Sedentary</td>\n",
       "      <td>1411</td>\n",
       "      <td>7007</td>\n",
       "      <td>4.55</td>\n",
       "    </tr>\n",
       "  </tbody>\n",
       "</table>\n",
       "</div>"
      ],
      "text/plain": [
       "            Id userTypeMinutes  Calories  TotalSteps  TotalDistance\n",
       "9   1503960366  Lightly Active      1775        9819           6.34\n",
       "17  1503960366  Lightly Active      1837       11181           7.15\n",
       "30  1503960366       Sedentary         0           0           0.00\n",
       "31  1624580081       Sedentary      1432        8163           5.31\n",
       "32  1624580081       Sedentary      1411        7007           4.55"
      ]
     },
     "execution_count": 140,
     "metadata": {},
     "output_type": "execute_result"
    }
   ],
   "source": [
    "# classifying users based on their minute spending activities\n",
    "\n",
    "dataset_by_usertype_minutes = dailyActivity_merged\n",
    "\n",
    "# Calculating means\n",
    "mean_SedentaryActiveMinutes = dataset_by_usertype_minutes['SedentaryMinutes'].mean()\n",
    "mean_LightActiveMinutes = dataset_by_usertype_minutes['LightlyActiveMinutes'].mean()\n",
    "mean_ModeratelyActiveMinutes = dataset_by_usertype_minutes['FairlyActiveMinutes'].mean()\n",
    "mean_VeryActiveMinutes = dataset_by_usertype_minutes['VeryActiveMinutes'].mean()\n",
    "\n",
    "# Creating boolean masks based on conditions\n",
    "mask_sedentary = dataset_by_usertype_minutes['SedentaryMinutes'] > mean_SedentaryActiveMinutes\n",
    "mask_light_active = dataset_by_usertype_minutes['LightlyActiveMinutes'] > mean_LightActiveMinutes\n",
    "mask_moderately_active = dataset_by_usertype_minutes['FairlyActiveMinutes'] > mean_ModeratelyActiveMinutes\n",
    "mask_very_active = dataset_by_usertype_minutes['VeryActiveMinutes'] > mean_VeryActiveMinutes\n",
    "\n",
    "# Initializing 'userTypeDistance' column with 'none'\n",
    "dataset_by_usertype_minutes['userTypeMinutes'] = 'none'\n",
    "\n",
    "# Assigning appropriate values based on conditions\n",
    "dataset_by_usertype_minutes.loc[mask_sedentary & ~mask_light_active & ~mask_moderately_active & ~mask_very_active, 'userTypeMinutes'] = 'Sedentary'\n",
    "dataset_by_usertype_minutes.loc[~mask_sedentary & mask_light_active & ~mask_moderately_active & ~mask_very_active, 'userTypeMinutes'] = 'Lightly Active'\n",
    "dataset_by_usertype_minutes.loc[~mask_sedentary & ~mask_light_active & mask_moderately_active & ~mask_very_active, 'userTypeMinutes'] = 'Moderately Active'\n",
    "dataset_by_usertype_minutes.loc[~mask_sedentary & ~mask_light_active & ~mask_moderately_active & mask_very_active, 'userTypeMinutes'] = 'Very Active'\n",
    "\n",
    "# Selecting required columns\n",
    "dataset_by_usertype_minutes = dataset_by_usertype_minutes[['Id', 'userTypeMinutes', 'Calories', 'TotalSteps', 'TotalDistance']]\n",
    "\n",
    "# Data cleaning of userTypeMinutes columns containing none\n",
    "dataset_by_usertype_minutes = dataset_by_usertype_minutes[dataset_by_usertype_minutes['userTypeMinutes'] != 'none']\n",
    "\n",
    "# Displaying the resulting DataFrame\n",
    "dataset_by_usertype_minutes.head()"
   ]
  },
  {
   "cell_type": "code",
   "execution_count": 141,
   "id": "6f66bff1-3756-4eeb-b503-28c0ddc640d2",
   "metadata": {},
   "outputs": [
    {
     "data": {
      "text/plain": [
       "Sedentary            187\n",
       "Lightly Active       107\n",
       "Very Active           22\n",
       "Moderately Active     12\n",
       "Name: userTypeMinutes, dtype: int64"
      ]
     },
     "execution_count": 141,
     "metadata": {},
     "output_type": "execute_result"
    }
   ],
   "source": [
    "# Accessing the number of usertypes based on minutes spent\n",
    "usertype_by_minutes_count = dataset_by_usertype_minutes['userTypeMinutes'].value_counts()\n",
    "usertype_by_minutes_count"
   ]
  },
  {
   "cell_type": "code",
   "execution_count": 142,
   "id": "c6b5a57d-fb2e-4f51-97ea-0308d07b636f",
   "metadata": {},
   "outputs": [
    {
     "data": {
      "text/html": [
       "<div>\n",
       "<style scoped>\n",
       "    .dataframe tbody tr th:only-of-type {\n",
       "        vertical-align: middle;\n",
       "    }\n",
       "\n",
       "    .dataframe tbody tr th {\n",
       "        vertical-align: top;\n",
       "    }\n",
       "\n",
       "    .dataframe thead th {\n",
       "        text-align: right;\n",
       "    }\n",
       "</style>\n",
       "<table border=\"1\" class=\"dataframe\">\n",
       "  <thead>\n",
       "    <tr style=\"text-align: right;\">\n",
       "      <th></th>\n",
       "      <th>userTypeMinutes</th>\n",
       "      <th>Total</th>\n",
       "    </tr>\n",
       "  </thead>\n",
       "  <tbody>\n",
       "    <tr>\n",
       "      <th>0</th>\n",
       "      <td>Sedentary</td>\n",
       "      <td>187</td>\n",
       "    </tr>\n",
       "    <tr>\n",
       "      <th>1</th>\n",
       "      <td>Lightly Active</td>\n",
       "      <td>107</td>\n",
       "    </tr>\n",
       "    <tr>\n",
       "      <th>2</th>\n",
       "      <td>Very Active</td>\n",
       "      <td>22</td>\n",
       "    </tr>\n",
       "    <tr>\n",
       "      <th>3</th>\n",
       "      <td>Moderately Active</td>\n",
       "      <td>12</td>\n",
       "    </tr>\n",
       "  </tbody>\n",
       "</table>\n",
       "</div>"
      ],
      "text/plain": [
       "     userTypeMinutes  Total\n",
       "0          Sedentary    187\n",
       "1     Lightly Active    107\n",
       "2        Very Active     22\n",
       "3  Moderately Active     12"
      ]
     },
     "execution_count": 142,
     "metadata": {},
     "output_type": "execute_result"
    }
   ],
   "source": [
    "# Converting the above value counts to DataFrame and adding column headers\n",
    "usertype_by_minutes_count_df = pd.DataFrame(usertype_by_minutes_count)\n",
    "usertype_by_minutes_count_df.reset_index(inplace=True)\n",
    "usertype_by_minutes_count_df.columns = ['userTypeMinutes', 'Total']\n",
    "usertype_by_minutes_count_df"
   ]
  },
  {
   "cell_type": "markdown",
   "id": "13080e97-8221-4494-9e8d-5eaa17fc4771",
   "metadata": {},
   "source": [
    "As seen above, just like in the case of obsevations based on distance covered, before the data was cleaned, there are 612 users captured that show some kind of irregularity in their physical activities or are not easily categorized by traditional standards."
   ]
  },
  {
   "cell_type": "code",
   "execution_count": 143,
   "id": "0acd55b0-bad5-4121-96d7-5f9e399a400d",
   "metadata": {},
   "outputs": [
    {
     "data": {
      "image/png": "[encoded data removed]",
      "text/plain": [
       "<Figure size 1000x600 with 1 Axes>"
      ]
     },
     "metadata": {},
     "output_type": "display_data"
    }
   ],
   "source": [
    "# Making an bar plot of userTypeMinutes against Total counts\n",
    "\n",
    "# Plotting the bar chart\n",
    "plt.figure(figsize=(10, 6))\n",
    "plt.bar(usertype_by_minutes_count_df['userTypeMinutes'], usertype_by_minutes_count_df['Total'], color='skyblue')\n",
    "\n",
    "# Adding labels and title\n",
    "plt.xlabel('User Types by Minutes')\n",
    "plt.ylabel('Total')\n",
    "plt.title('Total against UserTypeMinutes')\n",
    "\n",
    "# Rotating x-axis labels for better visibility\n",
    "plt.xticks(rotation=45, ha='right')\n",
    "\n",
    "# Display the plot\n",
    "plt.tight_layout()\n",
    "plt.show()"
   ]
  },
  {
   "cell_type": "markdown",
   "id": "97a7b401-36d4-470c-9c67-6e5e6ddccf03",
   "metadata": {},
   "source": [
    "In comparing sedentary counts from user activities based on distance covered and user activities based on minutes spent, the data shows that some individuals may be sedentary in terms of minutes spent and not sedentary in terms of distance covered.  This could be as a result of individual and external factors in play which should be considered."
   ]
  },
  {
   "cell_type": "markdown",
   "id": "0ebe65f8-8674-4f47-b98b-c2ecfe350a91",
   "metadata": {},
   "source": [
    "**4.1.2 Pattern observation by movement**\n",
    "- TotalSteps v DistanceCovered\n",
    "\n",
    "This is to observe the relationship between total steps taken by an individual and the distance covered by same person"
   ]
  },
  {
   "cell_type": "code",
   "execution_count": 87,
   "id": "04c765cf-b603-4f86-a4e4-7516cb4cb6fb",
   "metadata": {},
   "outputs": [
    {
     "data": {
      "text/html": [
       "<div>\n",
       "<style scoped>\n",
       "    .dataframe tbody tr th:only-of-type {\n",
       "        vertical-align: middle;\n",
       "    }\n",
       "\n",
       "    .dataframe tbody tr th {\n",
       "        vertical-align: top;\n",
       "    }\n",
       "\n",
       "    .dataframe thead th {\n",
       "        text-align: right;\n",
       "    }\n",
       "</style>\n",
       "<table border=\"1\" class=\"dataframe\">\n",
       "  <thead>\n",
       "    <tr style=\"text-align: right;\">\n",
       "      <th></th>\n",
       "      <th>Id</th>\n",
       "      <th>MeanTotalSteps</th>\n",
       "      <th>MeanTotalDistance</th>\n",
       "    </tr>\n",
       "  </thead>\n",
       "  <tbody>\n",
       "    <tr>\n",
       "      <th>0</th>\n",
       "      <td>1503960366</td>\n",
       "      <td>12116.741935</td>\n",
       "      <td>7.809677</td>\n",
       "    </tr>\n",
       "    <tr>\n",
       "      <th>1</th>\n",
       "      <td>1624580081</td>\n",
       "      <td>5743.903226</td>\n",
       "      <td>3.914839</td>\n",
       "    </tr>\n",
       "    <tr>\n",
       "      <th>2</th>\n",
       "      <td>1644430081</td>\n",
       "      <td>7282.966667</td>\n",
       "      <td>5.295333</td>\n",
       "    </tr>\n",
       "    <tr>\n",
       "      <th>3</th>\n",
       "      <td>1844505072</td>\n",
       "      <td>2580.064516</td>\n",
       "      <td>1.706129</td>\n",
       "    </tr>\n",
       "    <tr>\n",
       "      <th>4</th>\n",
       "      <td>1927972279</td>\n",
       "      <td>916.129032</td>\n",
       "      <td>0.634516</td>\n",
       "    </tr>\n",
       "  </tbody>\n",
       "</table>\n",
       "</div>"
      ],
      "text/plain": [
       "           Id  MeanTotalSteps  MeanTotalDistance\n",
       "0  1503960366    12116.741935           7.809677\n",
       "1  1624580081     5743.903226           3.914839\n",
       "2  1644430081     7282.966667           5.295333\n",
       "3  1844505072     2580.064516           1.706129\n",
       "4  1927972279      916.129032           0.634516"
      ]
     },
     "execution_count": 87,
     "metadata": {},
     "output_type": "execute_result"
    }
   ],
   "source": [
    "# visualizating TotalSteps v TotalDistance using scatter plot\n",
    "dataset_steps_distance_relationship = dailyActivity_merged\n",
    "\n",
    "steps_distance_relationship = dataset_steps_distance_relationship.groupby('Id')[['TotalSteps', 'TotalDistance']].mean().reset_index()\n",
    "steps_distance_relationship.rename(columns={'TotalSteps':'MeanTotalSteps', 'TotalDistance':'MeanTotalDistance'}, inplace=True)\n",
    "\n",
    "steps_distance_relationship.head()"
   ]
  },
  {
   "cell_type": "code",
   "execution_count": 88,
   "id": "af8e3973-35a4-479c-b227-82cc37218408",
   "metadata": {},
   "outputs": [
    {
     "data": {
      "image/png": "[encoded data removed]",
      "text/plain": [
       "<Figure size 640x480 with 1 Axes>"
      ]
     },
     "metadata": {},
     "output_type": "display_data"
    }
   ],
   "source": [
    "# Plotting the scatter plot\n",
    "plt.scatter(steps_distance_relationship['MeanTotalSteps'], steps_distance_relationship['MeanTotalDistance'])\n",
    "\n",
    "# Add labels and title\n",
    "plt.xlabel('MeanTotalSteps')\n",
    "plt.ylabel('MeanTotalDistance')\n",
    "plt.title('Relationship between total steps and distance covered')\n",
    "\n",
    "# Show the plot\n",
    "plt.show()"
   ]
  },
  {
   "cell_type": "markdown",
   "id": "97a7916c-82b1-4986-a6a0-bce51da8501f",
   "metadata": {},
   "source": [
    "The above plot shows that there is a direct relationship between total steps taken and distance covered.  The more steps an individual takes the more distance covered."
   ]
  },
  {
   "cell_type": "markdown",
   "id": "f75bb50c-e64d-4746-b3bd-265f6254b025",
   "metadata": {},
   "source": [
    "**4.1.3 Pattern observation by aerobic activities**\n",
    "\n",
    "- TotalSteps v Calories\n",
    "- DistanceCovered v Calories\n",
    "- HeartRate v Calories\n",
    "- Calories v Sleep\n",
    "- Sleep v HeartRate\n",
    "- Weight vs distance covered\n",
    "- Weight vs steps\n",
    "\n",
    "This is to observe the relationship between various health parameters and their implications in human health."
   ]
  },
  {
   "cell_type": "code",
   "execution_count": 89,
   "id": "d0f59c38-1ad3-4148-87cf-16ad3f4f40c8",
   "metadata": {},
   "outputs": [
    {
     "data": {
      "text/html": [
       "<div>\n",
       "<style scoped>\n",
       "    .dataframe tbody tr th:only-of-type {\n",
       "        vertical-align: middle;\n",
       "    }\n",
       "\n",
       "    .dataframe tbody tr th {\n",
       "        vertical-align: top;\n",
       "    }\n",
       "\n",
       "    .dataframe thead th {\n",
       "        text-align: right;\n",
       "    }\n",
       "</style>\n",
       "<table border=\"1\" class=\"dataframe\">\n",
       "  <thead>\n",
       "    <tr style=\"text-align: right;\">\n",
       "      <th></th>\n",
       "      <th>Id</th>\n",
       "      <th>MeanTotalSteps</th>\n",
       "      <th>MeanCalories</th>\n",
       "    </tr>\n",
       "  </thead>\n",
       "  <tbody>\n",
       "    <tr>\n",
       "      <th>0</th>\n",
       "      <td>1503960366</td>\n",
       "      <td>12116.741935</td>\n",
       "      <td>1816.419355</td>\n",
       "    </tr>\n",
       "    <tr>\n",
       "      <th>1</th>\n",
       "      <td>1624580081</td>\n",
       "      <td>5743.903226</td>\n",
       "      <td>1483.354839</td>\n",
       "    </tr>\n",
       "    <tr>\n",
       "      <th>2</th>\n",
       "      <td>1644430081</td>\n",
       "      <td>7282.966667</td>\n",
       "      <td>2811.300000</td>\n",
       "    </tr>\n",
       "    <tr>\n",
       "      <th>3</th>\n",
       "      <td>1844505072</td>\n",
       "      <td>2580.064516</td>\n",
       "      <td>1573.483871</td>\n",
       "    </tr>\n",
       "    <tr>\n",
       "      <th>4</th>\n",
       "      <td>1927972279</td>\n",
       "      <td>916.129032</td>\n",
       "      <td>2172.806452</td>\n",
       "    </tr>\n",
       "  </tbody>\n",
       "</table>\n",
       "</div>"
      ],
      "text/plain": [
       "           Id  MeanTotalSteps  MeanCalories\n",
       "0  1503960366    12116.741935   1816.419355\n",
       "1  1624580081     5743.903226   1483.354839\n",
       "2  1644430081     7282.966667   2811.300000\n",
       "3  1844505072     2580.064516   1573.483871\n",
       "4  1927972279      916.129032   2172.806452"
      ]
     },
     "execution_count": 89,
     "metadata": {},
     "output_type": "execute_result"
    }
   ],
   "source": [
    "# Visualizing TotalSteps v Calories using scatter plot\n",
    "\n",
    "dataset_steps_calories_relationship = dailyActivity_merged\n",
    "\n",
    "# Getting the mean calories\n",
    "steps_calories_relationship = dataset_steps_calories_relationship.groupby('Id')[['TotalSteps','Calories']].mean().reset_index()\n",
    "\n",
    "steps_calories_relationship.rename(columns={'TotalSteps':'MeanTotalSteps', 'Calories':'MeanCalories'}, inplace=True)\n",
    "steps_calories_relationship.head()"
   ]
  },
  {
   "cell_type": "code",
   "execution_count": 90,
   "id": "d2bf8194-8485-4847-be51-b789dbec6a30",
   "metadata": {},
   "outputs": [
    {
     "data": {
      "image/png": "[encoded data removed]",
      "text/plain": [
       "<Figure size 640x480 with 1 Axes>"
      ]
     },
     "metadata": {},
     "output_type": "display_data"
    }
   ],
   "source": [
    "# Plotting the scatter plot\n",
    "plt.scatter(steps_calories_relationship['MeanTotalSteps'], steps_calories_relationship['MeanCalories'])\n",
    "\n",
    "# Add labels and title\n",
    "plt.xlabel('MeanTotalSteps')\n",
    "plt.ylabel('MeanCalories')\n",
    "plt.title('Relationship between total steps and calories burnt')\n",
    "\n",
    "# Show the plot\n",
    "plt.show()"
   ]
  },
  {
   "cell_type": "markdown",
   "id": "cb9e9d7a-aab3-471b-9505-aa1de257b9a8",
   "metadata": {},
   "source": [
    "The plotted image above shows the relationship between total steps taken and the amount of calories burnt.  It's seen that more steps taken will result to burning more calories.  However, as seen from the image, certain factors will come in place which will affect the activity level of an individual, which is why as seen, some individuals could take more steps but burn less than others taking equal steps and factors that could be responsible for these could include body type (endomorph, mesomorph, and ectomorph), eating habit, body weight, body metabolism, intensity of the activity, health conditions, etc"
   ]
  },
  {
   "cell_type": "code",
   "execution_count": 91,
   "id": "16d9d65c-1939-46ad-b4e5-f3e4e6e075dc",
   "metadata": {},
   "outputs": [
    {
     "data": {
      "text/html": [
       "<div>\n",
       "<style scoped>\n",
       "    .dataframe tbody tr th:only-of-type {\n",
       "        vertical-align: middle;\n",
       "    }\n",
       "\n",
       "    .dataframe tbody tr th {\n",
       "        vertical-align: top;\n",
       "    }\n",
       "\n",
       "    .dataframe thead th {\n",
       "        text-align: right;\n",
       "    }\n",
       "</style>\n",
       "<table border=\"1\" class=\"dataframe\">\n",
       "  <thead>\n",
       "    <tr style=\"text-align: right;\">\n",
       "      <th></th>\n",
       "      <th>Id</th>\n",
       "      <th>MeanTotalDistance</th>\n",
       "      <th>MeanCalories</th>\n",
       "    </tr>\n",
       "  </thead>\n",
       "  <tbody>\n",
       "    <tr>\n",
       "      <th>0</th>\n",
       "      <td>1503960366</td>\n",
       "      <td>7.809677</td>\n",
       "      <td>1816.419355</td>\n",
       "    </tr>\n",
       "    <tr>\n",
       "      <th>1</th>\n",
       "      <td>1624580081</td>\n",
       "      <td>3.914839</td>\n",
       "      <td>1483.354839</td>\n",
       "    </tr>\n",
       "    <tr>\n",
       "      <th>2</th>\n",
       "      <td>1644430081</td>\n",
       "      <td>5.295333</td>\n",
       "      <td>2811.300000</td>\n",
       "    </tr>\n",
       "    <tr>\n",
       "      <th>3</th>\n",
       "      <td>1844505072</td>\n",
       "      <td>1.706129</td>\n",
       "      <td>1573.483871</td>\n",
       "    </tr>\n",
       "    <tr>\n",
       "      <th>4</th>\n",
       "      <td>1927972279</td>\n",
       "      <td>0.634516</td>\n",
       "      <td>2172.806452</td>\n",
       "    </tr>\n",
       "  </tbody>\n",
       "</table>\n",
       "</div>"
      ],
      "text/plain": [
       "           Id  MeanTotalDistance  MeanCalories\n",
       "0  1503960366           7.809677   1816.419355\n",
       "1  1624580081           3.914839   1483.354839\n",
       "2  1644430081           5.295333   2811.300000\n",
       "3  1844505072           1.706129   1573.483871\n",
       "4  1927972279           0.634516   2172.806452"
      ]
     },
     "execution_count": 91,
     "metadata": {},
     "output_type": "execute_result"
    }
   ],
   "source": [
    "# Visualizing DistanceCovered v Calories using scatter plot\n",
    "\n",
    "dataset_distance_calories_relationship = dailyActivity_merged\n",
    "\n",
    "# Getting the mean calories\n",
    "distance_calories_relationship = dataset_distance_calories_relationship.groupby('Id')[['TotalDistance','Calories']].mean().reset_index()\n",
    "\n",
    "distance_calories_relationship.rename(columns={'TotalDistance':'MeanTotalDistance', 'Calories':'MeanCalories'}, inplace=True)\n",
    "distance_calories_relationship.head()"
   ]
  },
  {
   "cell_type": "code",
   "execution_count": 92,
   "id": "b3dc38a5-ca11-4565-bf03-f7ad9a80620b",
   "metadata": {},
   "outputs": [
    {
     "data": {
      "image/png": "[encoded data removed]",
      "text/plain": [
       "<Figure size 640x480 with 1 Axes>"
      ]
     },
     "metadata": {},
     "output_type": "display_data"
    }
   ],
   "source": [
    "# Plotting the scatter plot\n",
    "plt.scatter(distance_calories_relationship['MeanTotalDistance'], distance_calories_relationship['MeanCalories'])\n",
    "\n",
    "# Add labels and title\n",
    "plt.xlabel('MeanTotalDistance')\n",
    "plt.ylabel('MeanCalories')\n",
    "plt.title('Relationship between total Distance and Calories burnt')\n",
    "\n",
    "# Show the plot\n",
    "plt.show()"
   ]
  },
  {
   "cell_type": "markdown",
   "id": "a3e6d0a8-cb8d-485d-a31d-744ae65de6d3",
   "metadata": {},
   "source": [
    "As described above, the relationship between calories burned and the distance covered is similar to that of calories burned in relation to the steps taken."
   ]
  },
  {
   "cell_type": "code",
   "execution_count": 93,
   "id": "52d08cd3-26f5-4a92-97d3-1974adb861bc",
   "metadata": {},
   "outputs": [],
   "source": [
    "# Visualizing Heart rate v Calories using scatter plot"
   ]
  },
  {
   "cell_type": "code",
   "execution_count": 94,
   "id": "8cdc0f5d-f284-4b78-8f78-10bf531e9498",
   "metadata": {},
   "outputs": [],
   "source": [
    "# HeartRate is from a different dataset and will need to be merged with Calories\n",
    "\n",
    "# Accessing dataset for calories\n",
    "dataset_calories = dailyActivity_merged\n",
    "# Getting the mean calories\n",
    "calories_aggregate = dataset_calories.groupby('Id')[['Calories']].mean().reset_index()\n",
    "calories_aggregate.rename(columns={'Calories':'MeanCalories'}, inplace=True)\n",
    "\n",
    "# Accessing dataset for heart rate\n",
    "dataset_heartRate = heartrate_seconds_merged\n",
    "# Getting the mean heart rate\n",
    "heartRate_aggregate = dataset_heartRate.groupby('Id')[['Value']].mean().reset_index()\n",
    "heartRate_aggregate.rename(columns={'Value':'MeanHeartRate'}, inplace=True)"
   ]
  },
  {
   "cell_type": "code",
   "execution_count": 95,
   "id": "586107d6-fd4a-4185-b2de-8c3b3a734e3a",
   "metadata": {},
   "outputs": [
    {
     "data": {
      "text/html": [
       "<div>\n",
       "<style scoped>\n",
       "    .dataframe tbody tr th:only-of-type {\n",
       "        vertical-align: middle;\n",
       "    }\n",
       "\n",
       "    .dataframe tbody tr th {\n",
       "        vertical-align: top;\n",
       "    }\n",
       "\n",
       "    .dataframe thead th {\n",
       "        text-align: right;\n",
       "    }\n",
       "</style>\n",
       "<table border=\"1\" class=\"dataframe\">\n",
       "  <thead>\n",
       "    <tr style=\"text-align: right;\">\n",
       "      <th></th>\n",
       "      <th>Id</th>\n",
       "      <th>MeanCalories</th>\n",
       "      <th>MeanHeartRate</th>\n",
       "    </tr>\n",
       "  </thead>\n",
       "  <tbody>\n",
       "    <tr>\n",
       "      <th>0</th>\n",
       "      <td>2022484408</td>\n",
       "      <td>2509.967742</td>\n",
       "      <td>80.236860</td>\n",
       "    </tr>\n",
       "    <tr>\n",
       "      <th>1</th>\n",
       "      <td>2026352035</td>\n",
       "      <td>1540.645161</td>\n",
       "      <td>93.776305</td>\n",
       "    </tr>\n",
       "    <tr>\n",
       "      <th>2</th>\n",
       "      <td>2347167796</td>\n",
       "      <td>2043.444444</td>\n",
       "      <td>76.722792</td>\n",
       "    </tr>\n",
       "    <tr>\n",
       "      <th>3</th>\n",
       "      <td>4020332650</td>\n",
       "      <td>2385.806452</td>\n",
       "      <td>82.300577</td>\n",
       "    </tr>\n",
       "    <tr>\n",
       "      <th>4</th>\n",
       "      <td>4388161847</td>\n",
       "      <td>3093.870968</td>\n",
       "      <td>66.132998</td>\n",
       "    </tr>\n",
       "  </tbody>\n",
       "</table>\n",
       "</div>"
      ],
      "text/plain": [
       "           Id  MeanCalories  MeanHeartRate\n",
       "0  2022484408   2509.967742      80.236860\n",
       "1  2026352035   1540.645161      93.776305\n",
       "2  2347167796   2043.444444      76.722792\n",
       "3  4020332650   2385.806452      82.300577\n",
       "4  4388161847   3093.870968      66.132998"
      ]
     },
     "execution_count": 95,
     "metadata": {},
     "output_type": "execute_result"
    }
   ],
   "source": [
    "# Merging calories_aggregate and heartRate_aggregate datasets together\n",
    "heartRate_calories_relationship = pd.merge(calories_aggregate, heartRate_aggregate, on='Id', how='inner')\n",
    "heartRate_calories_relationship.head()"
   ]
  },
  {
   "cell_type": "code",
   "execution_count": 96,
   "id": "db032827-1b09-431e-ad26-3fbb09f8257f",
   "metadata": {},
   "outputs": [
    {
     "data": {
      "image/png": "[encoded data removed]",
      "text/plain": [
       "<Figure size 640x480 with 1 Axes>"
      ]
     },
     "metadata": {},
     "output_type": "display_data"
    }
   ],
   "source": [
    "# Plotting the scatter plot\n",
    "plt.scatter(heartRate_calories_relationship['MeanCalories'], heartRate_calories_relationship['MeanHeartRate'])\n",
    "\n",
    "# Add labels and title\n",
    "plt.xlabel('MeanCalories')\n",
    "plt.ylabel('MeanHeartRate')\n",
    "plt.title('Relationship between Heart Rate and Calories burnt')\n",
    "\n",
    "# Show the plot\n",
    "plt.show()"
   ]
  },
  {
   "cell_type": "markdown",
   "id": "71641335-7075-43de-9b9b-1045ede30fbb",
   "metadata": {},
   "source": [
    "There seems to be interconnection between calories burned and heart rate but the relationship between these two variables is somewhat indirect.  And the intensity and duration of the activity typically determine the number of calories burned.\n",
    "\n",
    "When one engages in any physical activity, the body burns calories as it expends energy.  Physical activities include aerobic exercises such as running, cycling, swimming, etc which can improve heart health by strengthening the heart muscle and improving its efficiency.  However, factors such as genetics, overall diet, any existing health condition related to heart health should be considered while accessing the heart rate of individuals."
   ]
  },
  {
   "cell_type": "code",
   "execution_count": 97,
   "id": "91b134c4-28ba-46ed-aada-83e9467027dc",
   "metadata": {},
   "outputs": [],
   "source": [
    "# Visualizing Sleep efficiency v Calories using scatter plot"
   ]
  },
  {
   "cell_type": "code",
   "execution_count": 98,
   "id": "bf749968-14c8-4a92-bd0e-14dcf1da6340",
   "metadata": {},
   "outputs": [
    {
     "data": {
      "text/html": [
       "<div>\n",
       "<style scoped>\n",
       "    .dataframe tbody tr th:only-of-type {\n",
       "        vertical-align: middle;\n",
       "    }\n",
       "\n",
       "    .dataframe tbody tr th {\n",
       "        vertical-align: top;\n",
       "    }\n",
       "\n",
       "    .dataframe thead th {\n",
       "        text-align: right;\n",
       "    }\n",
       "</style>\n",
       "<table border=\"1\" class=\"dataframe\">\n",
       "  <thead>\n",
       "    <tr style=\"text-align: right;\">\n",
       "      <th></th>\n",
       "      <th>Id</th>\n",
       "      <th>SleepDay</th>\n",
       "      <th>ActivityDate</th>\n",
       "      <th>TotalSleepRecords</th>\n",
       "      <th>TotalMinutesAsleep</th>\n",
       "      <th>TotalTimeInBed</th>\n",
       "      <th>SleepEfficiency</th>\n",
       "      <th>sleepEfficiency</th>\n",
       "    </tr>\n",
       "  </thead>\n",
       "  <tbody>\n",
       "    <tr>\n",
       "      <th>0</th>\n",
       "      <td>1503960366</td>\n",
       "      <td>2016-04-12</td>\n",
       "      <td>2016-04-12</td>\n",
       "      <td>1</td>\n",
       "      <td>327</td>\n",
       "      <td>346</td>\n",
       "      <td>94.508671</td>\n",
       "      <td>94.508671</td>\n",
       "    </tr>\n",
       "    <tr>\n",
       "      <th>1</th>\n",
       "      <td>1503960366</td>\n",
       "      <td>2016-04-13</td>\n",
       "      <td>2016-04-13</td>\n",
       "      <td>2</td>\n",
       "      <td>384</td>\n",
       "      <td>407</td>\n",
       "      <td>94.348894</td>\n",
       "      <td>94.348894</td>\n",
       "    </tr>\n",
       "    <tr>\n",
       "      <th>2</th>\n",
       "      <td>1503960366</td>\n",
       "      <td>2016-04-15</td>\n",
       "      <td>2016-04-15</td>\n",
       "      <td>1</td>\n",
       "      <td>412</td>\n",
       "      <td>442</td>\n",
       "      <td>93.212670</td>\n",
       "      <td>93.212670</td>\n",
       "    </tr>\n",
       "    <tr>\n",
       "      <th>3</th>\n",
       "      <td>1503960366</td>\n",
       "      <td>2016-04-16</td>\n",
       "      <td>2016-04-16</td>\n",
       "      <td>2</td>\n",
       "      <td>340</td>\n",
       "      <td>367</td>\n",
       "      <td>92.643052</td>\n",
       "      <td>92.643052</td>\n",
       "    </tr>\n",
       "    <tr>\n",
       "      <th>4</th>\n",
       "      <td>1503960366</td>\n",
       "      <td>2016-04-17</td>\n",
       "      <td>2016-04-17</td>\n",
       "      <td>1</td>\n",
       "      <td>700</td>\n",
       "      <td>712</td>\n",
       "      <td>98.314607</td>\n",
       "      <td>98.314607</td>\n",
       "    </tr>\n",
       "  </tbody>\n",
       "</table>\n",
       "</div>"
      ],
      "text/plain": [
       "           Id   SleepDay ActivityDate  TotalSleepRecords  TotalMinutesAsleep  \\\n",
       "0  1503960366 2016-04-12   2016-04-12                  1                 327   \n",
       "1  1503960366 2016-04-13   2016-04-13                  2                 384   \n",
       "2  1503960366 2016-04-15   2016-04-15                  1                 412   \n",
       "3  1503960366 2016-04-16   2016-04-16                  2                 340   \n",
       "4  1503960366 2016-04-17   2016-04-17                  1                 700   \n",
       "\n",
       "   TotalTimeInBed  SleepEfficiency  sleepEfficiency  \n",
       "0             346        94.508671        94.508671  \n",
       "1             407        94.348894        94.348894  \n",
       "2             442        93.212670        93.212670  \n",
       "3             367        92.643052        92.643052  \n",
       "4             712        98.314607        98.314607  "
      ]
     },
     "execution_count": 98,
     "metadata": {},
     "output_type": "execute_result"
    }
   ],
   "source": [
    "# Adding sleepEfficiency column to the sleeDay_merged dataset\n",
    "\n",
    "extended_sleepDay_merged = sleepDay_merged\n",
    "extended_sleepDay_merged['sleepEfficiency'] = (extended_sleepDay_merged['TotalMinutesAsleep']/extended_sleepDay_merged['TotalTimeInBed'])*100\n",
    "extended_sleepDay_merged.head()"
   ]
  },
  {
   "cell_type": "code",
   "execution_count": 99,
   "id": "0b84a0bd-6303-447a-87f1-23cf9561d25e",
   "metadata": {},
   "outputs": [
    {
     "data": {
      "text/html": [
       "<div>\n",
       "<style scoped>\n",
       "    .dataframe tbody tr th:only-of-type {\n",
       "        vertical-align: middle;\n",
       "    }\n",
       "\n",
       "    .dataframe tbody tr th {\n",
       "        vertical-align: top;\n",
       "    }\n",
       "\n",
       "    .dataframe thead th {\n",
       "        text-align: right;\n",
       "    }\n",
       "</style>\n",
       "<table border=\"1\" class=\"dataframe\">\n",
       "  <thead>\n",
       "    <tr style=\"text-align: right;\">\n",
       "      <th></th>\n",
       "      <th>Id</th>\n",
       "      <th>MeanCalories</th>\n",
       "      <th>meanSleepEfficiency</th>\n",
       "    </tr>\n",
       "  </thead>\n",
       "  <tbody>\n",
       "    <tr>\n",
       "      <th>0</th>\n",
       "      <td>1503960366</td>\n",
       "      <td>1816.419355</td>\n",
       "      <td>93.638531</td>\n",
       "    </tr>\n",
       "    <tr>\n",
       "      <th>1</th>\n",
       "      <td>1644430081</td>\n",
       "      <td>2811.300000</td>\n",
       "      <td>88.204039</td>\n",
       "    </tr>\n",
       "    <tr>\n",
       "      <th>2</th>\n",
       "      <td>1844505072</td>\n",
       "      <td>1573.483871</td>\n",
       "      <td>67.845994</td>\n",
       "    </tr>\n",
       "    <tr>\n",
       "      <th>3</th>\n",
       "      <td>1927972279</td>\n",
       "      <td>2172.806452</td>\n",
       "      <td>94.700810</td>\n",
       "    </tr>\n",
       "    <tr>\n",
       "      <th>4</th>\n",
       "      <td>2026352035</td>\n",
       "      <td>1540.645161</td>\n",
       "      <td>94.134138</td>\n",
       "    </tr>\n",
       "  </tbody>\n",
       "</table>\n",
       "</div>"
      ],
      "text/plain": [
       "           Id  MeanCalories  meanSleepEfficiency\n",
       "0  1503960366   1816.419355            93.638531\n",
       "1  1644430081   2811.300000            88.204039\n",
       "2  1844505072   1573.483871            67.845994\n",
       "3  1927972279   2172.806452            94.700810\n",
       "4  2026352035   1540.645161            94.134138"
      ]
     },
     "execution_count": 99,
     "metadata": {},
     "output_type": "execute_result"
    }
   ],
   "source": [
    "# Getting the mean sleep efficiency\n",
    "sleepEfficiency_aggregate = extended_sleepDay_merged.groupby('Id')[['sleepEfficiency']].mean().reset_index()\n",
    "sleepEfficiency_aggregate.rename(columns={'sleepEfficiency': 'meanSleepEfficiency'}, inplace=True)\n",
    "\n",
    "# Merging calories_aggregate and sleepEfficiency_aggregate datasets together\n",
    "sleepEfficiency_calories_relationship = pd.merge(calories_aggregate, sleepEfficiency_aggregate, on='Id', how='inner')\n",
    "sleepEfficiency_calories_relationship.head()"
   ]
  },
  {
   "cell_type": "code",
   "execution_count": 100,
   "id": "cc8fd736-588e-4504-907a-1c2b96bd4e38",
   "metadata": {},
   "outputs": [
    {
     "data": {
      "image/png": "[encoded data removed]",
      "text/plain": [
       "<Figure size 640x480 with 1 Axes>"
      ]
     },
     "metadata": {},
     "output_type": "display_data"
    }
   ],
   "source": [
    "# Plotting the scatter plot\n",
    "plt.scatter(sleepEfficiency_calories_relationship['MeanCalories'], sleepEfficiency_calories_relationship['meanSleepEfficiency'])\n",
    "\n",
    "# Add labels and title\n",
    "plt.xlabel('MeanCalories')\n",
    "plt.ylabel('meanSleepEfficiency')\n",
    "plt.title('Relationship between Sleep Efficiency and Calories burnt')\n",
    "\n",
    "# Show the plot\n",
    "plt.show()"
   ]
  },
  {
   "cell_type": "markdown",
   "id": "3e1dbbde-67e6-4901-9715-124010f52e57",
   "metadata": {},
   "source": [
    "The higher the sleep efficiency, the better your sleep quality.  Although the diagram above does display that involving in physical activities could improve one's sleeping efficiency, there are several factors that affects an individual's ability to sleep well even if their health is relatively good.  These factors include:\n",
    "- Lifestyle Habits\n",
    "- Medications\n",
    "- Stress and Anxiety\n",
    "- Environmental Factors\n",
    "- Medical Conditions\n",
    "- Feeding habits, etc"
   ]
  },
  {
   "cell_type": "code",
   "execution_count": 101,
   "id": "6077f915-94fd-4217-ab44-757d1847d536",
   "metadata": {},
   "outputs": [],
   "source": [
    "# Visualizing Sleep efficiency v Heart rate using scatter plot"
   ]
  },
  {
   "cell_type": "code",
   "execution_count": 102,
   "id": "b1c0b139-7551-4240-aa03-e657c0d8f21c",
   "metadata": {},
   "outputs": [
    {
     "data": {
      "image/png": "[encoded data removed]",
      "text/plain": [
       "<Figure size 640x480 with 1 Axes>"
      ]
     },
     "metadata": {},
     "output_type": "display_data"
    }
   ],
   "source": [
    "# Merging both sleepEfficiency_aggregate and heartRate_aggregate datasets\n",
    "\n",
    "sleepEfficiency_heartRate_relationship = pd.merge(heartRate_aggregate, sleepEfficiency_aggregate, on='Id', how='inner')\n",
    "\n",
    "# Plotting the scatter plot\n",
    "plt.scatter(sleepEfficiency_heartRate_relationship['MeanHeartRate'], sleepEfficiency_heartRate_relationship['meanSleepEfficiency'])\n",
    "plt.xlabel('MeanHeartRate')\n",
    "plt.ylabel('meanSleepEfficiency')\n",
    "plt.title('Reltionship between Heart rate and sleep efficiency')\n",
    "plt.show()"
   ]
  },
  {
   "cell_type": "markdown",
   "id": "606a4032-e031-490f-a532-951a104b1298",
   "metadata": {},
   "source": [
    "From the diagram above, the captured number of individuals with heart rate between 65-95 do have better sleep efficiencies.  There is no fixed number to state whether a heart rate is bad or not.  For an adult, a normal resting heart rate typically ranges from 60 to 100 beats per minute (BPM).  However, highly trained athletes may have resting heart rates below 60BPM, which can be considered normal for them due to their high level of cardiovascular fitness.\n",
    "\n",
    "If heart rate at rest is high consistently, this could be a sign of various conditions, such as:\n",
    "- Dehydration\n",
    "- Heart conditions\n",
    "- Heart conditions\n",
    "- Thyroid disorders\n",
    "- Stress or anxiety\n",
    "- Certain medications or substances\n",
    "\n",
    "On the other hand, a consistently low resting heart rate may be caused by:\n",
    "- Athletic training\n",
    "- Underlying heart conditions\n",
    "- Certain medications\n",
    "- Age-related changes"
   ]
  },
  {
   "cell_type": "code",
   "execution_count": 103,
   "id": "c2c31942-2e93-4cec-a1bd-a365618d14b4",
   "metadata": {},
   "outputs": [],
   "source": [
    "# Visualizing Weight v Distance covered using scatter plot"
   ]
  },
  {
   "cell_type": "code",
   "execution_count": 104,
   "id": "1539d238-1e0a-41a9-b1eb-ce366a3ec21d",
   "metadata": {},
   "outputs": [
    {
     "data": {
      "text/html": [
       "<div>\n",
       "<style scoped>\n",
       "    .dataframe tbody tr th:only-of-type {\n",
       "        vertical-align: middle;\n",
       "    }\n",
       "\n",
       "    .dataframe tbody tr th {\n",
       "        vertical-align: top;\n",
       "    }\n",
       "\n",
       "    .dataframe thead th {\n",
       "        text-align: right;\n",
       "    }\n",
       "</style>\n",
       "<table border=\"1\" class=\"dataframe\">\n",
       "  <thead>\n",
       "    <tr style=\"text-align: right;\">\n",
       "      <th></th>\n",
       "      <th>Id</th>\n",
       "      <th>MeanWeightKg</th>\n",
       "      <th>MeanTotalDistance</th>\n",
       "    </tr>\n",
       "  </thead>\n",
       "  <tbody>\n",
       "    <tr>\n",
       "      <th>0</th>\n",
       "      <td>1503960366</td>\n",
       "      <td>52.599998</td>\n",
       "      <td>7.809677</td>\n",
       "    </tr>\n",
       "    <tr>\n",
       "      <th>1</th>\n",
       "      <td>1927972279</td>\n",
       "      <td>133.500000</td>\n",
       "      <td>0.634516</td>\n",
       "    </tr>\n",
       "    <tr>\n",
       "      <th>2</th>\n",
       "      <td>2873212765</td>\n",
       "      <td>57.000000</td>\n",
       "      <td>5.101613</td>\n",
       "    </tr>\n",
       "    <tr>\n",
       "      <th>3</th>\n",
       "      <td>4319703577</td>\n",
       "      <td>72.350002</td>\n",
       "      <td>4.892258</td>\n",
       "    </tr>\n",
       "    <tr>\n",
       "      <th>4</th>\n",
       "      <td>4558609924</td>\n",
       "      <td>69.639999</td>\n",
       "      <td>5.080645</td>\n",
       "    </tr>\n",
       "  </tbody>\n",
       "</table>\n",
       "</div>"
      ],
      "text/plain": [
       "           Id  MeanWeightKg  MeanTotalDistance\n",
       "0  1503960366     52.599998           7.809677\n",
       "1  1927972279    133.500000           0.634516\n",
       "2  2873212765     57.000000           5.101613\n",
       "3  4319703577     72.350002           4.892258\n",
       "4  4558609924     69.639999           5.080645"
      ]
     },
     "execution_count": 104,
     "metadata": {},
     "output_type": "execute_result"
    }
   ],
   "source": [
    "# Merging both Weight and Distance datasets\n",
    "\n",
    "# Accessing dataset for weight\n",
    "dataset_weightKg = weightLogInfo_merged\n",
    "\n",
    "# Getting the mean weight\n",
    "weight_aggregate = dataset_weightKg.groupby('Id')[['WeightKg']].mean().reset_index()\n",
    "weight_aggregate.rename(columns={'WeightKg': 'MeanWeightKg'}, inplace=True)\n",
    "weight_aggregate\n",
    "\n",
    "# Extracting distance dataset\n",
    "dataset_distance = steps_distance_relationship[['Id','MeanTotalDistance']]\n",
    "\n",
    "# merging the two datasets\n",
    "weight_distance_relationship = pd.merge(weight_aggregate, dataset_distance, on='Id', how='inner')\n",
    "weight_distance_relationship.head()"
   ]
  },
  {
   "cell_type": "code",
   "execution_count": 105,
   "id": "32946dfd-2a91-4355-bd52-6b58b4e0df63",
   "metadata": {},
   "outputs": [],
   "source": [
    "# Visualizing the relationship"
   ]
  },
  {
   "cell_type": "code",
   "execution_count": 106,
   "id": "a5a98b0e-09a4-4c3b-9ffa-4e63f0eb3aaf",
   "metadata": {},
   "outputs": [
    {
     "data": {
      "image/png": "[encoded data removed]",
      "text/plain": [
       "<Figure size 640x480 with 1 Axes>"
      ]
     },
     "metadata": {},
     "output_type": "display_data"
    }
   ],
   "source": [
    "plt.scatter(weight_distance_relationship['MeanTotalDistance'], weight_distance_relationship['MeanWeightKg'])\n",
    "plt.xlabel('MeanTotalDistance')\n",
    "plt.ylabel('MeanWeightKg')\n",
    "plt.title('Relationship between Distance and WeightKg')\n",
    "plt.show()"
   ]
  },
  {
   "cell_type": "code",
   "execution_count": 107,
   "id": "abffdd30-cd93-4965-93ff-3b79afaec6c0",
   "metadata": {},
   "outputs": [],
   "source": [
    "# Visualizing Weight v steps taken using scatter plot"
   ]
  },
  {
   "cell_type": "code",
   "execution_count": 108,
   "id": "5338e47b-e9b7-4685-a849-1185da9501ef",
   "metadata": {},
   "outputs": [
    {
     "data": {
      "text/html": [
       "<div>\n",
       "<style scoped>\n",
       "    .dataframe tbody tr th:only-of-type {\n",
       "        vertical-align: middle;\n",
       "    }\n",
       "\n",
       "    .dataframe tbody tr th {\n",
       "        vertical-align: top;\n",
       "    }\n",
       "\n",
       "    .dataframe thead th {\n",
       "        text-align: right;\n",
       "    }\n",
       "</style>\n",
       "<table border=\"1\" class=\"dataframe\">\n",
       "  <thead>\n",
       "    <tr style=\"text-align: right;\">\n",
       "      <th></th>\n",
       "      <th>Id</th>\n",
       "      <th>MeanWeightKg</th>\n",
       "      <th>MeanTotalSteps</th>\n",
       "    </tr>\n",
       "  </thead>\n",
       "  <tbody>\n",
       "    <tr>\n",
       "      <th>0</th>\n",
       "      <td>1503960366</td>\n",
       "      <td>52.599998</td>\n",
       "      <td>12116.741935</td>\n",
       "    </tr>\n",
       "    <tr>\n",
       "      <th>1</th>\n",
       "      <td>1927972279</td>\n",
       "      <td>133.500000</td>\n",
       "      <td>916.129032</td>\n",
       "    </tr>\n",
       "    <tr>\n",
       "      <th>2</th>\n",
       "      <td>2873212765</td>\n",
       "      <td>57.000000</td>\n",
       "      <td>7555.774194</td>\n",
       "    </tr>\n",
       "    <tr>\n",
       "      <th>3</th>\n",
       "      <td>4319703577</td>\n",
       "      <td>72.350002</td>\n",
       "      <td>7268.838710</td>\n",
       "    </tr>\n",
       "    <tr>\n",
       "      <th>4</th>\n",
       "      <td>4558609924</td>\n",
       "      <td>69.639999</td>\n",
       "      <td>7685.129032</td>\n",
       "    </tr>\n",
       "  </tbody>\n",
       "</table>\n",
       "</div>"
      ],
      "text/plain": [
       "           Id  MeanWeightKg  MeanTotalSteps\n",
       "0  1503960366     52.599998    12116.741935\n",
       "1  1927972279    133.500000      916.129032\n",
       "2  2873212765     57.000000     7555.774194\n",
       "3  4319703577     72.350002     7268.838710\n",
       "4  4558609924     69.639999     7685.129032"
      ]
     },
     "execution_count": 108,
     "metadata": {},
     "output_type": "execute_result"
    }
   ],
   "source": [
    "# Merging both Steps and Distance datasets\n",
    "\n",
    "# Extracting steps dataset\n",
    "dataset_steps = steps_distance_relationship[['Id','MeanTotalSteps']]\n",
    "\n",
    "# merging the two datasets\n",
    "weight_steps_relationship = pd.merge(weight_aggregate, dataset_steps, on='Id', how='inner')\n",
    "weight_steps_relationship.head()"
   ]
  },
  {
   "cell_type": "code",
   "execution_count": 109,
   "id": "281a35e9-fd15-4660-a455-5b0a89a70d39",
   "metadata": {},
   "outputs": [
    {
     "data": {
      "image/png": "[encoded data removed]",
      "text/plain": [
       "<Figure size 640x480 with 1 Axes>"
      ]
     },
     "metadata": {},
     "output_type": "display_data"
    }
   ],
   "source": [
    "# plotting the steps and weight relationship\n",
    "plt.scatter(weight_steps_relationship['MeanTotalSteps'], weight_steps_relationship['MeanWeightKg'])\n",
    "plt.xlabel('MeanTotalSteps')\n",
    "plt.ylabel('MeanWeightKg')\n",
    "plt.title('Relationship between Steps and WeightKg')\n",
    "plt.show()"
   ]
  },
  {
   "cell_type": "markdown",
   "id": "5416478a-9dda-4205-b0ba-f0d8610493af",
   "metadata": {},
   "source": [
    "Based on an individual's BMI level, it is important to adopt a level of number of steps as one monitors his/her weight.  It is a good practice for people of high weight to take more steps.  The more steps one takes, the more distance covered."
   ]
  },
  {
   "cell_type": "markdown",
   "id": "3dff20f0-e236-462a-a248-d0f970470e3b",
   "metadata": {},
   "source": [
    "**4.1.4 BMI logs pattern**\n",
    "\n",
    "- BMI v WeightKg\n",
    "- BMI v SquaredMeanHeight\n",
    "- BMI v usertype_by_distance\n",
    "- BMI v usertype_by_minute\n",
    "- BMI v TotalDistance\n",
    "- BMI v TotalSteps"
   ]
  },
  {
   "cell_type": "code",
   "execution_count": 110,
   "id": "e7a85b33-3e3c-47e1-b36a-6c674c0b392c",
   "metadata": {},
   "outputs": [
    {
     "data": {
      "text/html": [
       "<div>\n",
       "<style scoped>\n",
       "    .dataframe tbody tr th:only-of-type {\n",
       "        vertical-align: middle;\n",
       "    }\n",
       "\n",
       "    .dataframe tbody tr th {\n",
       "        vertical-align: top;\n",
       "    }\n",
       "\n",
       "    .dataframe thead th {\n",
       "        text-align: right;\n",
       "    }\n",
       "</style>\n",
       "<table border=\"1\" class=\"dataframe\">\n",
       "  <thead>\n",
       "    <tr style=\"text-align: right;\">\n",
       "      <th></th>\n",
       "      <th>Id</th>\n",
       "      <th>MeanWeightKg</th>\n",
       "      <th>MeanBMI</th>\n",
       "    </tr>\n",
       "  </thead>\n",
       "  <tbody>\n",
       "    <tr>\n",
       "      <th>0</th>\n",
       "      <td>1503960366</td>\n",
       "      <td>52.599998</td>\n",
       "      <td>22.650000</td>\n",
       "    </tr>\n",
       "    <tr>\n",
       "      <th>1</th>\n",
       "      <td>1927972279</td>\n",
       "      <td>133.500000</td>\n",
       "      <td>47.540001</td>\n",
       "    </tr>\n",
       "    <tr>\n",
       "      <th>2</th>\n",
       "      <td>2873212765</td>\n",
       "      <td>57.000000</td>\n",
       "      <td>21.570001</td>\n",
       "    </tr>\n",
       "    <tr>\n",
       "      <th>3</th>\n",
       "      <td>4319703577</td>\n",
       "      <td>72.350002</td>\n",
       "      <td>27.415000</td>\n",
       "    </tr>\n",
       "    <tr>\n",
       "      <th>4</th>\n",
       "      <td>4558609924</td>\n",
       "      <td>69.639999</td>\n",
       "      <td>27.214000</td>\n",
       "    </tr>\n",
       "  </tbody>\n",
       "</table>\n",
       "</div>"
      ],
      "text/plain": [
       "           Id  MeanWeightKg    MeanBMI\n",
       "0  1503960366     52.599998  22.650000\n",
       "1  1927972279    133.500000  47.540001\n",
       "2  2873212765     57.000000  21.570001\n",
       "3  4319703577     72.350002  27.415000\n",
       "4  4558609924     69.639999  27.214000"
      ]
     },
     "execution_count": 110,
     "metadata": {},
     "output_type": "execute_result"
    }
   ],
   "source": [
    "# visualizing BMI v WeightKg\n",
    "\n",
    "# Accessing the WeightKg dataset\n",
    "weight_BMI_relationship = dataset_weightKg.groupby('Id')[['WeightKg','BMI']].mean().reset_index()\n",
    "weight_BMI_relationship.rename(columns={'WeightKg': 'MeanWeightKg', 'BMI': 'MeanBMI'}, inplace=True)\n",
    "weight_BMI_relationship.head()"
   ]
  },
  {
   "cell_type": "code",
   "execution_count": 111,
   "id": "4c67da7e-7f2d-423b-be46-cf78db8f0f00",
   "metadata": {},
   "outputs": [
    {
     "data": {
      "image/png": "[encoded data removed]",
      "text/plain": [
       "<Figure size 640x480 with 1 Axes>"
      ]
     },
     "metadata": {},
     "output_type": "display_data"
    }
   ],
   "source": [
    "# Visualizing BMI v WeightKg using scatter plot\n",
    "\n",
    "plt.scatter(weight_BMI_relationship['MeanWeightKg'], weight_BMI_relationship['MeanBMI'])\n",
    "plt.xlabel('WeightKg')\n",
    "plt.ylabel('BMI')\n",
    "plt.title('Relationship between WeightKg and BMI')\n",
    "plt.show()"
   ]
  },
  {
   "cell_type": "markdown",
   "id": "e486b13e-8795-4f09-a816-2402d9056f86",
   "metadata": {},
   "source": [
    "BMI is a weight management parameter an individual should take advantage of.  The plot shows that a person's BMI is greatly affected by the person's weight.  This is why people of high weights are encouraged to engage in physical activities.  Not being proactive in weight management can lead to future health complications which can happen even before old age."
   ]
  },
  {
   "cell_type": "code",
   "execution_count": 112,
   "id": "7abd2a3c-5c6f-4f70-93a6-f4ae50cee5e6",
   "metadata": {},
   "outputs": [],
   "source": [
    "# visualizing BMI v SquaredMeanHeight"
   ]
  },
  {
   "cell_type": "markdown",
   "id": "ce0ddfc8-fbfa-4399-b6a2-8be3978442f2",
   "metadata": {},
   "source": [
    "BMI which stands for Body Mass Index is calculated using the formula below:\n",
    "\n",
    "BMI = Weight/(Height)^2\n",
    "\n",
    "The mean height will be assessed giving rise to the SquaredMeanHeight:\n",
    "\n",
    "(MeanHeight)^2 = MeanWeightKg/MeanBMI\n",
    "\n",
    "SquaredMeanHeight = MeanWeightKg/MeanBMI\n",
    "\n",
    "Based on the BMI, the following conditions are considered and structured on a new column called WeightHealth:\n",
    "\n",
    "- MeanBMI <= 18.5 ~ 'Under Weight',\n",
    "- MeanBMI <= 24.9 ~ 'Healthy Weight',\n",
    "- MeanBMI <= 29.9 ~ 'Over Weight',\n",
    "- MeanBMI >= 30 ~ 'Obesity'"
   ]
  },
  {
   "cell_type": "code",
   "execution_count": 113,
   "id": "03c41706-e339-49c6-b5d4-3d1593115d4d",
   "metadata": {},
   "outputs": [
    {
     "data": {
      "text/html": [
       "<div>\n",
       "<style scoped>\n",
       "    .dataframe tbody tr th:only-of-type {\n",
       "        vertical-align: middle;\n",
       "    }\n",
       "\n",
       "    .dataframe tbody tr th {\n",
       "        vertical-align: top;\n",
       "    }\n",
       "\n",
       "    .dataframe thead th {\n",
       "        text-align: right;\n",
       "    }\n",
       "</style>\n",
       "<table border=\"1\" class=\"dataframe\">\n",
       "  <thead>\n",
       "    <tr style=\"text-align: right;\">\n",
       "      <th></th>\n",
       "      <th>Id</th>\n",
       "      <th>MeanWeightKg</th>\n",
       "      <th>MeanBMI</th>\n",
       "      <th>SquaredMeanHeight</th>\n",
       "      <th>WeightHealth</th>\n",
       "    </tr>\n",
       "  </thead>\n",
       "  <tbody>\n",
       "    <tr>\n",
       "      <th>0</th>\n",
       "      <td>1503960366</td>\n",
       "      <td>52.599998</td>\n",
       "      <td>22.650000</td>\n",
       "      <td>2.322296</td>\n",
       "      <td>Healthy Weight</td>\n",
       "    </tr>\n",
       "    <tr>\n",
       "      <th>1</th>\n",
       "      <td>1927972279</td>\n",
       "      <td>133.500000</td>\n",
       "      <td>47.540001</td>\n",
       "      <td>2.808161</td>\n",
       "      <td>Obesity</td>\n",
       "    </tr>\n",
       "    <tr>\n",
       "      <th>2</th>\n",
       "      <td>2873212765</td>\n",
       "      <td>57.000000</td>\n",
       "      <td>21.570001</td>\n",
       "      <td>2.642559</td>\n",
       "      <td>Healthy Weight</td>\n",
       "    </tr>\n",
       "    <tr>\n",
       "      <th>3</th>\n",
       "      <td>4319703577</td>\n",
       "      <td>72.350002</td>\n",
       "      <td>27.415000</td>\n",
       "      <td>2.639066</td>\n",
       "      <td>Over Weight</td>\n",
       "    </tr>\n",
       "    <tr>\n",
       "      <th>4</th>\n",
       "      <td>4558609924</td>\n",
       "      <td>69.639999</td>\n",
       "      <td>27.214000</td>\n",
       "      <td>2.558977</td>\n",
       "      <td>Over Weight</td>\n",
       "    </tr>\n",
       "    <tr>\n",
       "      <th>5</th>\n",
       "      <td>5577150313</td>\n",
       "      <td>90.699997</td>\n",
       "      <td>28.000000</td>\n",
       "      <td>3.239286</td>\n",
       "      <td>Over Weight</td>\n",
       "    </tr>\n",
       "    <tr>\n",
       "      <th>6</th>\n",
       "      <td>6962181067</td>\n",
       "      <td>61.553334</td>\n",
       "      <td>24.028000</td>\n",
       "      <td>2.561734</td>\n",
       "      <td>Healthy Weight</td>\n",
       "    </tr>\n",
       "    <tr>\n",
       "      <th>7</th>\n",
       "      <td>8877689391</td>\n",
       "      <td>85.145834</td>\n",
       "      <td>25.487083</td>\n",
       "      <td>3.340745</td>\n",
       "      <td>Over Weight</td>\n",
       "    </tr>\n",
       "  </tbody>\n",
       "</table>\n",
       "</div>"
      ],
      "text/plain": [
       "           Id  MeanWeightKg    MeanBMI  SquaredMeanHeight    WeightHealth\n",
       "0  1503960366     52.599998  22.650000           2.322296  Healthy Weight\n",
       "1  1927972279    133.500000  47.540001           2.808161         Obesity\n",
       "2  2873212765     57.000000  21.570001           2.642559  Healthy Weight\n",
       "3  4319703577     72.350002  27.415000           2.639066     Over Weight\n",
       "4  4558609924     69.639999  27.214000           2.558977     Over Weight\n",
       "5  5577150313     90.699997  28.000000           3.239286     Over Weight\n",
       "6  6962181067     61.553334  24.028000           2.561734  Healthy Weight\n",
       "7  8877689391     85.145834  25.487083           3.340745     Over Weight"
      ]
     },
     "execution_count": 113,
     "metadata": {},
     "output_type": "execute_result"
    }
   ],
   "source": [
    "# Adding a new columns (SquaredMeanHeight and WeightHealth) to the weight_BMI_relationship dataset\n",
    "\n",
    "# adding the SquaredMeanHeight column\n",
    "extended_weight_BMI_relationship = weight_BMI_relationship\n",
    "extended_weight_BMI_relationship['SquaredMeanHeight'] = weight_BMI_relationship['MeanWeightKg']/weight_BMI_relationship['MeanBMI']\n",
    "\n",
    "# Adding the WeightHealth column\n",
    "conditions = [\n",
    "    (extended_weight_BMI_relationship['MeanBMI'] <= 18.5),\n",
    "    (extended_weight_BMI_relationship['MeanBMI'] <= 24.9),\n",
    "    (extended_weight_BMI_relationship['MeanBMI'] <= 29.9),\n",
    "    (extended_weight_BMI_relationship['MeanBMI'] >= 30)\n",
    "]\n",
    "\n",
    "choices = ['Under Weight', 'Healthy Weight', 'Over Weight', 'Obesity']\n",
    "\n",
    "extended_weight_BMI_relationship['WeightHealth'] = np.select(conditions, choices, default='Unknown')\n",
    "extended_weight_BMI_relationship"
   ]
  },
  {
   "cell_type": "code",
   "execution_count": 114,
   "id": "f9e52957-9253-4488-a543-7c597a7348b5",
   "metadata": {},
   "outputs": [
    {
     "data": {
      "image/png": "[encoded data removed]",
      "text/plain": [
       "<Figure size 1000x600 with 1 Axes>"
      ]
     },
     "metadata": {},
     "output_type": "display_data"
    }
   ],
   "source": [
    "# visual view of BMI classification\n",
    "\n",
    "BMI_classification = extended_weight_BMI_relationship\n",
    "\n",
    "# Grouping the DataFrame by 'WeightHealth' and calculating the mean for each group\n",
    "BMI_classification = BMI_classification.groupby('WeightHealth').mean(numeric_only=True).reset_index()\n",
    "\n",
    "# Set the position of the bars on the x-axis\n",
    "bar_width = 0.35\n",
    "index = np.arange(len(BMI_classification))\n",
    "\n",
    "# Plotting the grouped bar chart\n",
    "fig, ax = plt.subplots(figsize=(10, 6))\n",
    "\n",
    "# Plotting MeanWeightKg\n",
    "ax.bar(index - bar_width/2, BMI_classification['MeanWeightKg'], bar_width, color='b', label='MeanWeightKg')\n",
    "\n",
    "# Plotting SquaredMeanHeight\n",
    "ax.bar(index + bar_width/2, BMI_classification['SquaredMeanHeight'], bar_width, color='r', label='SquaredMeanHeight')\n",
    "\n",
    "# Adding labels and title\n",
    "ax.set_xlabel('Weight Health')\n",
    "ax.set_ylabel('Mean Values')\n",
    "ax.set_title('Mean Weight and Squared Mean Height by Weight Health')\n",
    "ax.set_xticks(index)\n",
    "ax.set_xticklabels(BMI_classification['WeightHealth'])\n",
    "ax.legend()\n",
    "\n",
    "# Rotating x-axis labels for better readability\n",
    "plt.xticks(rotation=45)\n",
    "\n",
    "# Displaying the plot\n",
    "plt.tight_layout()\n",
    "plt.show()"
   ]
  },
  {
   "cell_type": "markdown",
   "id": "6db7ec9e-129d-4f96-9ced-85bff9b16b6f",
   "metadata": {},
   "source": [
    "As seen above, the weight has a greater significant effect on a person's BMI, and since there is nothing one can do about his/her height, nature has given the opportunity to control the weight. The dominant factor affecting a person's BMI is the weight being that the height is constant.  If an individual fails to watch his/her weight by virtue of being strict on eating habits, he/she risk having the following:\n",
    "\n",
    "- Stroke\n",
    "- Heart problem\n",
    "- Hypertension\n",
    "- Diabetes\n",
    "- high blood pressure\n",
    "- gallstones\n",
    "- respiratory problems\n",
    "- cancers, etc"
   ]
  },
  {
   "cell_type": "code",
   "execution_count": 115,
   "id": "af8010ab-a3e6-42d2-bcaa-efbecda98c1b",
   "metadata": {},
   "outputs": [
    {
     "data": {
      "image/png": "[encoded data removed]",
      "text/plain": [
       "<Figure size 640x480 with 1 Axes>"
      ]
     },
     "metadata": {},
     "output_type": "display_data"
    }
   ],
   "source": [
    "# plotting BMI v SquaredMeanHeight\n",
    "\n",
    "plt.scatter(extended_weight_BMI_relationship['SquaredMeanHeight'], extended_weight_BMI_relationship['MeanBMI'])\n",
    "plt.xlabel('SquaredMeanHeight')\n",
    "plt.ylabel('MeanBMI')\n",
    "plt.title('Relationship between BMI and Squared height')\n",
    "plt.show()"
   ]
  },
  {
   "cell_type": "markdown",
   "id": "ef33d806-3203-40a1-b7cf-55832855874e",
   "metadata": {},
   "source": [
    "The image above shows that individual's squared mean height doesn't really have any significant impact on their BMIs but is a necessary factor for measuring one's BMI and being that the height of an individual is not something that can be controlled compared to the weight of the individual."
   ]
  },
  {
   "cell_type": "code",
   "execution_count": 117,
   "id": "3e7685c6-2ad3-4f80-9677-b7802ef1e74c",
   "metadata": {},
   "outputs": [
    {
     "data": {
      "image/png": "[encoded data removed]",
      "text/plain": [
       "<Figure size 1000x600 with 1 Axes>"
      ]
     },
     "metadata": {},
     "output_type": "display_data"
    }
   ],
   "source": [
    "# Discovering healthy weight patterns\n",
    "\n",
    "# Sampling data for colors (assuming color for each category)\n",
    "colors = {'Under Weigh': 'red', 'Healthy Weight': 'blue', 'Over Weight': 'green', 'Obesity': 'orange'}\n",
    "\n",
    "# Plotting the bar chart\n",
    "plt.figure(figsize=(10, 6))\n",
    "weightHealth = extended_weight_BMI_relationship['WeightHealth']\n",
    "meanBMI = extended_weight_BMI_relationship['MeanBMI']\n",
    "\n",
    "plt.bar(weightHealth, meanBMI, color=[colors[val] for val in weightHealth])\n",
    "\n",
    "# Adding labels and title\n",
    "plt.xlabel('WeightHealth')\n",
    "plt.ylabel('MeanBMI')\n",
    "plt.title('relationship between meanBMI and WeightHealth')\n",
    "plt.xticks(rotation=45)\n",
    "\n",
    "# Showing the plot\n",
    "plt.show()"
   ]
  },
  {
   "cell_type": "markdown",
   "id": "9cfb7040-d7a8-47c9-a2b3-77abe4ef6419",
   "metadata": {},
   "source": [
    "The image above shows how one's BMI changes over time due to individual lifestyle and other factors.  Depending on the weight of the individual, someone who once had a healthy weight can overtime become obese, then loose some weight to become over weight and if further weight was lost can once again become healthy in weight.  But these changes is as a result of the person's lifestyle which is an extrinsic factor and the person's personal behaviour which is an intrinsic factor."
   ]
  },
  {
   "cell_type": "code",
   "execution_count": null,
   "id": "56e96e7b-564b-4c20-bf71-026058807535",
   "metadata": {},
   "outputs": [],
   "source": [
    "# Visualizing BMI v usertype_by_distance"
   ]
  },
  {
   "cell_type": "code",
   "execution_count": 131,
   "id": "c6011504-e4bf-4c3b-be77-bad7deb140f8",
   "metadata": {},
   "outputs": [
    {
     "data": {
      "text/html": [
       "<div>\n",
       "<style scoped>\n",
       "    .dataframe tbody tr th:only-of-type {\n",
       "        vertical-align: middle;\n",
       "    }\n",
       "\n",
       "    .dataframe tbody tr th {\n",
       "        vertical-align: top;\n",
       "    }\n",
       "\n",
       "    .dataframe thead th {\n",
       "        text-align: right;\n",
       "    }\n",
       "</style>\n",
       "<table border=\"1\" class=\"dataframe\">\n",
       "  <thead>\n",
       "    <tr style=\"text-align: right;\">\n",
       "      <th></th>\n",
       "      <th>userTypeDistance</th>\n",
       "      <th>MeanBMI</th>\n",
       "      <th>WeightHealth</th>\n",
       "    </tr>\n",
       "  </thead>\n",
       "  <tbody>\n",
       "    <tr>\n",
       "      <th>0</th>\n",
       "      <td>Lightly Active</td>\n",
       "      <td>26.577273</td>\n",
       "      <td>Over Weight</td>\n",
       "    </tr>\n",
       "    <tr>\n",
       "      <th>2</th>\n",
       "      <td>Very Active</td>\n",
       "      <td>22.650000</td>\n",
       "      <td>Healthy Weight</td>\n",
       "    </tr>\n",
       "    <tr>\n",
       "      <th>121</th>\n",
       "      <td>Moderately Active</td>\n",
       "      <td>27.450001</td>\n",
       "      <td>Over Weight</td>\n",
       "    </tr>\n",
       "  </tbody>\n",
       "</table>\n",
       "</div>"
      ],
      "text/plain": [
       "      userTypeDistance    MeanBMI    WeightHealth\n",
       "0       Lightly Active  26.577273     Over Weight\n",
       "2          Very Active  22.650000  Healthy Weight\n",
       "121  Moderately Active  27.450001     Over Weight"
      ]
     },
     "execution_count": 131,
     "metadata": {},
     "output_type": "execute_result"
    }
   ],
   "source": [
    "# Merging the weightLogInfo_merged table and the data_by_usertype_distance table\n",
    "BMI_by_userTypeDistance_merged = pd.merge(dataset_by_usertype_distance, weightLogInfo_merged, on='Id', how='outer')\n",
    "BMI_by_userTypeDistance_merged.dropna(inplace=True)\n",
    "\n",
    "# Calculating MeanBMI and categorizing WeightHealth\n",
    "BMI_by_userTypeDistance_merged['MeanBMI'] = BMI_by_userTypeDistance_merged.groupby('userTypeDistance')['BMI'].transform('mean')\n",
    "BMI_by_userTypeDistance_merged['WeightHealth'] = pd.cut(BMI_by_userTypeDistance_merged['MeanBMI'], bins=[-float('inf'), 18.5, 24.9, 29.9, float('inf')],\n",
    "                                         labels=['Under Weight', 'Healthy Weight', 'Over Weight', 'Obesity'])\n",
    "\n",
    "# Dropping unnecessary columns\n",
    "BMI_by_userTypeDistance_merged = BMI_by_userTypeDistance_merged[['userTypeDistance', 'MeanBMI', 'WeightHealth']].drop_duplicates()\n",
    "\n",
    "BMI_by_userTypeDistance_merged.head()"
   ]
  },
  {
   "cell_type": "code",
   "execution_count": 138,
   "id": "9af1e39c-712e-4e36-90d4-c3b2831afdfe",
   "metadata": {},
   "outputs": [
    {
     "data": {
      "image/png": "[encoded data removed]",
      "text/plain": [
       "<Figure size 1000x600 with 1 Axes>"
      ]
     },
     "metadata": {},
     "output_type": "display_data"
    }
   ],
   "source": [
    "# Making the plot\n",
    "\n",
    "plt.figure(figsize=(10, 6))\n",
    "\n",
    "sns.barplot(data=BMI_by_userTypeDistance_merged,\n",
    "            x='userTypeDistance',\n",
    "            y='MeanBMI',\n",
    "            hue='WeightHealth',\n",
    "            palette='CMRmap')\n",
    "\n",
    "plt.title('Weight Health view by Mean BMI and UserTypeDistance')\n",
    "plt.xlabel('User Type Distance')\n",
    "plt.ylabel('Mean BMI')\n",
    "plt.legend(title='Weight Health', bbox_to_anchor=(1.05, 1), loc='best')\n",
    "plt.grid(True)\n",
    "\n",
    "plt.show()"
   ]
  },
  {
   "cell_type": "markdown",
   "id": "45760dac-b0bb-4772-b0c7-90e01a456b34",
   "metadata": {},
   "source": [
    "From the imgae above, we can see that those who have healthy weight are the very active ones in their different physical activities.  The lightly active and the moderately active ones are the ones that are over weight.  This shows that the more active an individual is while keeping to other health standards, the more healthy the person is in terms of weight which is also a contributing factor to the general well being of the individual."
   ]
  },
  {
   "cell_type": "code",
   "execution_count": 177,
   "id": "6ce62fe1-6b42-4cea-afa3-8ad2e1b72571",
   "metadata": {},
   "outputs": [
    {
     "data": {
      "text/html": [
       "<div>\n",
       "<style scoped>\n",
       "    .dataframe tbody tr th:only-of-type {\n",
       "        vertical-align: middle;\n",
       "    }\n",
       "\n",
       "    .dataframe tbody tr th {\n",
       "        vertical-align: top;\n",
       "    }\n",
       "\n",
       "    .dataframe thead th {\n",
       "        text-align: right;\n",
       "    }\n",
       "</style>\n",
       "<table border=\"1\" class=\"dataframe\">\n",
       "  <thead>\n",
       "    <tr style=\"text-align: right;\">\n",
       "      <th></th>\n",
       "      <th>userTypeMinutes</th>\n",
       "      <th>MeanBMI</th>\n",
       "      <th>WeightHealth</th>\n",
       "    </tr>\n",
       "  </thead>\n",
       "  <tbody>\n",
       "    <tr>\n",
       "      <th>0</th>\n",
       "      <td>Lightly Active</td>\n",
       "      <td>26.650001</td>\n",
       "      <td>Over Weight</td>\n",
       "    </tr>\n",
       "    <tr>\n",
       "      <th>1</th>\n",
       "      <td>Moderately Active</td>\n",
       "      <td>27.450001</td>\n",
       "      <td>Over Weight</td>\n",
       "    </tr>\n",
       "    <tr>\n",
       "      <th>2</th>\n",
       "      <td>Sedentary</td>\n",
       "      <td>26.250000</td>\n",
       "      <td>Over Weight</td>\n",
       "    </tr>\n",
       "  </tbody>\n",
       "</table>\n",
       "</div>"
      ],
      "text/plain": [
       "     userTypeMinutes    MeanBMI WeightHealth\n",
       "0     Lightly Active  26.650001  Over Weight\n",
       "1  Moderately Active  27.450001  Over Weight\n",
       "2          Sedentary  26.250000  Over Weight"
      ]
     },
     "execution_count": 177,
     "metadata": {},
     "output_type": "execute_result"
    }
   ],
   "source": [
    "# visualizing BMI v usertype_by_minute\n",
    "\n",
    "# Merge the two DataFrames on the 'Id' column\n",
    "BMI_by_userTypeMinutes_merged = pd.merge(dataset_by_usertype_minutes, weightLogInfo_merged, on='Id', how='inner')\n",
    "\n",
    "# Drop rows with missing values\n",
    "BMI_by_userTypeMinutes_merged.dropna(inplace=True)\n",
    "\n",
    "# Calculate mean BMI for each userTypeMinute group\n",
    "BMI_by_userTypeMinutes_merged = BMI_by_userTypeMinutes_merged.groupby('userTypeMinutes').agg(MeanBMI=('BMI', 'mean')).reset_index()\n",
    "\n",
    "# Define WeightHealth based on MeanBMI\n",
    "BMI_by_userTypeMinutes_merged['WeightHealth'] = pd.cut(BMI_by_userTypeMinutes_merged['MeanBMI'],\n",
    "                                                      bins=[-float('inf'), 18.5, 24.9, 29.9, float('inf')],\n",
    "                                                      labels=['Under Weight', 'Healthy Weight', 'Over Weight', 'Obesity'])\n",
    "\n",
    "# Reorder the levels of WeightHealth\n",
    "BMI_by_userTypeMinutes_merged['WeightHealth'] = pd.Categorical(BMI_by_userTypeMinutes_merged['WeightHealth'],\n",
    "                                                               categories=['Under Weight', 'Healthy Weight', 'Over Weight', 'Obesity'],\n",
    "                                                               ordered=True)\n",
    "\n",
    "BMI_by_userTypeMinutes_merged"
   ]
  },
  {
   "cell_type": "code",
   "execution_count": 178,
   "id": "2ef9644c-3793-48ff-b2bb-13b77d19431c",
   "metadata": {},
   "outputs": [
    {
     "data": {
      "image/png": "[encoded data removed]",
      "text/plain": [
       "<Figure size 1000x600 with 1 Axes>"
      ]
     },
     "metadata": {},
     "output_type": "display_data"
    }
   ],
   "source": [
    "# Making the plot\n",
    "\n",
    "plt.figure(figsize=(10, 6))\n",
    "\n",
    "sns.barplot(data=BMI_by_userTypeMinutes_merged,\n",
    "            x='userTypeMinutes',\n",
    "            y='MeanBMI',\n",
    "            hue='WeightHealth',\n",
    "            palette='vlag')\n",
    "\n",
    "plt.title('Weight Health view by Mean BMI and UserTypeMinutes')\n",
    "plt.xlabel('User Type minutes')\n",
    "plt.ylabel('Mean BMI')\n",
    "plt.legend(title='Weight Health', bbox_to_anchor=(1.05, 1), loc='best')\n",
    "plt.grid(True)\n",
    "\n",
    "plt.show()"
   ]
  },
  {
   "cell_type": "markdown",
   "id": "a609c7f7-a587-45a6-b76a-c6acf53841ba",
   "metadata": {},
   "source": [
    "From the image above, individuals who spend zero or less minutes compared to those who spend more minutes are the \"Over Weight\" ones, and if their weight are not properly managed it can graduate into being \"Obese\".  Someone who is over weight should be involved in consistent physical activities to watch over the weight of the individual to prevent becoming obese which can further lead to health complications."
   ]
  },
  {
   "cell_type": "code",
   "execution_count": 175,
   "id": "7655d381-b879-4ec9-bf2b-1ad7e1aafc3c",
   "metadata": {},
   "outputs": [
    {
     "data": {
      "text/html": [
       "<div>\n",
       "<style scoped>\n",
       "    .dataframe tbody tr th:only-of-type {\n",
       "        vertical-align: middle;\n",
       "    }\n",
       "\n",
       "    .dataframe tbody tr th {\n",
       "        vertical-align: top;\n",
       "    }\n",
       "\n",
       "    .dataframe thead th {\n",
       "        text-align: right;\n",
       "    }\n",
       "</style>\n",
       "<table border=\"1\" class=\"dataframe\">\n",
       "  <thead>\n",
       "    <tr style=\"text-align: right;\">\n",
       "      <th></th>\n",
       "      <th>Id</th>\n",
       "      <th>MeanBMI</th>\n",
       "      <th>MeanTotalDistance</th>\n",
       "    </tr>\n",
       "  </thead>\n",
       "  <tbody>\n",
       "    <tr>\n",
       "      <th>0</th>\n",
       "      <td>1503960366</td>\n",
       "      <td>22.650000</td>\n",
       "      <td>7.809677</td>\n",
       "    </tr>\n",
       "    <tr>\n",
       "      <th>1</th>\n",
       "      <td>1927972279</td>\n",
       "      <td>47.540001</td>\n",
       "      <td>0.634516</td>\n",
       "    </tr>\n",
       "    <tr>\n",
       "      <th>2</th>\n",
       "      <td>2873212765</td>\n",
       "      <td>21.570001</td>\n",
       "      <td>5.101613</td>\n",
       "    </tr>\n",
       "    <tr>\n",
       "      <th>3</th>\n",
       "      <td>4319703577</td>\n",
       "      <td>27.415000</td>\n",
       "      <td>4.892258</td>\n",
       "    </tr>\n",
       "    <tr>\n",
       "      <th>4</th>\n",
       "      <td>4558609924</td>\n",
       "      <td>27.214000</td>\n",
       "      <td>5.080645</td>\n",
       "    </tr>\n",
       "    <tr>\n",
       "      <th>5</th>\n",
       "      <td>5577150313</td>\n",
       "      <td>28.000000</td>\n",
       "      <td>6.213333</td>\n",
       "    </tr>\n",
       "    <tr>\n",
       "      <th>6</th>\n",
       "      <td>6962181067</td>\n",
       "      <td>24.028000</td>\n",
       "      <td>6.585806</td>\n",
       "    </tr>\n",
       "    <tr>\n",
       "      <th>7</th>\n",
       "      <td>8877689391</td>\n",
       "      <td>25.487083</td>\n",
       "      <td>13.212903</td>\n",
       "    </tr>\n",
       "  </tbody>\n",
       "</table>\n",
       "</div>"
      ],
      "text/plain": [
       "           Id    MeanBMI  MeanTotalDistance\n",
       "0  1503960366  22.650000           7.809677\n",
       "1  1927972279  47.540001           0.634516\n",
       "2  2873212765  21.570001           5.101613\n",
       "3  4319703577  27.415000           4.892258\n",
       "4  4558609924  27.214000           5.080645\n",
       "5  5577150313  28.000000           6.213333\n",
       "6  6962181067  24.028000           6.585806\n",
       "7  8877689391  25.487083          13.212903"
      ]
     },
     "execution_count": 175,
     "metadata": {},
     "output_type": "execute_result"
    }
   ],
   "source": [
    "# Visualizing BMI v TotalDistance\n",
    "\n",
    "BMI_distance_relationship_merged = pd.merge(dailyActivity_merged, weightLogInfo_merged, on='Id', how='inner')\n",
    "\n",
    "BMI_distance_relationship_merged = BMI_distance_relationship_merged.groupby('Id')[['BMI', 'TotalDistance']].mean().reset_index()\n",
    "\n",
    "BMI_distance_relationship_merged.rename(columns={'BMI':'MeanBMI', 'TotalDistance': 'MeanTotalDistance'}, inplace=True)\n",
    "\n",
    "BMI_distance_relationship_merged"
   ]
  },
  {
   "cell_type": "code",
   "execution_count": 179,
   "id": "c755c8ca-890c-467e-8f5e-5e242052d68c",
   "metadata": {},
   "outputs": [
    {
     "data": {
      "image/png": "[encoded data removed]",
      "text/plain": [
       "<Figure size 640x480 with 1 Axes>"
      ]
     },
     "metadata": {},
     "output_type": "display_data"
    }
   ],
   "source": [
    "plt.scatter(BMI_distance_relationship_merged['MeanBMI'], BMI_distance_relationship_merged['MeanTotalDistance'])\n",
    "plt.xlabel('MeanBMI')\n",
    "plt.ylabel('MeanTotalDistance')\n",
    "plt.title('relationship between BMI and Total distance')\n",
    "plt.show()"
   ]
  },
  {
   "cell_type": "code",
   "execution_count": 183,
   "id": "214e490c-f039-46a3-a6fc-d4fc24cb6b03",
   "metadata": {},
   "outputs": [
    {
     "data": {
      "text/html": [
       "<div>\n",
       "<style scoped>\n",
       "    .dataframe tbody tr th:only-of-type {\n",
       "        vertical-align: middle;\n",
       "    }\n",
       "\n",
       "    .dataframe tbody tr th {\n",
       "        vertical-align: top;\n",
       "    }\n",
       "\n",
       "    .dataframe thead th {\n",
       "        text-align: right;\n",
       "    }\n",
       "</style>\n",
       "<table border=\"1\" class=\"dataframe\">\n",
       "  <thead>\n",
       "    <tr style=\"text-align: right;\">\n",
       "      <th></th>\n",
       "      <th>Id</th>\n",
       "      <th>MeanBMI</th>\n",
       "      <th>MeanTotalSteps</th>\n",
       "    </tr>\n",
       "  </thead>\n",
       "  <tbody>\n",
       "    <tr>\n",
       "      <th>0</th>\n",
       "      <td>1503960366</td>\n",
       "      <td>22.650000</td>\n",
       "      <td>12116.741935</td>\n",
       "    </tr>\n",
       "    <tr>\n",
       "      <th>1</th>\n",
       "      <td>1927972279</td>\n",
       "      <td>47.540001</td>\n",
       "      <td>916.129032</td>\n",
       "    </tr>\n",
       "    <tr>\n",
       "      <th>2</th>\n",
       "      <td>2873212765</td>\n",
       "      <td>21.570001</td>\n",
       "      <td>7555.774194</td>\n",
       "    </tr>\n",
       "    <tr>\n",
       "      <th>3</th>\n",
       "      <td>4319703577</td>\n",
       "      <td>27.415000</td>\n",
       "      <td>7268.838710</td>\n",
       "    </tr>\n",
       "    <tr>\n",
       "      <th>4</th>\n",
       "      <td>4558609924</td>\n",
       "      <td>27.214000</td>\n",
       "      <td>7685.129032</td>\n",
       "    </tr>\n",
       "    <tr>\n",
       "      <th>5</th>\n",
       "      <td>5577150313</td>\n",
       "      <td>28.000000</td>\n",
       "      <td>8304.433333</td>\n",
       "    </tr>\n",
       "    <tr>\n",
       "      <th>6</th>\n",
       "      <td>6962181067</td>\n",
       "      <td>24.028000</td>\n",
       "      <td>9794.806452</td>\n",
       "    </tr>\n",
       "    <tr>\n",
       "      <th>7</th>\n",
       "      <td>8877689391</td>\n",
       "      <td>25.487083</td>\n",
       "      <td>16040.032258</td>\n",
       "    </tr>\n",
       "  </tbody>\n",
       "</table>\n",
       "</div>"
      ],
      "text/plain": [
       "           Id    MeanBMI  MeanTotalSteps\n",
       "0  1503960366  22.650000    12116.741935\n",
       "1  1927972279  47.540001      916.129032\n",
       "2  2873212765  21.570001     7555.774194\n",
       "3  4319703577  27.415000     7268.838710\n",
       "4  4558609924  27.214000     7685.129032\n",
       "5  5577150313  28.000000     8304.433333\n",
       "6  6962181067  24.028000     9794.806452\n",
       "7  8877689391  25.487083    16040.032258"
      ]
     },
     "execution_count": 183,
     "metadata": {},
     "output_type": "execute_result"
    }
   ],
   "source": [
    "# visualizing BMI v TotalSteps\n",
    "\n",
    "BMI_steps_relationship_merged = pd.merge(dailyActivity_merged, weightLogInfo_merged, on='Id', how='inner')\n",
    "\n",
    "BMI_steps_relationship_merged = BMI_steps_relationship_merged.groupby('Id')[['BMI', 'TotalSteps']].mean().reset_index()\n",
    "\n",
    "BMI_steps_relationship_merged.rename(columns={'BMI':'MeanBMI', 'TotalSteps': 'MeanTotalSteps'}, inplace=True)\n",
    "\n",
    "BMI_steps_relationship_merged"
   ]
  },
  {
   "cell_type": "code",
   "execution_count": 184,
   "id": "826689d1-9b5e-4dd5-b66a-560920039275",
   "metadata": {},
   "outputs": [
    {
     "data": {
      "image/png": "[encoded data removed]",
      "text/plain": [
       "<Figure size 640x480 with 1 Axes>"
      ]
     },
     "metadata": {},
     "output_type": "display_data"
    }
   ],
   "source": [
    "plt.scatter(BMI_steps_relationship_merged['MeanBMI'], BMI_steps_relationship_merged['MeanTotalSteps'])\n",
    "plt.xlabel('MeanBMI')\n",
    "plt.ylabel('MeanTotalSteps')\n",
    "plt.title('relationship between BMI and Steps covered')\n",
    "plt.show()"
   ]
  },
  {
   "cell_type": "markdown",
   "id": "afdbddf6-5846-4b6c-8589-b57106fc8a6c",
   "metadata": {},
   "source": [
    "From observations on the images for the relationship between \"MeanTotalDistance\" and \"MeanBMI\", people who are involved in taking more steps thereby taking more distance are tend to have more managed healthy weight.  Those who are close to having a healthy weight with time can begin experiencing having a healthy weight as long as they are consistent and dicipline in managing their health and lifestyle."
   ]
  },
  {
   "cell_type": "code",
   "execution_count": null,
   "id": "92465867-e6c7-49cb-9fb7-22f56e9f1cb0",
   "metadata": {},
   "outputs": [],
   "source": []
  }
 ],
 "metadata": {
  "kernelspec": {
   "display_name": "Python 3 (ipykernel)",
   "language": "python",
   "name": "python3"
  },
  "language_info": {
   "codemirror_mode": {
    "name": "ipython",
    "version": 3
   },
   "file_extension": ".py",
   "mimetype": "text/x-python",
   "name": "python",
   "nbconvert_exporter": "python",
   "pygments_lexer": "ipython3",
   "version": "3.10.6"
  }
 },
 "nbformat": 4,
 "nbformat_minor": 5
}
