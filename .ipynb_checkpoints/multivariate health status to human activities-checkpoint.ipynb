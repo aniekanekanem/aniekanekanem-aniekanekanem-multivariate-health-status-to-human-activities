{
 "cells": [
  {
   "cell_type": "markdown",
   "id": "355b5c20-bb94-4bbd-9d45-33a8565b1404",
   "metadata": {},
   "source": [
    "**PROJECT TITLE**:  Multivariate health status to human activities\n",
    "- **Date Created**: April 2 2024\n",
    "- **Last Updated**: April 5 2024\n",
    "- **Project Type**: Research Project\n",
    "- **Author**: Aniekan Charles Ekanem\n",
    "- **Designation**: Data Analyst"
   ]
  },
  {
   "cell_type": "markdown",
   "id": "8b66cdf4-97de-4393-afea-f64c43623cbd",
   "metadata": {},
   "source": [
    "## 1 PROJECT INTRODUCTION\n",
    "\n",
    "This project is curated to help address how the various health angles of a human being inter relates with one another and are being affected by their various human activities.  The various health angles that will be studied in this projects are:\n",
    "- Distance covered\n",
    "- Total steps\n",
    "- Calories burnt\n",
    "- Heart rate\n",
    "- Sleep efficiency\n",
    "- Weight\n",
    "- Body Mass Index\n",
    "\n",
    "This project is based on the writer's view from personal experience and from professional points of view and hence is subject to criticism and any correction, addition, etc is welcome.\n",
    "\n",
    "Data used for this project is obtained from  [Fitbit Fitness Tracker Data](https://www.kaggle.com/datasets/arashnic/fitbit/):\n",
    "\n",
    "- The data is from a reliable source which makes it reliable.\n",
    "- The data is from a first party source and is therefore original.\n",
    "- The data is comprehensive enough to answer the business question.\n",
    "- The data is complete.\n",
    "- The data is cited making it more credible."
   ]
  },
  {
   "cell_type": "markdown",
   "id": "42ccf338-badb-4995-868f-50609e3de473",
   "metadata": {},
   "source": [
    "## 2 LOADING THE LIBRARIES AND DATASETS"
   ]
  },
  {
   "cell_type": "code",
   "execution_count": 1,
   "id": "8bbfb4d7-e373-401a-bf54-d1304dab2ed9",
   "metadata": {},
   "outputs": [],
   "source": [
    "# Importing the libraries\n",
    "import pandas as pd\n",
    "import numpy as np\n",
    "import seaborn as sns\n",
    "import matplotlib.pyplot as plt\n",
    "\n",
    "import os\n",
    "import glob"
   ]
  },
  {
   "cell_type": "code",
   "execution_count": 2,
   "id": "422ec9fa-0e7d-4a00-9df0-8a88a9e6ea7f",
   "metadata": {},
   "outputs": [],
   "source": [
    "# Loading the datasets\n",
    "\n",
    "folder_path = '/home/aniekan/Documents/datasets for data analysis practice/bellabeats project/'\n",
    "\n",
    "# Getting a list of all CSV files in the folder\n",
    "csv_files = glob.glob(os.path.join(folder_path, '*.csv'))\n",
    "\n",
    "# Creating an empty dictionary to store DataFrames\n",
    "dataframes = {}\n",
    "\n",
    "# Iterating through each CSV file and loading it into a DataFrame\n",
    "for file in csv_files:\n",
    "    # Extract the file name without extension\n",
    "    file_name = os.path.splitext(os.path.basename(file))[0]\n",
    "    # Load the CSV file into a DataFrame and store it in the dictionary\n",
    "    dataframes[file_name] = pd.read_csv(file)\n",
    "\n",
    "# Now you can access each DataFrame using its corresponding file name\n",
    "dailyActivity_merged = dataframes['dailyActivity_merged']\n",
    "heartrate_seconds_merged = dataframes['heartrate_seconds_merged']\n",
    "hourlySteps_merged = dataframes['hourlySteps_merged']\n",
    "sleepDay_merged = dataframes['sleepDay_merged']\n",
    "weightLogInfo_merged = dataframes['weightLogInfo_merged']\n",
    "hourlyCalories_merged = dataframes['hourlyCalories_merged']\n",
    "hourlyIntensities_merged = dataframes['hourlyIntensities_merged']\n",
    "minuteCaloriesNarrow_merged = dataframes['minuteCaloriesNarrow_merged']\n",
    "minuteCaloriesWide_merged = dataframes['minuteCaloriesWide_merged']\n",
    "minuteIntensitiesNarrow_merged = dataframes['minuteIntensitiesNarrow_merged']\n",
    "minuteIntensitiesWide_merged = dataframes['minuteIntensitiesWide_merged']\n",
    "minuteMETsNarrow_merged = dataframes['minuteMETsNarrow_merged']\n",
    "minuteSleep_merged = dataframes['minuteSleep_merged']\n",
    "minuteStepsNarrow_merged = dataframes['minuteStepsNarrow_merged']\n",
    "minuteStepsWide_merged = dataframes['minuteStepsWide_merged']"
   ]
  },
  {
   "cell_type": "markdown",
   "id": "9375b74c-e9c6-4cd0-8ffb-0a5b6705f162",
   "metadata": {},
   "source": [
    "## 3 DATA PROCESSING"
   ]
  },
  {
   "cell_type": "markdown",
   "id": "98dd8ebf-857c-453c-8f29-c676714328d0",
   "metadata": {},
   "source": [
    "The above datasets are very large datasets and will need to undergo the following data processings:\n",
    "\n",
    "\n",
    "- Data inspection including checking the structure of the datasets, checking descriptive statistics, checking for data types, checking for missing data, applying feature engineering, data cleaning, etc.  This is to prepare the data for the analysis process.\n",
    "- Exploratory Data Analysis"
   ]
  },
  {
   "cell_type": "markdown",
   "id": "82336faf-89f9-44a3-88f9-c8a0be962c2f",
   "metadata": {},
   "source": [
    "**I. PROCESSING DAILYACTIVITY_MERGE DATASET**"
   ]
  },
  {
   "cell_type": "code",
   "execution_count": 3,
   "id": "c61b73df-6603-411f-8af6-adf531d28eb4",
   "metadata": {},
   "outputs": [
    {
     "data": {
      "text/html": [
       "<div>\n",
       "<style scoped>\n",
       "    .dataframe tbody tr th:only-of-type {\n",
       "        vertical-align: middle;\n",
       "    }\n",
       "\n",
       "    .dataframe tbody tr th {\n",
       "        vertical-align: top;\n",
       "    }\n",
       "\n",
       "    .dataframe thead th {\n",
       "        text-align: right;\n",
       "    }\n",
       "</style>\n",
       "<table border=\"1\" class=\"dataframe\">\n",
       "  <thead>\n",
       "    <tr style=\"text-align: right;\">\n",
       "      <th></th>\n",
       "      <th>Id</th>\n",
       "      <th>ActivityDate</th>\n",
       "      <th>TotalSteps</th>\n",
       "      <th>TotalDistance</th>\n",
       "      <th>TrackerDistance</th>\n",
       "      <th>LoggedActivitiesDistance</th>\n",
       "      <th>VeryActiveDistance</th>\n",
       "      <th>ModeratelyActiveDistance</th>\n",
       "      <th>LightActiveDistance</th>\n",
       "      <th>SedentaryActiveDistance</th>\n",
       "      <th>VeryActiveMinutes</th>\n",
       "      <th>FairlyActiveMinutes</th>\n",
       "      <th>LightlyActiveMinutes</th>\n",
       "      <th>SedentaryMinutes</th>\n",
       "      <th>Calories</th>\n",
       "    </tr>\n",
       "  </thead>\n",
       "  <tbody>\n",
       "    <tr>\n",
       "      <th>0</th>\n",
       "      <td>1503960366</td>\n",
       "      <td>4/12/2016</td>\n",
       "      <td>13162</td>\n",
       "      <td>8.50</td>\n",
       "      <td>8.50</td>\n",
       "      <td>0.0</td>\n",
       "      <td>1.88</td>\n",
       "      <td>0.55</td>\n",
       "      <td>6.06</td>\n",
       "      <td>0.0</td>\n",
       "      <td>25</td>\n",
       "      <td>13</td>\n",
       "      <td>328</td>\n",
       "      <td>728</td>\n",
       "      <td>1985</td>\n",
       "    </tr>\n",
       "    <tr>\n",
       "      <th>1</th>\n",
       "      <td>1503960366</td>\n",
       "      <td>4/13/2016</td>\n",
       "      <td>10735</td>\n",
       "      <td>6.97</td>\n",
       "      <td>6.97</td>\n",
       "      <td>0.0</td>\n",
       "      <td>1.57</td>\n",
       "      <td>0.69</td>\n",
       "      <td>4.71</td>\n",
       "      <td>0.0</td>\n",
       "      <td>21</td>\n",
       "      <td>19</td>\n",
       "      <td>217</td>\n",
       "      <td>776</td>\n",
       "      <td>1797</td>\n",
       "    </tr>\n",
       "    <tr>\n",
       "      <th>2</th>\n",
       "      <td>1503960366</td>\n",
       "      <td>4/14/2016</td>\n",
       "      <td>10460</td>\n",
       "      <td>6.74</td>\n",
       "      <td>6.74</td>\n",
       "      <td>0.0</td>\n",
       "      <td>2.44</td>\n",
       "      <td>0.40</td>\n",
       "      <td>3.91</td>\n",
       "      <td>0.0</td>\n",
       "      <td>30</td>\n",
       "      <td>11</td>\n",
       "      <td>181</td>\n",
       "      <td>1218</td>\n",
       "      <td>1776</td>\n",
       "    </tr>\n",
       "    <tr>\n",
       "      <th>3</th>\n",
       "      <td>1503960366</td>\n",
       "      <td>4/15/2016</td>\n",
       "      <td>9762</td>\n",
       "      <td>6.28</td>\n",
       "      <td>6.28</td>\n",
       "      <td>0.0</td>\n",
       "      <td>2.14</td>\n",
       "      <td>1.26</td>\n",
       "      <td>2.83</td>\n",
       "      <td>0.0</td>\n",
       "      <td>29</td>\n",
       "      <td>34</td>\n",
       "      <td>209</td>\n",
       "      <td>726</td>\n",
       "      <td>1745</td>\n",
       "    </tr>\n",
       "    <tr>\n",
       "      <th>4</th>\n",
       "      <td>1503960366</td>\n",
       "      <td>4/16/2016</td>\n",
       "      <td>12669</td>\n",
       "      <td>8.16</td>\n",
       "      <td>8.16</td>\n",
       "      <td>0.0</td>\n",
       "      <td>2.71</td>\n",
       "      <td>0.41</td>\n",
       "      <td>5.04</td>\n",
       "      <td>0.0</td>\n",
       "      <td>36</td>\n",
       "      <td>10</td>\n",
       "      <td>221</td>\n",
       "      <td>773</td>\n",
       "      <td>1863</td>\n",
       "    </tr>\n",
       "  </tbody>\n",
       "</table>\n",
       "</div>"
      ],
      "text/plain": [
       "           Id ActivityDate  TotalSteps  TotalDistance  TrackerDistance  \\\n",
       "0  1503960366    4/12/2016       13162           8.50             8.50   \n",
       "1  1503960366    4/13/2016       10735           6.97             6.97   \n",
       "2  1503960366    4/14/2016       10460           6.74             6.74   \n",
       "3  1503960366    4/15/2016        9762           6.28             6.28   \n",
       "4  1503960366    4/16/2016       12669           8.16             8.16   \n",
       "\n",
       "   LoggedActivitiesDistance  VeryActiveDistance  ModeratelyActiveDistance  \\\n",
       "0                       0.0                1.88                      0.55   \n",
       "1                       0.0                1.57                      0.69   \n",
       "2                       0.0                2.44                      0.40   \n",
       "3                       0.0                2.14                      1.26   \n",
       "4                       0.0                2.71                      0.41   \n",
       "\n",
       "   LightActiveDistance  SedentaryActiveDistance  VeryActiveMinutes  \\\n",
       "0                 6.06                      0.0                 25   \n",
       "1                 4.71                      0.0                 21   \n",
       "2                 3.91                      0.0                 30   \n",
       "3                 2.83                      0.0                 29   \n",
       "4                 5.04                      0.0                 36   \n",
       "\n",
       "   FairlyActiveMinutes  LightlyActiveMinutes  SedentaryMinutes  Calories  \n",
       "0                   13                   328               728      1985  \n",
       "1                   19                   217               776      1797  \n",
       "2                   11                   181              1218      1776  \n",
       "3                   34                   209               726      1745  \n",
       "4                   10                   221               773      1863  "
      ]
     },
     "execution_count": 3,
     "metadata": {},
     "output_type": "execute_result"
    }
   ],
   "source": [
    "# General viewing and inspection of the dailyActivity_merged dataset variables and data\n",
    "\n",
    "dailyActivity_merged.head(5)"
   ]
  },
  {
   "cell_type": "code",
   "execution_count": 4,
   "id": "c8681140-a608-4ae7-aff7-c9c79f78988a",
   "metadata": {},
   "outputs": [
    {
     "data": {
      "text/plain": [
       "Id                            int64\n",
       "ActivityDate                 object\n",
       "TotalSteps                    int64\n",
       "TotalDistance               float64\n",
       "TrackerDistance             float64\n",
       "LoggedActivitiesDistance    float64\n",
       "VeryActiveDistance          float64\n",
       "ModeratelyActiveDistance    float64\n",
       "LightActiveDistance         float64\n",
       "SedentaryActiveDistance     float64\n",
       "VeryActiveMinutes             int64\n",
       "FairlyActiveMinutes           int64\n",
       "LightlyActiveMinutes          int64\n",
       "SedentaryMinutes              int64\n",
       "Calories                      int64\n",
       "dtype: object"
      ]
     },
     "execution_count": 4,
     "metadata": {},
     "output_type": "execute_result"
    }
   ],
   "source": [
    "# Checking the dataypes of the dataset variables\n",
    "\n",
    "dailyActivity_merged.dtypes"
   ]
  },
  {
   "cell_type": "code",
   "execution_count": 5,
   "id": "ebd788e9-220f-471b-8cb4-5c8f332c1328",
   "metadata": {},
   "outputs": [],
   "source": [
    "# Converting Id and ActivityDate datatype to string and date format respectively\n",
    "dailyActivity_merged['Id'] = dailyActivity_merged['Id'].astype(str)\n",
    "dailyActivity_merged['ActivityDate'] = pd.to_datetime(dailyActivity_merged['ActivityDate'])"
   ]
  },
  {
   "cell_type": "code",
   "execution_count": 6,
   "id": "0646db07-06fd-46b3-8643-f18739b1eb68",
   "metadata": {},
   "outputs": [
    {
     "data": {
      "text/plain": [
       "Id                                  object\n",
       "ActivityDate                datetime64[ns]\n",
       "TotalSteps                           int64\n",
       "TotalDistance                      float64\n",
       "TrackerDistance                    float64\n",
       "LoggedActivitiesDistance           float64\n",
       "VeryActiveDistance                 float64\n",
       "ModeratelyActiveDistance           float64\n",
       "LightActiveDistance                float64\n",
       "SedentaryActiveDistance            float64\n",
       "VeryActiveMinutes                    int64\n",
       "FairlyActiveMinutes                  int64\n",
       "LightlyActiveMinutes                 int64\n",
       "SedentaryMinutes                     int64\n",
       "Calories                             int64\n",
       "dtype: object"
      ]
     },
     "execution_count": 6,
     "metadata": {},
     "output_type": "execute_result"
    }
   ],
   "source": [
    "#  Cross-checking the datatypes\n",
    "dailyActivity_merged.dtypes"
   ]
  },
  {
   "cell_type": "code",
   "execution_count": 7,
   "id": "142840f0-2320-4a9f-b05e-1893f7df63b5",
   "metadata": {},
   "outputs": [],
   "source": [
    "# Checking for unique datatype"
   ]
  },
  {
   "cell_type": "code",
   "execution_count": 8,
   "id": "018a1f97-1563-45b8-9165-aec22c53c7c1",
   "metadata": {},
   "outputs": [],
   "source": [
    "# Function to count unique data types in a column and return counts\n",
    "def count_unique_data_types(col):\n",
    "    data_type_count = len(set(map(type, col)))\n",
    "    return data_type_count"
   ]
  },
  {
   "cell_type": "code",
   "execution_count": 9,
   "id": "e6855b1c-2c07-4af3-80cf-36ab1e5428d0",
   "metadata": {},
   "outputs": [
    {
     "name": "stdout",
     "output_type": "stream",
     "text": [
      "Column Name: Count of Unique Data Types\n",
      "Id: 1\n",
      "ActivityDate: 1\n",
      "TotalSteps: 1\n",
      "TotalDistance: 1\n",
      "TrackerDistance: 1\n",
      "LoggedActivitiesDistance: 1\n",
      "VeryActiveDistance: 1\n",
      "ModeratelyActiveDistance: 1\n",
      "LightActiveDistance: 1\n",
      "SedentaryActiveDistance: 1\n",
      "VeryActiveMinutes: 1\n",
      "FairlyActiveMinutes: 1\n",
      "LightlyActiveMinutes: 1\n",
      "SedentaryMinutes: 1\n",
      "Calories: 1\n"
     ]
    }
   ],
   "source": [
    "# Counting the number of unique data types in each column and store the result in a dictionary\n",
    "result = {}\n",
    "for column in dailyActivity_merged.columns:\n",
    "    result[column] = count_unique_data_types(dailyActivity_merged[column])\n",
    "\n",
    "# Printing the result with column names\n",
    "print(\"Column Name: Count of Unique Data Types\")\n",
    "for column, count in result.items():\n",
    "    print(f\"{column}: {count}\")"
   ]
  },
  {
   "cell_type": "code",
   "execution_count": 10,
   "id": "24c4046a-bf45-490a-b75f-49050d6f9768",
   "metadata": {},
   "outputs": [
    {
     "data": {
      "text/html": [
       "<div>\n",
       "<style scoped>\n",
       "    .dataframe tbody tr th:only-of-type {\n",
       "        vertical-align: middle;\n",
       "    }\n",
       "\n",
       "    .dataframe tbody tr th {\n",
       "        vertical-align: top;\n",
       "    }\n",
       "\n",
       "    .dataframe thead th {\n",
       "        text-align: right;\n",
       "    }\n",
       "</style>\n",
       "<table border=\"1\" class=\"dataframe\">\n",
       "  <thead>\n",
       "    <tr style=\"text-align: right;\">\n",
       "      <th></th>\n",
       "      <th>TotalSteps</th>\n",
       "      <th>TotalDistance</th>\n",
       "      <th>TrackerDistance</th>\n",
       "      <th>LoggedActivitiesDistance</th>\n",
       "      <th>VeryActiveDistance</th>\n",
       "      <th>ModeratelyActiveDistance</th>\n",
       "      <th>LightActiveDistance</th>\n",
       "      <th>SedentaryActiveDistance</th>\n",
       "      <th>VeryActiveMinutes</th>\n",
       "      <th>FairlyActiveMinutes</th>\n",
       "      <th>LightlyActiveMinutes</th>\n",
       "      <th>SedentaryMinutes</th>\n",
       "      <th>Calories</th>\n",
       "    </tr>\n",
       "  </thead>\n",
       "  <tbody>\n",
       "    <tr>\n",
       "      <th>count</th>\n",
       "      <td>940.000000</td>\n",
       "      <td>940.000000</td>\n",
       "      <td>940.000000</td>\n",
       "      <td>940.000000</td>\n",
       "      <td>940.000000</td>\n",
       "      <td>940.000000</td>\n",
       "      <td>940.000000</td>\n",
       "      <td>940.000000</td>\n",
       "      <td>940.000000</td>\n",
       "      <td>940.000000</td>\n",
       "      <td>940.000000</td>\n",
       "      <td>940.000000</td>\n",
       "      <td>940.000000</td>\n",
       "    </tr>\n",
       "    <tr>\n",
       "      <th>mean</th>\n",
       "      <td>7637.910638</td>\n",
       "      <td>5.489702</td>\n",
       "      <td>5.475351</td>\n",
       "      <td>0.108171</td>\n",
       "      <td>1.502681</td>\n",
       "      <td>0.567543</td>\n",
       "      <td>3.340819</td>\n",
       "      <td>0.001606</td>\n",
       "      <td>21.164894</td>\n",
       "      <td>13.564894</td>\n",
       "      <td>192.812766</td>\n",
       "      <td>991.210638</td>\n",
       "      <td>2303.609574</td>\n",
       "    </tr>\n",
       "    <tr>\n",
       "      <th>std</th>\n",
       "      <td>5087.150742</td>\n",
       "      <td>3.924606</td>\n",
       "      <td>3.907276</td>\n",
       "      <td>0.619897</td>\n",
       "      <td>2.658941</td>\n",
       "      <td>0.883580</td>\n",
       "      <td>2.040655</td>\n",
       "      <td>0.007346</td>\n",
       "      <td>32.844803</td>\n",
       "      <td>19.987404</td>\n",
       "      <td>109.174700</td>\n",
       "      <td>301.267437</td>\n",
       "      <td>718.166862</td>\n",
       "    </tr>\n",
       "    <tr>\n",
       "      <th>min</th>\n",
       "      <td>0.000000</td>\n",
       "      <td>0.000000</td>\n",
       "      <td>0.000000</td>\n",
       "      <td>0.000000</td>\n",
       "      <td>0.000000</td>\n",
       "      <td>0.000000</td>\n",
       "      <td>0.000000</td>\n",
       "      <td>0.000000</td>\n",
       "      <td>0.000000</td>\n",
       "      <td>0.000000</td>\n",
       "      <td>0.000000</td>\n",
       "      <td>0.000000</td>\n",
       "      <td>0.000000</td>\n",
       "    </tr>\n",
       "    <tr>\n",
       "      <th>25%</th>\n",
       "      <td>3789.750000</td>\n",
       "      <td>2.620000</td>\n",
       "      <td>2.620000</td>\n",
       "      <td>0.000000</td>\n",
       "      <td>0.000000</td>\n",
       "      <td>0.000000</td>\n",
       "      <td>1.945000</td>\n",
       "      <td>0.000000</td>\n",
       "      <td>0.000000</td>\n",
       "      <td>0.000000</td>\n",
       "      <td>127.000000</td>\n",
       "      <td>729.750000</td>\n",
       "      <td>1828.500000</td>\n",
       "    </tr>\n",
       "    <tr>\n",
       "      <th>50%</th>\n",
       "      <td>7405.500000</td>\n",
       "      <td>5.245000</td>\n",
       "      <td>5.245000</td>\n",
       "      <td>0.000000</td>\n",
       "      <td>0.210000</td>\n",
       "      <td>0.240000</td>\n",
       "      <td>3.365000</td>\n",
       "      <td>0.000000</td>\n",
       "      <td>4.000000</td>\n",
       "      <td>6.000000</td>\n",
       "      <td>199.000000</td>\n",
       "      <td>1057.500000</td>\n",
       "      <td>2134.000000</td>\n",
       "    </tr>\n",
       "    <tr>\n",
       "      <th>75%</th>\n",
       "      <td>10727.000000</td>\n",
       "      <td>7.712500</td>\n",
       "      <td>7.710000</td>\n",
       "      <td>0.000000</td>\n",
       "      <td>2.052500</td>\n",
       "      <td>0.800000</td>\n",
       "      <td>4.782500</td>\n",
       "      <td>0.000000</td>\n",
       "      <td>32.000000</td>\n",
       "      <td>19.000000</td>\n",
       "      <td>264.000000</td>\n",
       "      <td>1229.500000</td>\n",
       "      <td>2793.250000</td>\n",
       "    </tr>\n",
       "    <tr>\n",
       "      <th>max</th>\n",
       "      <td>36019.000000</td>\n",
       "      <td>28.030001</td>\n",
       "      <td>28.030001</td>\n",
       "      <td>4.942142</td>\n",
       "      <td>21.920000</td>\n",
       "      <td>6.480000</td>\n",
       "      <td>10.710000</td>\n",
       "      <td>0.110000</td>\n",
       "      <td>210.000000</td>\n",
       "      <td>143.000000</td>\n",
       "      <td>518.000000</td>\n",
       "      <td>1440.000000</td>\n",
       "      <td>4900.000000</td>\n",
       "    </tr>\n",
       "  </tbody>\n",
       "</table>\n",
       "</div>"
      ],
      "text/plain": [
       "         TotalSteps  TotalDistance  TrackerDistance  LoggedActivitiesDistance  \\\n",
       "count    940.000000     940.000000       940.000000                940.000000   \n",
       "mean    7637.910638       5.489702         5.475351                  0.108171   \n",
       "std     5087.150742       3.924606         3.907276                  0.619897   \n",
       "min        0.000000       0.000000         0.000000                  0.000000   \n",
       "25%     3789.750000       2.620000         2.620000                  0.000000   \n",
       "50%     7405.500000       5.245000         5.245000                  0.000000   \n",
       "75%    10727.000000       7.712500         7.710000                  0.000000   \n",
       "max    36019.000000      28.030001        28.030001                  4.942142   \n",
       "\n",
       "       VeryActiveDistance  ModeratelyActiveDistance  LightActiveDistance  \\\n",
       "count          940.000000                940.000000           940.000000   \n",
       "mean             1.502681                  0.567543             3.340819   \n",
       "std              2.658941                  0.883580             2.040655   \n",
       "min              0.000000                  0.000000             0.000000   \n",
       "25%              0.000000                  0.000000             1.945000   \n",
       "50%              0.210000                  0.240000             3.365000   \n",
       "75%              2.052500                  0.800000             4.782500   \n",
       "max             21.920000                  6.480000            10.710000   \n",
       "\n",
       "       SedentaryActiveDistance  VeryActiveMinutes  FairlyActiveMinutes  \\\n",
       "count               940.000000         940.000000           940.000000   \n",
       "mean                  0.001606          21.164894            13.564894   \n",
       "std                   0.007346          32.844803            19.987404   \n",
       "min                   0.000000           0.000000             0.000000   \n",
       "25%                   0.000000           0.000000             0.000000   \n",
       "50%                   0.000000           4.000000             6.000000   \n",
       "75%                   0.000000          32.000000            19.000000   \n",
       "max                   0.110000         210.000000           143.000000   \n",
       "\n",
       "       LightlyActiveMinutes  SedentaryMinutes     Calories  \n",
       "count            940.000000        940.000000   940.000000  \n",
       "mean             192.812766        991.210638  2303.609574  \n",
       "std              109.174700        301.267437   718.166862  \n",
       "min                0.000000          0.000000     0.000000  \n",
       "25%              127.000000        729.750000  1828.500000  \n",
       "50%              199.000000       1057.500000  2134.000000  \n",
       "75%              264.000000       1229.500000  2793.250000  \n",
       "max              518.000000       1440.000000  4900.000000  "
      ]
     },
     "execution_count": 10,
     "metadata": {},
     "output_type": "execute_result"
    }
   ],
   "source": [
    "# Checking the descriptive statistics of the dataset\n",
    "dailyActivity_merged.describe()"
   ]
  },
  {
   "cell_type": "markdown",
   "id": "ef06bdf8-2dc2-497b-a10f-07b64c58dff3",
   "metadata": {},
   "source": []
  },
  {
   "cell_type": "markdown",
   "id": "407daed6-797e-4f66-936e-ec5027ae87b6",
   "metadata": {},
   "source": [
    "**II. PROCESSING HEARTRATE_SECONDS_MERGED DATASET**"
   ]
  },
  {
   "cell_type": "code",
   "execution_count": 11,
   "id": "e0a1ea8c-af20-4925-84e4-3fc16df682d3",
   "metadata": {},
   "outputs": [
    {
     "data": {
      "text/html": [
       "<div>\n",
       "<style scoped>\n",
       "    .dataframe tbody tr th:only-of-type {\n",
       "        vertical-align: middle;\n",
       "    }\n",
       "\n",
       "    .dataframe tbody tr th {\n",
       "        vertical-align: top;\n",
       "    }\n",
       "\n",
       "    .dataframe thead th {\n",
       "        text-align: right;\n",
       "    }\n",
       "</style>\n",
       "<table border=\"1\" class=\"dataframe\">\n",
       "  <thead>\n",
       "    <tr style=\"text-align: right;\">\n",
       "      <th></th>\n",
       "      <th>Id</th>\n",
       "      <th>Time</th>\n",
       "      <th>Value</th>\n",
       "    </tr>\n",
       "  </thead>\n",
       "  <tbody>\n",
       "    <tr>\n",
       "      <th>0</th>\n",
       "      <td>2022484408</td>\n",
       "      <td>4/12/2016 7:21:00 AM</td>\n",
       "      <td>97</td>\n",
       "    </tr>\n",
       "    <tr>\n",
       "      <th>1</th>\n",
       "      <td>2022484408</td>\n",
       "      <td>4/12/2016 7:21:05 AM</td>\n",
       "      <td>102</td>\n",
       "    </tr>\n",
       "    <tr>\n",
       "      <th>2</th>\n",
       "      <td>2022484408</td>\n",
       "      <td>4/12/2016 7:21:10 AM</td>\n",
       "      <td>105</td>\n",
       "    </tr>\n",
       "    <tr>\n",
       "      <th>3</th>\n",
       "      <td>2022484408</td>\n",
       "      <td>4/12/2016 7:21:20 AM</td>\n",
       "      <td>103</td>\n",
       "    </tr>\n",
       "    <tr>\n",
       "      <th>4</th>\n",
       "      <td>2022484408</td>\n",
       "      <td>4/12/2016 7:21:25 AM</td>\n",
       "      <td>101</td>\n",
       "    </tr>\n",
       "  </tbody>\n",
       "</table>\n",
       "</div>"
      ],
      "text/plain": [
       "           Id                  Time  Value\n",
       "0  2022484408  4/12/2016 7:21:00 AM     97\n",
       "1  2022484408  4/12/2016 7:21:05 AM    102\n",
       "2  2022484408  4/12/2016 7:21:10 AM    105\n",
       "3  2022484408  4/12/2016 7:21:20 AM    103\n",
       "4  2022484408  4/12/2016 7:21:25 AM    101"
      ]
     },
     "execution_count": 11,
     "metadata": {},
     "output_type": "execute_result"
    }
   ],
   "source": [
    "# General viewing and inspection of the heartrate_seconds_merged dataset variables and data\n",
    "\n",
    "heartrate_seconds_merged.head(5)"
   ]
  },
  {
   "cell_type": "code",
   "execution_count": 12,
   "id": "a1d60250-0b94-431d-b5b7-185bcfbb404b",
   "metadata": {},
   "outputs": [
    {
     "data": {
      "text/plain": [
       "Id        int64\n",
       "Time     object\n",
       "Value     int64\n",
       "dtype: object"
      ]
     },
     "execution_count": 12,
     "metadata": {},
     "output_type": "execute_result"
    }
   ],
   "source": [
    "# Checking the datatypes of heartrate_seconds_merged dataset variables\n",
    "\n",
    "heartrate_seconds_merged.dtypes"
   ]
  },
  {
   "cell_type": "code",
   "execution_count": 13,
   "id": "6df9aede-9ca3-45be-ae93-a89ae1c19743",
   "metadata": {},
   "outputs": [],
   "source": [
    "# Converting the Id and Time datatype to 'string' and 'date format' data type respectively\n",
    "\n",
    "# Extracting date from Time column\n",
    "heartrate_seconds_merged['Time'] = pd.to_datetime(heartrate_seconds_merged['Time'])\n",
    "heartrate_seconds_merged['ActivityDate'] = heartrate_seconds_merged['Time'].dt.date\n",
    "\n",
    "# Rearranging columns\n",
    "heartrate_seconds_merged = heartrate_seconds_merged[['Id', 'Time', 'ActivityDate', 'Value']]\n",
    "\n",
    "# # Converting to the respective data types\n",
    "heartrate_seconds_merged['Id'] = heartrate_seconds_merged['Id'].astype(str)\n",
    "heartrate_seconds_merged['ActivityDate'] = pd.to_datetime(heartrate_seconds_merged['ActivityDate'])"
   ]
  },
  {
   "cell_type": "code",
   "execution_count": 14,
   "id": "41d498c0-fffc-4545-b9cc-d2643ba212ce",
   "metadata": {},
   "outputs": [
    {
     "data": {
      "text/plain": [
       "Id                      object\n",
       "Time            datetime64[ns]\n",
       "ActivityDate    datetime64[ns]\n",
       "Value                    int64\n",
       "dtype: object"
      ]
     },
     "execution_count": 14,
     "metadata": {},
     "output_type": "execute_result"
    }
   ],
   "source": [
    "#  Cross-checking the datatypes\n",
    "heartrate_seconds_merged.dtypes"
   ]
  },
  {
   "cell_type": "code",
   "execution_count": 15,
   "id": "2a4ff67e-162b-4a4c-af17-7c191923f894",
   "metadata": {},
   "outputs": [],
   "source": [
    "# Checking for unique datatype"
   ]
  },
  {
   "cell_type": "code",
   "execution_count": 16,
   "id": "5d48192b-0587-46d4-bba8-607b1f2a4e95",
   "metadata": {},
   "outputs": [
    {
     "name": "stdout",
     "output_type": "stream",
     "text": [
      "Column Name: Count of Unique Data Types\n",
      "Id: 1\n",
      "Time: 1\n",
      "ActivityDate: 1\n",
      "Value: 1\n"
     ]
    }
   ],
   "source": [
    "# Counting the number of unique data types in each column and store the result in a dictionary\n",
    "result = {}\n",
    "for column in heartrate_seconds_merged.columns:\n",
    "    result[column] = count_unique_data_types(heartrate_seconds_merged[column])\n",
    "\n",
    "# Printing the result with column names\n",
    "print(\"Column Name: Count of Unique Data Types\")\n",
    "for column, count in result.items():\n",
    "    print(f\"{column}: {count}\")"
   ]
  },
  {
   "cell_type": "code",
   "execution_count": 17,
   "id": "b5dbe6e5-7643-4aac-a800-202b80cee907",
   "metadata": {},
   "outputs": [
    {
     "data": {
      "text/html": [
       "<div>\n",
       "<style scoped>\n",
       "    .dataframe tbody tr th:only-of-type {\n",
       "        vertical-align: middle;\n",
       "    }\n",
       "\n",
       "    .dataframe tbody tr th {\n",
       "        vertical-align: top;\n",
       "    }\n",
       "\n",
       "    .dataframe thead th {\n",
       "        text-align: right;\n",
       "    }\n",
       "</style>\n",
       "<table border=\"1\" class=\"dataframe\">\n",
       "  <thead>\n",
       "    <tr style=\"text-align: right;\">\n",
       "      <th></th>\n",
       "      <th>Value</th>\n",
       "    </tr>\n",
       "  </thead>\n",
       "  <tbody>\n",
       "    <tr>\n",
       "      <th>count</th>\n",
       "      <td>2.483658e+06</td>\n",
       "    </tr>\n",
       "    <tr>\n",
       "      <th>mean</th>\n",
       "      <td>7.732842e+01</td>\n",
       "    </tr>\n",
       "    <tr>\n",
       "      <th>std</th>\n",
       "      <td>1.940450e+01</td>\n",
       "    </tr>\n",
       "    <tr>\n",
       "      <th>min</th>\n",
       "      <td>3.600000e+01</td>\n",
       "    </tr>\n",
       "    <tr>\n",
       "      <th>25%</th>\n",
       "      <td>6.300000e+01</td>\n",
       "    </tr>\n",
       "    <tr>\n",
       "      <th>50%</th>\n",
       "      <td>7.300000e+01</td>\n",
       "    </tr>\n",
       "    <tr>\n",
       "      <th>75%</th>\n",
       "      <td>8.800000e+01</td>\n",
       "    </tr>\n",
       "    <tr>\n",
       "      <th>max</th>\n",
       "      <td>2.030000e+02</td>\n",
       "    </tr>\n",
       "  </tbody>\n",
       "</table>\n",
       "</div>"
      ],
      "text/plain": [
       "              Value\n",
       "count  2.483658e+06\n",
       "mean   7.732842e+01\n",
       "std    1.940450e+01\n",
       "min    3.600000e+01\n",
       "25%    6.300000e+01\n",
       "50%    7.300000e+01\n",
       "75%    8.800000e+01\n",
       "max    2.030000e+02"
      ]
     },
     "execution_count": 17,
     "metadata": {},
     "output_type": "execute_result"
    }
   ],
   "source": [
    "# Checking the descriptive statistics of the dataset\n",
    "heartrate_seconds_merged.describe()"
   ]
  },
  {
   "cell_type": "code",
   "execution_count": 18,
   "id": "ad2ea774-b0c3-4366-8f23-f2a5df2840d7",
   "metadata": {},
   "outputs": [
    {
     "data": {
      "text/plain": [
       "0"
      ]
     },
     "execution_count": 18,
     "metadata": {},
     "output_type": "execute_result"
    }
   ],
   "source": [
    "# Number of rows with missing data\n",
    "heartrate_seconds_merged.isna().any(axis=1).sum()"
   ]
  },
  {
   "cell_type": "code",
   "execution_count": null,
   "id": "20854a72-8efb-438b-9aae-912730cfe2cf",
   "metadata": {},
   "outputs": [],
   "source": []
  },
  {
   "cell_type": "markdown",
   "id": "2f1caf7b-fea1-45d9-ab97-1f3bc294c456",
   "metadata": {},
   "source": [
    "**III. PROCESSING HOURLYSTEPS_MERGED DATASET**"
   ]
  },
  {
   "cell_type": "code",
   "execution_count": 19,
   "id": "6c0b954c-84b2-4474-b101-810235ce8b4c",
   "metadata": {},
   "outputs": [
    {
     "data": {
      "text/html": [
       "<div>\n",
       "<style scoped>\n",
       "    .dataframe tbody tr th:only-of-type {\n",
       "        vertical-align: middle;\n",
       "    }\n",
       "\n",
       "    .dataframe tbody tr th {\n",
       "        vertical-align: top;\n",
       "    }\n",
       "\n",
       "    .dataframe thead th {\n",
       "        text-align: right;\n",
       "    }\n",
       "</style>\n",
       "<table border=\"1\" class=\"dataframe\">\n",
       "  <thead>\n",
       "    <tr style=\"text-align: right;\">\n",
       "      <th></th>\n",
       "      <th>Id</th>\n",
       "      <th>ActivityHour</th>\n",
       "      <th>StepTotal</th>\n",
       "    </tr>\n",
       "  </thead>\n",
       "  <tbody>\n",
       "    <tr>\n",
       "      <th>0</th>\n",
       "      <td>1503960366</td>\n",
       "      <td>4/12/2016 12:00:00 AM</td>\n",
       "      <td>373</td>\n",
       "    </tr>\n",
       "    <tr>\n",
       "      <th>1</th>\n",
       "      <td>1503960366</td>\n",
       "      <td>4/12/2016 1:00:00 AM</td>\n",
       "      <td>160</td>\n",
       "    </tr>\n",
       "    <tr>\n",
       "      <th>2</th>\n",
       "      <td>1503960366</td>\n",
       "      <td>4/12/2016 2:00:00 AM</td>\n",
       "      <td>151</td>\n",
       "    </tr>\n",
       "    <tr>\n",
       "      <th>3</th>\n",
       "      <td>1503960366</td>\n",
       "      <td>4/12/2016 3:00:00 AM</td>\n",
       "      <td>0</td>\n",
       "    </tr>\n",
       "    <tr>\n",
       "      <th>4</th>\n",
       "      <td>1503960366</td>\n",
       "      <td>4/12/2016 4:00:00 AM</td>\n",
       "      <td>0</td>\n",
       "    </tr>\n",
       "  </tbody>\n",
       "</table>\n",
       "</div>"
      ],
      "text/plain": [
       "           Id           ActivityHour  StepTotal\n",
       "0  1503960366  4/12/2016 12:00:00 AM        373\n",
       "1  1503960366   4/12/2016 1:00:00 AM        160\n",
       "2  1503960366   4/12/2016 2:00:00 AM        151\n",
       "3  1503960366   4/12/2016 3:00:00 AM          0\n",
       "4  1503960366   4/12/2016 4:00:00 AM          0"
      ]
     },
     "execution_count": 19,
     "metadata": {},
     "output_type": "execute_result"
    }
   ],
   "source": [
    "# General viewing and inspection of the hourlySteps_merged dataset variables and data\n",
    "\n",
    "hourlySteps_merged.head(5)"
   ]
  },
  {
   "cell_type": "code",
   "execution_count": 20,
   "id": "8adea186-a5d4-4660-af39-20db4ffad13b",
   "metadata": {},
   "outputs": [
    {
     "data": {
      "text/plain": [
       "Id               int64\n",
       "ActivityHour    object\n",
       "StepTotal        int64\n",
       "dtype: object"
      ]
     },
     "execution_count": 20,
     "metadata": {},
     "output_type": "execute_result"
    }
   ],
   "source": [
    "# Checking the datatypes of heartrate_seconds_merged dataset variables\n",
    "\n",
    "hourlySteps_merged.dtypes"
   ]
  },
  {
   "cell_type": "code",
   "execution_count": 21,
   "id": "8057dfe7-22e5-4e0f-9a66-11dc80b6c2ba",
   "metadata": {},
   "outputs": [],
   "source": [
    "# Converting the Id and ActivityHour datatype to 'string' and 'date format' data type respectively\n",
    "\n",
    "# Extracting date from the ActivityHour column\n",
    "hourlySteps_merged['ActivityHour'] = pd.to_datetime(hourlySteps_merged['ActivityHour'])\n",
    "hourlySteps_merged['ActivityDate'] = hourlySteps_merged['ActivityHour'].dt.date\n",
    "\n",
    "# Rearranging columns\n",
    "hourlySteps_merged = hourlySteps_merged[['Id', 'ActivityHour', 'ActivityDate', 'StepTotal']]\n",
    "\n",
    "# Converting to the respective data types\n",
    "hourlySteps_merged['Id'] = hourlySteps_merged['Id'].astype(str)\n",
    "hourlySteps_merged['ActivityDate'] = pd.to_datetime(hourlySteps_merged['ActivityDate'])"
   ]
  },
  {
   "cell_type": "code",
   "execution_count": 22,
   "id": "a8c2e027-2831-43a7-b67d-132e6bd632e5",
   "metadata": {},
   "outputs": [
    {
     "data": {
      "text/plain": [
       "Id                      object\n",
       "ActivityHour    datetime64[ns]\n",
       "ActivityDate    datetime64[ns]\n",
       "StepTotal                int64\n",
       "dtype: object"
      ]
     },
     "execution_count": 22,
     "metadata": {},
     "output_type": "execute_result"
    }
   ],
   "source": [
    "#  Cross-checking the datatypes\n",
    "hourlySteps_merged.dtypes"
   ]
  },
  {
   "cell_type": "code",
   "execution_count": 23,
   "id": "6ee1fa4e-b744-441f-ba79-a7dd45817231",
   "metadata": {},
   "outputs": [],
   "source": [
    "# Checking for unique datatype"
   ]
  },
  {
   "cell_type": "code",
   "execution_count": 24,
   "id": "41b6f26b-f070-4c14-8f00-5a323af83ee2",
   "metadata": {},
   "outputs": [
    {
     "name": "stdout",
     "output_type": "stream",
     "text": [
      "Column Name: Count of Unique Data Types\n",
      "Id: 1\n",
      "ActivityHour: 1\n",
      "ActivityDate: 1\n",
      "StepTotal: 1\n"
     ]
    }
   ],
   "source": [
    "# Counting the number of unique data types in each column and store the result in a dictionary\n",
    "result = {}\n",
    "for column in hourlySteps_merged.columns:\n",
    "    result[column] = count_unique_data_types(hourlySteps_merged[column])\n",
    "\n",
    "# Printing the result with column names\n",
    "print(\"Column Name: Count of Unique Data Types\")\n",
    "for column, count in result.items():\n",
    "    print(f\"{column}: {count}\")"
   ]
  },
  {
   "cell_type": "code",
   "execution_count": 25,
   "id": "3a03860a-1bad-43c6-a4e0-28b568dc94b7",
   "metadata": {},
   "outputs": [
    {
     "data": {
      "text/html": [
       "<div>\n",
       "<style scoped>\n",
       "    .dataframe tbody tr th:only-of-type {\n",
       "        vertical-align: middle;\n",
       "    }\n",
       "\n",
       "    .dataframe tbody tr th {\n",
       "        vertical-align: top;\n",
       "    }\n",
       "\n",
       "    .dataframe thead th {\n",
       "        text-align: right;\n",
       "    }\n",
       "</style>\n",
       "<table border=\"1\" class=\"dataframe\">\n",
       "  <thead>\n",
       "    <tr style=\"text-align: right;\">\n",
       "      <th></th>\n",
       "      <th>StepTotal</th>\n",
       "    </tr>\n",
       "  </thead>\n",
       "  <tbody>\n",
       "    <tr>\n",
       "      <th>count</th>\n",
       "      <td>22099.000000</td>\n",
       "    </tr>\n",
       "    <tr>\n",
       "      <th>mean</th>\n",
       "      <td>320.166342</td>\n",
       "    </tr>\n",
       "    <tr>\n",
       "      <th>std</th>\n",
       "      <td>690.384228</td>\n",
       "    </tr>\n",
       "    <tr>\n",
       "      <th>min</th>\n",
       "      <td>0.000000</td>\n",
       "    </tr>\n",
       "    <tr>\n",
       "      <th>25%</th>\n",
       "      <td>0.000000</td>\n",
       "    </tr>\n",
       "    <tr>\n",
       "      <th>50%</th>\n",
       "      <td>40.000000</td>\n",
       "    </tr>\n",
       "    <tr>\n",
       "      <th>75%</th>\n",
       "      <td>357.000000</td>\n",
       "    </tr>\n",
       "    <tr>\n",
       "      <th>max</th>\n",
       "      <td>10554.000000</td>\n",
       "    </tr>\n",
       "  </tbody>\n",
       "</table>\n",
       "</div>"
      ],
      "text/plain": [
       "          StepTotal\n",
       "count  22099.000000\n",
       "mean     320.166342\n",
       "std      690.384228\n",
       "min        0.000000\n",
       "25%        0.000000\n",
       "50%       40.000000\n",
       "75%      357.000000\n",
       "max    10554.000000"
      ]
     },
     "execution_count": 25,
     "metadata": {},
     "output_type": "execute_result"
    }
   ],
   "source": [
    "# Checking the descriptive statistics of the dataset\n",
    "hourlySteps_merged.describe()"
   ]
  },
  {
   "cell_type": "code",
   "execution_count": 26,
   "id": "5e164047-b3d0-464a-aca3-77b6aafd59e0",
   "metadata": {},
   "outputs": [
    {
     "data": {
      "text/plain": [
       "0"
      ]
     },
     "execution_count": 26,
     "metadata": {},
     "output_type": "execute_result"
    }
   ],
   "source": [
    "# Number of rows with missing data\n",
    "hourlySteps_merged.isna().any(axis=1).sum()"
   ]
  },
  {
   "cell_type": "code",
   "execution_count": null,
   "id": "5fb20d0c-cc1d-4abf-9d3d-b496e7df3424",
   "metadata": {},
   "outputs": [],
   "source": []
  },
  {
   "cell_type": "markdown",
   "id": "99da2e0c-784c-4900-a956-80b61621d143",
   "metadata": {},
   "source": [
    "**IV. PROCESSING SLEEPDAY_MERGED DATASET**"
   ]
  },
  {
   "cell_type": "code",
   "execution_count": 27,
   "id": "320d9e96-1a4d-4b02-83d6-9381790ce471",
   "metadata": {},
   "outputs": [
    {
     "data": {
      "text/html": [
       "<div>\n",
       "<style scoped>\n",
       "    .dataframe tbody tr th:only-of-type {\n",
       "        vertical-align: middle;\n",
       "    }\n",
       "\n",
       "    .dataframe tbody tr th {\n",
       "        vertical-align: top;\n",
       "    }\n",
       "\n",
       "    .dataframe thead th {\n",
       "        text-align: right;\n",
       "    }\n",
       "</style>\n",
       "<table border=\"1\" class=\"dataframe\">\n",
       "  <thead>\n",
       "    <tr style=\"text-align: right;\">\n",
       "      <th></th>\n",
       "      <th>Id</th>\n",
       "      <th>SleepDay</th>\n",
       "      <th>TotalSleepRecords</th>\n",
       "      <th>TotalMinutesAsleep</th>\n",
       "      <th>TotalTimeInBed</th>\n",
       "    </tr>\n",
       "  </thead>\n",
       "  <tbody>\n",
       "    <tr>\n",
       "      <th>0</th>\n",
       "      <td>1503960366</td>\n",
       "      <td>4/12/2016 12:00:00 AM</td>\n",
       "      <td>1</td>\n",
       "      <td>327</td>\n",
       "      <td>346</td>\n",
       "    </tr>\n",
       "    <tr>\n",
       "      <th>1</th>\n",
       "      <td>1503960366</td>\n",
       "      <td>4/13/2016 12:00:00 AM</td>\n",
       "      <td>2</td>\n",
       "      <td>384</td>\n",
       "      <td>407</td>\n",
       "    </tr>\n",
       "    <tr>\n",
       "      <th>2</th>\n",
       "      <td>1503960366</td>\n",
       "      <td>4/15/2016 12:00:00 AM</td>\n",
       "      <td>1</td>\n",
       "      <td>412</td>\n",
       "      <td>442</td>\n",
       "    </tr>\n",
       "    <tr>\n",
       "      <th>3</th>\n",
       "      <td>1503960366</td>\n",
       "      <td>4/16/2016 12:00:00 AM</td>\n",
       "      <td>2</td>\n",
       "      <td>340</td>\n",
       "      <td>367</td>\n",
       "    </tr>\n",
       "    <tr>\n",
       "      <th>4</th>\n",
       "      <td>1503960366</td>\n",
       "      <td>4/17/2016 12:00:00 AM</td>\n",
       "      <td>1</td>\n",
       "      <td>700</td>\n",
       "      <td>712</td>\n",
       "    </tr>\n",
       "  </tbody>\n",
       "</table>\n",
       "</div>"
      ],
      "text/plain": [
       "           Id               SleepDay  TotalSleepRecords  TotalMinutesAsleep  \\\n",
       "0  1503960366  4/12/2016 12:00:00 AM                  1                 327   \n",
       "1  1503960366  4/13/2016 12:00:00 AM                  2                 384   \n",
       "2  1503960366  4/15/2016 12:00:00 AM                  1                 412   \n",
       "3  1503960366  4/16/2016 12:00:00 AM                  2                 340   \n",
       "4  1503960366  4/17/2016 12:00:00 AM                  1                 700   \n",
       "\n",
       "   TotalTimeInBed  \n",
       "0             346  \n",
       "1             407  \n",
       "2             442  \n",
       "3             367  \n",
       "4             712  "
      ]
     },
     "execution_count": 27,
     "metadata": {},
     "output_type": "execute_result"
    }
   ],
   "source": [
    "# General viewing and inspection of the heartrate_seconds_merged dataset variables and data\n",
    "\n",
    "sleepDay_merged.head(5)"
   ]
  },
  {
   "cell_type": "markdown",
   "id": "ad1f081b-b6cb-4944-b3fa-186c31b01107",
   "metadata": {},
   "source": [
    "With this dataset, areas that can be addressed includes: sleep patterns, identifying outliers, sleep data by time, sleep quality/efficiency, etc.  For this project on this dataset, I will be focusing on sleep efficiency"
   ]
  },
  {
   "cell_type": "code",
   "execution_count": 28,
   "id": "f7f2c806-b804-4ab4-bdda-8ac1dc71512b",
   "metadata": {},
   "outputs": [],
   "source": [
    "sleepDay_merged['SleepEfficiency'] = sleepDay_merged['TotalMinutesAsleep']/sleepDay_merged['TotalTimeInBed'] * 100\n",
    "sleepDay_merged = sleepDay_merged[['Id', 'SleepDay', 'TotalSleepRecords', 'TotalMinutesAsleep', 'TotalTimeInBed', 'SleepEfficiency']]"
   ]
  },
  {
   "cell_type": "code",
   "execution_count": 29,
   "id": "1a115112-4185-4d54-89c9-e96a27120750",
   "metadata": {},
   "outputs": [
    {
     "data": {
      "text/html": [
       "<div>\n",
       "<style scoped>\n",
       "    .dataframe tbody tr th:only-of-type {\n",
       "        vertical-align: middle;\n",
       "    }\n",
       "\n",
       "    .dataframe tbody tr th {\n",
       "        vertical-align: top;\n",
       "    }\n",
       "\n",
       "    .dataframe thead th {\n",
       "        text-align: right;\n",
       "    }\n",
       "</style>\n",
       "<table border=\"1\" class=\"dataframe\">\n",
       "  <thead>\n",
       "    <tr style=\"text-align: right;\">\n",
       "      <th></th>\n",
       "      <th>Id</th>\n",
       "      <th>SleepDay</th>\n",
       "      <th>TotalSleepRecords</th>\n",
       "      <th>TotalMinutesAsleep</th>\n",
       "      <th>TotalTimeInBed</th>\n",
       "      <th>SleepEfficiency</th>\n",
       "    </tr>\n",
       "  </thead>\n",
       "  <tbody>\n",
       "    <tr>\n",
       "      <th>0</th>\n",
       "      <td>1503960366</td>\n",
       "      <td>4/12/2016 12:00:00 AM</td>\n",
       "      <td>1</td>\n",
       "      <td>327</td>\n",
       "      <td>346</td>\n",
       "      <td>94.508671</td>\n",
       "    </tr>\n",
       "    <tr>\n",
       "      <th>1</th>\n",
       "      <td>1503960366</td>\n",
       "      <td>4/13/2016 12:00:00 AM</td>\n",
       "      <td>2</td>\n",
       "      <td>384</td>\n",
       "      <td>407</td>\n",
       "      <td>94.348894</td>\n",
       "    </tr>\n",
       "    <tr>\n",
       "      <th>2</th>\n",
       "      <td>1503960366</td>\n",
       "      <td>4/15/2016 12:00:00 AM</td>\n",
       "      <td>1</td>\n",
       "      <td>412</td>\n",
       "      <td>442</td>\n",
       "      <td>93.212670</td>\n",
       "    </tr>\n",
       "    <tr>\n",
       "      <th>3</th>\n",
       "      <td>1503960366</td>\n",
       "      <td>4/16/2016 12:00:00 AM</td>\n",
       "      <td>2</td>\n",
       "      <td>340</td>\n",
       "      <td>367</td>\n",
       "      <td>92.643052</td>\n",
       "    </tr>\n",
       "    <tr>\n",
       "      <th>4</th>\n",
       "      <td>1503960366</td>\n",
       "      <td>4/17/2016 12:00:00 AM</td>\n",
       "      <td>1</td>\n",
       "      <td>700</td>\n",
       "      <td>712</td>\n",
       "      <td>98.314607</td>\n",
       "    </tr>\n",
       "    <tr>\n",
       "      <th>...</th>\n",
       "      <td>...</td>\n",
       "      <td>...</td>\n",
       "      <td>...</td>\n",
       "      <td>...</td>\n",
       "      <td>...</td>\n",
       "      <td>...</td>\n",
       "    </tr>\n",
       "    <tr>\n",
       "      <th>408</th>\n",
       "      <td>8792009665</td>\n",
       "      <td>4/30/2016 12:00:00 AM</td>\n",
       "      <td>1</td>\n",
       "      <td>343</td>\n",
       "      <td>360</td>\n",
       "      <td>95.277778</td>\n",
       "    </tr>\n",
       "    <tr>\n",
       "      <th>409</th>\n",
       "      <td>8792009665</td>\n",
       "      <td>5/1/2016 12:00:00 AM</td>\n",
       "      <td>1</td>\n",
       "      <td>503</td>\n",
       "      <td>527</td>\n",
       "      <td>95.445920</td>\n",
       "    </tr>\n",
       "    <tr>\n",
       "      <th>410</th>\n",
       "      <td>8792009665</td>\n",
       "      <td>5/2/2016 12:00:00 AM</td>\n",
       "      <td>1</td>\n",
       "      <td>415</td>\n",
       "      <td>423</td>\n",
       "      <td>98.108747</td>\n",
       "    </tr>\n",
       "    <tr>\n",
       "      <th>411</th>\n",
       "      <td>8792009665</td>\n",
       "      <td>5/3/2016 12:00:00 AM</td>\n",
       "      <td>1</td>\n",
       "      <td>516</td>\n",
       "      <td>545</td>\n",
       "      <td>94.678899</td>\n",
       "    </tr>\n",
       "    <tr>\n",
       "      <th>412</th>\n",
       "      <td>8792009665</td>\n",
       "      <td>5/4/2016 12:00:00 AM</td>\n",
       "      <td>1</td>\n",
       "      <td>439</td>\n",
       "      <td>463</td>\n",
       "      <td>94.816415</td>\n",
       "    </tr>\n",
       "  </tbody>\n",
       "</table>\n",
       "<p>413 rows × 6 columns</p>\n",
       "</div>"
      ],
      "text/plain": [
       "             Id               SleepDay  TotalSleepRecords  TotalMinutesAsleep  \\\n",
       "0    1503960366  4/12/2016 12:00:00 AM                  1                 327   \n",
       "1    1503960366  4/13/2016 12:00:00 AM                  2                 384   \n",
       "2    1503960366  4/15/2016 12:00:00 AM                  1                 412   \n",
       "3    1503960366  4/16/2016 12:00:00 AM                  2                 340   \n",
       "4    1503960366  4/17/2016 12:00:00 AM                  1                 700   \n",
       "..          ...                    ...                ...                 ...   \n",
       "408  8792009665  4/30/2016 12:00:00 AM                  1                 343   \n",
       "409  8792009665   5/1/2016 12:00:00 AM                  1                 503   \n",
       "410  8792009665   5/2/2016 12:00:00 AM                  1                 415   \n",
       "411  8792009665   5/3/2016 12:00:00 AM                  1                 516   \n",
       "412  8792009665   5/4/2016 12:00:00 AM                  1                 439   \n",
       "\n",
       "     TotalTimeInBed  SleepEfficiency  \n",
       "0               346        94.508671  \n",
       "1               407        94.348894  \n",
       "2               442        93.212670  \n",
       "3               367        92.643052  \n",
       "4               712        98.314607  \n",
       "..              ...              ...  \n",
       "408             360        95.277778  \n",
       "409             527        95.445920  \n",
       "410             423        98.108747  \n",
       "411             545        94.678899  \n",
       "412             463        94.816415  \n",
       "\n",
       "[413 rows x 6 columns]"
      ]
     },
     "execution_count": 29,
     "metadata": {},
     "output_type": "execute_result"
    }
   ],
   "source": [
    "sleepDay_merged"
   ]
  },
  {
   "cell_type": "code",
   "execution_count": 30,
   "id": "633eb558-8561-4ae0-9179-9b86273f7d89",
   "metadata": {},
   "outputs": [
    {
     "data": {
      "text/plain": [
       "Id                      int64\n",
       "SleepDay               object\n",
       "TotalSleepRecords       int64\n",
       "TotalMinutesAsleep      int64\n",
       "TotalTimeInBed          int64\n",
       "SleepEfficiency       float64\n",
       "dtype: object"
      ]
     },
     "execution_count": 30,
     "metadata": {},
     "output_type": "execute_result"
    }
   ],
   "source": [
    "# Checking the datatypes of heartrate_seconds_merged dataset variables\n",
    "\n",
    "sleepDay_merged.dtypes"
   ]
  },
  {
   "cell_type": "code",
   "execution_count": 31,
   "id": "3d29ad38-25a7-486a-a05e-de71ddebb246",
   "metadata": {},
   "outputs": [],
   "source": [
    "# Converting the Id and SleepDay datatype to 'string' and 'date format' data type respectively\n",
    "\n",
    "# Extracting date from SleepDay column\n",
    "sleepDay_merged['SleepDay'] = pd.to_datetime(sleepDay_merged['SleepDay']) # First convert to date format\n",
    "sleepDay_merged['ActivityDate'] = sleepDay_merged['SleepDay'].dt.date # Extract the date part\n",
    "\n",
    "# Rearranging columns\n",
    "sleepDay_merged = sleepDay_merged[['Id', 'SleepDay', 'ActivityDate', 'TotalSleepRecords', 'TotalMinutesAsleep', 'TotalTimeInBed', 'SleepEfficiency']]\n",
    "\n",
    "# Converting to the respective data types\n",
    "sleepDay_merged['Id'] = sleepDay_merged['Id'].astype(str)\n",
    "sleepDay_merged['ActivityDate'] = pd.to_datetime(sleepDay_merged['ActivityDate'])"
   ]
  },
  {
   "cell_type": "code",
   "execution_count": 32,
   "id": "6968f93d-243e-4814-bbc6-480b555a68be",
   "metadata": {},
   "outputs": [
    {
     "data": {
      "text/plain": [
       "Id                            object\n",
       "SleepDay              datetime64[ns]\n",
       "ActivityDate          datetime64[ns]\n",
       "TotalSleepRecords              int64\n",
       "TotalMinutesAsleep             int64\n",
       "TotalTimeInBed                 int64\n",
       "SleepEfficiency              float64\n",
       "dtype: object"
      ]
     },
     "execution_count": 32,
     "metadata": {},
     "output_type": "execute_result"
    }
   ],
   "source": [
    "sleepDay_merged.dtypes"
   ]
  },
  {
   "cell_type": "code",
   "execution_count": 33,
   "id": "6f13bf8a-9626-4c57-9cad-bdeb769f4464",
   "metadata": {},
   "outputs": [
    {
     "data": {
      "text/html": [
       "<div>\n",
       "<style scoped>\n",
       "    .dataframe tbody tr th:only-of-type {\n",
       "        vertical-align: middle;\n",
       "    }\n",
       "\n",
       "    .dataframe tbody tr th {\n",
       "        vertical-align: top;\n",
       "    }\n",
       "\n",
       "    .dataframe thead th {\n",
       "        text-align: right;\n",
       "    }\n",
       "</style>\n",
       "<table border=\"1\" class=\"dataframe\">\n",
       "  <thead>\n",
       "    <tr style=\"text-align: right;\">\n",
       "      <th></th>\n",
       "      <th>Id</th>\n",
       "      <th>SleepDay</th>\n",
       "      <th>ActivityDate</th>\n",
       "      <th>TotalSleepRecords</th>\n",
       "      <th>TotalMinutesAsleep</th>\n",
       "      <th>TotalTimeInBed</th>\n",
       "      <th>SleepEfficiency</th>\n",
       "    </tr>\n",
       "  </thead>\n",
       "  <tbody>\n",
       "    <tr>\n",
       "      <th>0</th>\n",
       "      <td>1503960366</td>\n",
       "      <td>2016-04-12</td>\n",
       "      <td>2016-04-12</td>\n",
       "      <td>1</td>\n",
       "      <td>327</td>\n",
       "      <td>346</td>\n",
       "      <td>94.508671</td>\n",
       "    </tr>\n",
       "    <tr>\n",
       "      <th>1</th>\n",
       "      <td>1503960366</td>\n",
       "      <td>2016-04-13</td>\n",
       "      <td>2016-04-13</td>\n",
       "      <td>2</td>\n",
       "      <td>384</td>\n",
       "      <td>407</td>\n",
       "      <td>94.348894</td>\n",
       "    </tr>\n",
       "    <tr>\n",
       "      <th>2</th>\n",
       "      <td>1503960366</td>\n",
       "      <td>2016-04-15</td>\n",
       "      <td>2016-04-15</td>\n",
       "      <td>1</td>\n",
       "      <td>412</td>\n",
       "      <td>442</td>\n",
       "      <td>93.212670</td>\n",
       "    </tr>\n",
       "    <tr>\n",
       "      <th>3</th>\n",
       "      <td>1503960366</td>\n",
       "      <td>2016-04-16</td>\n",
       "      <td>2016-04-16</td>\n",
       "      <td>2</td>\n",
       "      <td>340</td>\n",
       "      <td>367</td>\n",
       "      <td>92.643052</td>\n",
       "    </tr>\n",
       "    <tr>\n",
       "      <th>4</th>\n",
       "      <td>1503960366</td>\n",
       "      <td>2016-04-17</td>\n",
       "      <td>2016-04-17</td>\n",
       "      <td>1</td>\n",
       "      <td>700</td>\n",
       "      <td>712</td>\n",
       "      <td>98.314607</td>\n",
       "    </tr>\n",
       "    <tr>\n",
       "      <th>...</th>\n",
       "      <td>...</td>\n",
       "      <td>...</td>\n",
       "      <td>...</td>\n",
       "      <td>...</td>\n",
       "      <td>...</td>\n",
       "      <td>...</td>\n",
       "      <td>...</td>\n",
       "    </tr>\n",
       "    <tr>\n",
       "      <th>408</th>\n",
       "      <td>8792009665</td>\n",
       "      <td>2016-04-30</td>\n",
       "      <td>2016-04-30</td>\n",
       "      <td>1</td>\n",
       "      <td>343</td>\n",
       "      <td>360</td>\n",
       "      <td>95.277778</td>\n",
       "    </tr>\n",
       "    <tr>\n",
       "      <th>409</th>\n",
       "      <td>8792009665</td>\n",
       "      <td>2016-05-01</td>\n",
       "      <td>2016-05-01</td>\n",
       "      <td>1</td>\n",
       "      <td>503</td>\n",
       "      <td>527</td>\n",
       "      <td>95.445920</td>\n",
       "    </tr>\n",
       "    <tr>\n",
       "      <th>410</th>\n",
       "      <td>8792009665</td>\n",
       "      <td>2016-05-02</td>\n",
       "      <td>2016-05-02</td>\n",
       "      <td>1</td>\n",
       "      <td>415</td>\n",
       "      <td>423</td>\n",
       "      <td>98.108747</td>\n",
       "    </tr>\n",
       "    <tr>\n",
       "      <th>411</th>\n",
       "      <td>8792009665</td>\n",
       "      <td>2016-05-03</td>\n",
       "      <td>2016-05-03</td>\n",
       "      <td>1</td>\n",
       "      <td>516</td>\n",
       "      <td>545</td>\n",
       "      <td>94.678899</td>\n",
       "    </tr>\n",
       "    <tr>\n",
       "      <th>412</th>\n",
       "      <td>8792009665</td>\n",
       "      <td>2016-05-04</td>\n",
       "      <td>2016-05-04</td>\n",
       "      <td>1</td>\n",
       "      <td>439</td>\n",
       "      <td>463</td>\n",
       "      <td>94.816415</td>\n",
       "    </tr>\n",
       "  </tbody>\n",
       "</table>\n",
       "<p>413 rows × 7 columns</p>\n",
       "</div>"
      ],
      "text/plain": [
       "             Id   SleepDay ActivityDate  TotalSleepRecords  \\\n",
       "0    1503960366 2016-04-12   2016-04-12                  1   \n",
       "1    1503960366 2016-04-13   2016-04-13                  2   \n",
       "2    1503960366 2016-04-15   2016-04-15                  1   \n",
       "3    1503960366 2016-04-16   2016-04-16                  2   \n",
       "4    1503960366 2016-04-17   2016-04-17                  1   \n",
       "..          ...        ...          ...                ...   \n",
       "408  8792009665 2016-04-30   2016-04-30                  1   \n",
       "409  8792009665 2016-05-01   2016-05-01                  1   \n",
       "410  8792009665 2016-05-02   2016-05-02                  1   \n",
       "411  8792009665 2016-05-03   2016-05-03                  1   \n",
       "412  8792009665 2016-05-04   2016-05-04                  1   \n",
       "\n",
       "     TotalMinutesAsleep  TotalTimeInBed  SleepEfficiency  \n",
       "0                   327             346        94.508671  \n",
       "1                   384             407        94.348894  \n",
       "2                   412             442        93.212670  \n",
       "3                   340             367        92.643052  \n",
       "4                   700             712        98.314607  \n",
       "..                  ...             ...              ...  \n",
       "408                 343             360        95.277778  \n",
       "409                 503             527        95.445920  \n",
       "410                 415             423        98.108747  \n",
       "411                 516             545        94.678899  \n",
       "412                 439             463        94.816415  \n",
       "\n",
       "[413 rows x 7 columns]"
      ]
     },
     "execution_count": 33,
     "metadata": {},
     "output_type": "execute_result"
    }
   ],
   "source": [
    "sleepDay_merged"
   ]
  },
  {
   "cell_type": "code",
   "execution_count": 34,
   "id": "b841cca5-4970-4c70-84d9-0244707ed2f3",
   "metadata": {},
   "outputs": [],
   "source": [
    "# Checking for unique datatype"
   ]
  },
  {
   "cell_type": "code",
   "execution_count": 35,
   "id": "707bebf6-61d0-4aa1-945e-ec885550be10",
   "metadata": {},
   "outputs": [
    {
     "name": "stdout",
     "output_type": "stream",
     "text": [
      "Column Name: Count of Unique Data Types\n",
      "Id: 1\n",
      "SleepDay: 1\n",
      "ActivityDate: 1\n",
      "TotalSleepRecords: 1\n",
      "TotalMinutesAsleep: 1\n",
      "TotalTimeInBed: 1\n",
      "SleepEfficiency: 1\n"
     ]
    }
   ],
   "source": [
    "# Counting the number of unique data types in each column and store the result in a dictionary\n",
    "result = {}\n",
    "for column in sleepDay_merged.columns:\n",
    "    result[column] = count_unique_data_types(sleepDay_merged[column])\n",
    "\n",
    "# Printing the result with column names\n",
    "print(\"Column Name: Count of Unique Data Types\")\n",
    "for column, count in result.items():\n",
    "    print(f\"{column}: {count}\")"
   ]
  },
  {
   "cell_type": "code",
   "execution_count": 36,
   "id": "42f62d31-d4d8-4f96-b5df-7ecec273248f",
   "metadata": {},
   "outputs": [
    {
     "data": {
      "text/html": [
       "<div>\n",
       "<style scoped>\n",
       "    .dataframe tbody tr th:only-of-type {\n",
       "        vertical-align: middle;\n",
       "    }\n",
       "\n",
       "    .dataframe tbody tr th {\n",
       "        vertical-align: top;\n",
       "    }\n",
       "\n",
       "    .dataframe thead th {\n",
       "        text-align: right;\n",
       "    }\n",
       "</style>\n",
       "<table border=\"1\" class=\"dataframe\">\n",
       "  <thead>\n",
       "    <tr style=\"text-align: right;\">\n",
       "      <th></th>\n",
       "      <th>TotalSleepRecords</th>\n",
       "      <th>TotalMinutesAsleep</th>\n",
       "      <th>TotalTimeInBed</th>\n",
       "      <th>SleepEfficiency</th>\n",
       "    </tr>\n",
       "  </thead>\n",
       "  <tbody>\n",
       "    <tr>\n",
       "      <th>count</th>\n",
       "      <td>413.000000</td>\n",
       "      <td>413.000000</td>\n",
       "      <td>413.000000</td>\n",
       "      <td>413.000000</td>\n",
       "    </tr>\n",
       "    <tr>\n",
       "      <th>mean</th>\n",
       "      <td>1.118644</td>\n",
       "      <td>419.467312</td>\n",
       "      <td>458.639225</td>\n",
       "      <td>91.676921</td>\n",
       "    </tr>\n",
       "    <tr>\n",
       "      <th>std</th>\n",
       "      <td>0.345521</td>\n",
       "      <td>118.344679</td>\n",
       "      <td>127.101607</td>\n",
       "      <td>8.703885</td>\n",
       "    </tr>\n",
       "    <tr>\n",
       "      <th>min</th>\n",
       "      <td>1.000000</td>\n",
       "      <td>58.000000</td>\n",
       "      <td>61.000000</td>\n",
       "      <td>49.836066</td>\n",
       "    </tr>\n",
       "    <tr>\n",
       "      <th>25%</th>\n",
       "      <td>1.000000</td>\n",
       "      <td>361.000000</td>\n",
       "      <td>403.000000</td>\n",
       "      <td>91.218130</td>\n",
       "    </tr>\n",
       "    <tr>\n",
       "      <th>50%</th>\n",
       "      <td>1.000000</td>\n",
       "      <td>433.000000</td>\n",
       "      <td>463.000000</td>\n",
       "      <td>94.312796</td>\n",
       "    </tr>\n",
       "    <tr>\n",
       "      <th>75%</th>\n",
       "      <td>1.000000</td>\n",
       "      <td>490.000000</td>\n",
       "      <td>526.000000</td>\n",
       "      <td>96.068796</td>\n",
       "    </tr>\n",
       "    <tr>\n",
       "      <th>max</th>\n",
       "      <td>3.000000</td>\n",
       "      <td>796.000000</td>\n",
       "      <td>961.000000</td>\n",
       "      <td>100.000000</td>\n",
       "    </tr>\n",
       "  </tbody>\n",
       "</table>\n",
       "</div>"
      ],
      "text/plain": [
       "       TotalSleepRecords  TotalMinutesAsleep  TotalTimeInBed  SleepEfficiency\n",
       "count         413.000000          413.000000      413.000000       413.000000\n",
       "mean            1.118644          419.467312      458.639225        91.676921\n",
       "std             0.345521          118.344679      127.101607         8.703885\n",
       "min             1.000000           58.000000       61.000000        49.836066\n",
       "25%             1.000000          361.000000      403.000000        91.218130\n",
       "50%             1.000000          433.000000      463.000000        94.312796\n",
       "75%             1.000000          490.000000      526.000000        96.068796\n",
       "max             3.000000          796.000000      961.000000       100.000000"
      ]
     },
     "execution_count": 36,
     "metadata": {},
     "output_type": "execute_result"
    }
   ],
   "source": [
    "# Checking the descriptive statistics of the dataset\n",
    "sleepDay_merged.describe()"
   ]
  },
  {
   "cell_type": "code",
   "execution_count": 37,
   "id": "72953d32-aedf-4298-a6d1-6e15469b609a",
   "metadata": {},
   "outputs": [
    {
     "data": {
      "text/plain": [
       "0"
      ]
     },
     "execution_count": 37,
     "metadata": {},
     "output_type": "execute_result"
    }
   ],
   "source": [
    "# Number of rows with missing data\n",
    "sleepDay_merged.isna().any(axis=1).sum()"
   ]
  },
  {
   "cell_type": "code",
   "execution_count": null,
   "id": "56a8cbd8-6121-4734-8055-0c7d69d8c8e8",
   "metadata": {},
   "outputs": [],
   "source": []
  },
  {
   "cell_type": "markdown",
   "id": "5a867dc6-f19d-4701-80b6-0abf27ad2b99",
   "metadata": {},
   "source": [
    "**V. PROCESSING WEIGHTLOGINFO_MERGED DATASET**"
   ]
  },
  {
   "cell_type": "code",
   "execution_count": 38,
   "id": "35e7a63e-d143-4254-9b2f-3e24775a71b9",
   "metadata": {},
   "outputs": [
    {
     "data": {
      "text/html": [
       "<div>\n",
       "<style scoped>\n",
       "    .dataframe tbody tr th:only-of-type {\n",
       "        vertical-align: middle;\n",
       "    }\n",
       "\n",
       "    .dataframe tbody tr th {\n",
       "        vertical-align: top;\n",
       "    }\n",
       "\n",
       "    .dataframe thead th {\n",
       "        text-align: right;\n",
       "    }\n",
       "</style>\n",
       "<table border=\"1\" class=\"dataframe\">\n",
       "  <thead>\n",
       "    <tr style=\"text-align: right;\">\n",
       "      <th></th>\n",
       "      <th>Id</th>\n",
       "      <th>Date</th>\n",
       "      <th>WeightKg</th>\n",
       "      <th>WeightPounds</th>\n",
       "      <th>Fat</th>\n",
       "      <th>BMI</th>\n",
       "      <th>IsManualReport</th>\n",
       "      <th>LogId</th>\n",
       "    </tr>\n",
       "  </thead>\n",
       "  <tbody>\n",
       "    <tr>\n",
       "      <th>0</th>\n",
       "      <td>1503960366</td>\n",
       "      <td>5/2/2016 11:59:59 PM</td>\n",
       "      <td>52.599998</td>\n",
       "      <td>115.963147</td>\n",
       "      <td>22.0</td>\n",
       "      <td>22.650000</td>\n",
       "      <td>True</td>\n",
       "      <td>1462233599000</td>\n",
       "    </tr>\n",
       "    <tr>\n",
       "      <th>1</th>\n",
       "      <td>1503960366</td>\n",
       "      <td>5/3/2016 11:59:59 PM</td>\n",
       "      <td>52.599998</td>\n",
       "      <td>115.963147</td>\n",
       "      <td>NaN</td>\n",
       "      <td>22.650000</td>\n",
       "      <td>True</td>\n",
       "      <td>1462319999000</td>\n",
       "    </tr>\n",
       "    <tr>\n",
       "      <th>2</th>\n",
       "      <td>1927972279</td>\n",
       "      <td>4/13/2016 1:08:52 AM</td>\n",
       "      <td>133.500000</td>\n",
       "      <td>294.317120</td>\n",
       "      <td>NaN</td>\n",
       "      <td>47.540001</td>\n",
       "      <td>False</td>\n",
       "      <td>1460509732000</td>\n",
       "    </tr>\n",
       "    <tr>\n",
       "      <th>3</th>\n",
       "      <td>2873212765</td>\n",
       "      <td>4/21/2016 11:59:59 PM</td>\n",
       "      <td>56.700001</td>\n",
       "      <td>125.002104</td>\n",
       "      <td>NaN</td>\n",
       "      <td>21.450001</td>\n",
       "      <td>True</td>\n",
       "      <td>1461283199000</td>\n",
       "    </tr>\n",
       "    <tr>\n",
       "      <th>4</th>\n",
       "      <td>2873212765</td>\n",
       "      <td>5/12/2016 11:59:59 PM</td>\n",
       "      <td>57.299999</td>\n",
       "      <td>126.324875</td>\n",
       "      <td>NaN</td>\n",
       "      <td>21.690001</td>\n",
       "      <td>True</td>\n",
       "      <td>1463097599000</td>\n",
       "    </tr>\n",
       "  </tbody>\n",
       "</table>\n",
       "</div>"
      ],
      "text/plain": [
       "           Id                   Date    WeightKg  WeightPounds   Fat  \\\n",
       "0  1503960366   5/2/2016 11:59:59 PM   52.599998    115.963147  22.0   \n",
       "1  1503960366   5/3/2016 11:59:59 PM   52.599998    115.963147   NaN   \n",
       "2  1927972279   4/13/2016 1:08:52 AM  133.500000    294.317120   NaN   \n",
       "3  2873212765  4/21/2016 11:59:59 PM   56.700001    125.002104   NaN   \n",
       "4  2873212765  5/12/2016 11:59:59 PM   57.299999    126.324875   NaN   \n",
       "\n",
       "         BMI  IsManualReport          LogId  \n",
       "0  22.650000            True  1462233599000  \n",
       "1  22.650000            True  1462319999000  \n",
       "2  47.540001           False  1460509732000  \n",
       "3  21.450001            True  1461283199000  \n",
       "4  21.690001            True  1463097599000  "
      ]
     },
     "execution_count": 38,
     "metadata": {},
     "output_type": "execute_result"
    }
   ],
   "source": [
    "# General viewing and inspection of the heartrate_seconds_merged dataset variables and data\n",
    "\n",
    "weightLogInfo_merged.head(5)"
   ]
  },
  {
   "cell_type": "code",
   "execution_count": 39,
   "id": "0ee27d0c-2d7d-4155-8fec-0e26c3883025",
   "metadata": {},
   "outputs": [
    {
     "data": {
      "text/plain": [
       "Id                  int64\n",
       "Date               object\n",
       "WeightKg          float64\n",
       "WeightPounds      float64\n",
       "Fat               float64\n",
       "BMI               float64\n",
       "IsManualReport       bool\n",
       "LogId               int64\n",
       "dtype: object"
      ]
     },
     "execution_count": 39,
     "metadata": {},
     "output_type": "execute_result"
    }
   ],
   "source": [
    "# Checking the datatypes of weightLogInfo_merged dataset variables\n",
    "\n",
    "weightLogInfo_merged.dtypes"
   ]
  },
  {
   "cell_type": "code",
   "execution_count": 40,
   "id": "a90d10f1-7109-4b2c-a40e-b894704887dc",
   "metadata": {},
   "outputs": [],
   "source": [
    "# Converting datatype of Id and Date to 'string' and 'date format' data type respectively\n",
    "\n",
    "# Extracting date part from the Date column and assigning it to a new column 'ActivityDate'\n",
    "weightLogInfo_merged['Date'] = pd.to_datetime(weightLogInfo_merged['Date'])\n",
    "weightLogInfo_merged['ActivityDate'] = weightLogInfo_merged['Date'].dt.date\n",
    "\n",
    "# Rearrange columns\n",
    "weightLogInfo_merged = weightLogInfo_merged[['Id', 'Date', 'ActivityDate', 'WeightKg', 'WeightPounds', 'Fat', 'BMI', 'IsManualReport', 'LogId']]\n",
    "\n",
    "# Converting to the respective datatypes\n",
    "weightLogInfo_merged['Id'] = weightLogInfo_merged['Id'].astype(str)\n",
    "weightLogInfo_merged['ActivityDate'] = pd.to_datetime(weightLogInfo_merged['ActivityDate'])"
   ]
  },
  {
   "cell_type": "code",
   "execution_count": 41,
   "id": "596ceb94-ae15-4fc5-9159-afd5d4bf33c6",
   "metadata": {},
   "outputs": [
    {
     "data": {
      "text/plain": [
       "Id                        object\n",
       "Date              datetime64[ns]\n",
       "ActivityDate      datetime64[ns]\n",
       "WeightKg                 float64\n",
       "WeightPounds             float64\n",
       "Fat                      float64\n",
       "BMI                      float64\n",
       "IsManualReport              bool\n",
       "LogId                      int64\n",
       "dtype: object"
      ]
     },
     "execution_count": 41,
     "metadata": {},
     "output_type": "execute_result"
    }
   ],
   "source": [
    "weightLogInfo_merged.dtypes"
   ]
  },
  {
   "cell_type": "code",
   "execution_count": 42,
   "id": "885d2f37-120e-44ec-aa26-8410a69c7829",
   "metadata": {},
   "outputs": [],
   "source": [
    "# Checking for unique datatype"
   ]
  },
  {
   "cell_type": "code",
   "execution_count": 43,
   "id": "aecd0b89-ca88-417a-a6e0-5b298c35a9b6",
   "metadata": {},
   "outputs": [
    {
     "name": "stdout",
     "output_type": "stream",
     "text": [
      "Column Name: Count of Unique Data Types\n",
      "Id: 1\n",
      "Date: 1\n",
      "ActivityDate: 1\n",
      "WeightKg: 1\n",
      "WeightPounds: 1\n",
      "Fat: 1\n",
      "BMI: 1\n",
      "IsManualReport: 1\n",
      "LogId: 1\n"
     ]
    }
   ],
   "source": [
    "# Counting the number of unique data types in each column and store the result in a dictionary\n",
    "result = {}\n",
    "for column in weightLogInfo_merged.columns:\n",
    "    result[column] = count_unique_data_types(weightLogInfo_merged[column])\n",
    "\n",
    "# Printing the result with column names\n",
    "print(\"Column Name: Count of Unique Data Types\")\n",
    "for column, count in result.items():\n",
    "    print(f\"{column}: {count}\")"
   ]
  },
  {
   "cell_type": "code",
   "execution_count": 44,
   "id": "726e80b9-34d6-452d-afb0-fe0c10027358",
   "metadata": {},
   "outputs": [
    {
     "data": {
      "text/html": [
       "<div>\n",
       "<style scoped>\n",
       "    .dataframe tbody tr th:only-of-type {\n",
       "        vertical-align: middle;\n",
       "    }\n",
       "\n",
       "    .dataframe tbody tr th {\n",
       "        vertical-align: top;\n",
       "    }\n",
       "\n",
       "    .dataframe thead th {\n",
       "        text-align: right;\n",
       "    }\n",
       "</style>\n",
       "<table border=\"1\" class=\"dataframe\">\n",
       "  <thead>\n",
       "    <tr style=\"text-align: right;\">\n",
       "      <th></th>\n",
       "      <th>WeightKg</th>\n",
       "      <th>WeightPounds</th>\n",
       "      <th>Fat</th>\n",
       "      <th>BMI</th>\n",
       "      <th>LogId</th>\n",
       "    </tr>\n",
       "  </thead>\n",
       "  <tbody>\n",
       "    <tr>\n",
       "      <th>count</th>\n",
       "      <td>67.000000</td>\n",
       "      <td>67.000000</td>\n",
       "      <td>2.00000</td>\n",
       "      <td>67.000000</td>\n",
       "      <td>6.700000e+01</td>\n",
       "    </tr>\n",
       "    <tr>\n",
       "      <th>mean</th>\n",
       "      <td>72.035821</td>\n",
       "      <td>158.811801</td>\n",
       "      <td>23.50000</td>\n",
       "      <td>25.185224</td>\n",
       "      <td>1.461772e+12</td>\n",
       "    </tr>\n",
       "    <tr>\n",
       "      <th>std</th>\n",
       "      <td>13.923206</td>\n",
       "      <td>30.695415</td>\n",
       "      <td>2.12132</td>\n",
       "      <td>3.066963</td>\n",
       "      <td>7.829948e+08</td>\n",
       "    </tr>\n",
       "    <tr>\n",
       "      <th>min</th>\n",
       "      <td>52.599998</td>\n",
       "      <td>115.963147</td>\n",
       "      <td>22.00000</td>\n",
       "      <td>21.450001</td>\n",
       "      <td>1.460444e+12</td>\n",
       "    </tr>\n",
       "    <tr>\n",
       "      <th>25%</th>\n",
       "      <td>61.400002</td>\n",
       "      <td>135.363832</td>\n",
       "      <td>22.75000</td>\n",
       "      <td>23.959999</td>\n",
       "      <td>1.461079e+12</td>\n",
       "    </tr>\n",
       "    <tr>\n",
       "      <th>50%</th>\n",
       "      <td>62.500000</td>\n",
       "      <td>137.788914</td>\n",
       "      <td>23.50000</td>\n",
       "      <td>24.389999</td>\n",
       "      <td>1.461802e+12</td>\n",
       "    </tr>\n",
       "    <tr>\n",
       "      <th>75%</th>\n",
       "      <td>85.049999</td>\n",
       "      <td>187.503152</td>\n",
       "      <td>24.25000</td>\n",
       "      <td>25.559999</td>\n",
       "      <td>1.462375e+12</td>\n",
       "    </tr>\n",
       "    <tr>\n",
       "      <th>max</th>\n",
       "      <td>133.500000</td>\n",
       "      <td>294.317120</td>\n",
       "      <td>25.00000</td>\n",
       "      <td>47.540001</td>\n",
       "      <td>1.463098e+12</td>\n",
       "    </tr>\n",
       "  </tbody>\n",
       "</table>\n",
       "</div>"
      ],
      "text/plain": [
       "         WeightKg  WeightPounds       Fat        BMI         LogId\n",
       "count   67.000000     67.000000   2.00000  67.000000  6.700000e+01\n",
       "mean    72.035821    158.811801  23.50000  25.185224  1.461772e+12\n",
       "std     13.923206     30.695415   2.12132   3.066963  7.829948e+08\n",
       "min     52.599998    115.963147  22.00000  21.450001  1.460444e+12\n",
       "25%     61.400002    135.363832  22.75000  23.959999  1.461079e+12\n",
       "50%     62.500000    137.788914  23.50000  24.389999  1.461802e+12\n",
       "75%     85.049999    187.503152  24.25000  25.559999  1.462375e+12\n",
       "max    133.500000    294.317120  25.00000  47.540001  1.463098e+12"
      ]
     },
     "execution_count": 44,
     "metadata": {},
     "output_type": "execute_result"
    }
   ],
   "source": [
    "# Checking the descriptive statistics of the dataset\n",
    "weightLogInfo_merged.describe()"
   ]
  },
  {
   "cell_type": "code",
   "execution_count": 45,
   "id": "9f9da9b3-77df-45d4-8507-e8c287782283",
   "metadata": {},
   "outputs": [
    {
     "data": {
      "text/plain": [
       "65"
      ]
     },
     "execution_count": 45,
     "metadata": {},
     "output_type": "execute_result"
    }
   ],
   "source": [
    "# Number of rows with missing data\n",
    "weightLogInfo_merged.isna().any(axis=1).sum()"
   ]
  },
  {
   "cell_type": "markdown",
   "id": "2cbf8cd2-abeb-4d05-b4d6-74cb6a5db3a2",
   "metadata": {},
   "source": [
    "The above shows there are 65 rows having at least one value missing and this can be observed from the 'Fat' column  with 'NaN' data content.  however, the 'Fat' column wouldn't be of any use and could be disregarded.  Instaed the 'BMI' column is enough to address any health issue on ground."
   ]
  },
  {
   "cell_type": "code",
   "execution_count": null,
   "id": "bd48c69b-78ca-4994-9adf-a2d116bc75d5",
   "metadata": {},
   "outputs": [],
   "source": []
  },
  {
   "cell_type": "markdown",
   "id": "0f735e43-a3d4-4ee8-926b-8c4174b4b429",
   "metadata": {},
   "source": [
    "**VI. PROCESSING HOURLYCALORIES_MERGED DATASET**"
   ]
  },
  {
   "cell_type": "code",
   "execution_count": 46,
   "id": "9e2a1197-a9d2-46bd-9916-72efb00d5064",
   "metadata": {},
   "outputs": [
    {
     "data": {
      "text/html": [
       "<div>\n",
       "<style scoped>\n",
       "    .dataframe tbody tr th:only-of-type {\n",
       "        vertical-align: middle;\n",
       "    }\n",
       "\n",
       "    .dataframe tbody tr th {\n",
       "        vertical-align: top;\n",
       "    }\n",
       "\n",
       "    .dataframe thead th {\n",
       "        text-align: right;\n",
       "    }\n",
       "</style>\n",
       "<table border=\"1\" class=\"dataframe\">\n",
       "  <thead>\n",
       "    <tr style=\"text-align: right;\">\n",
       "      <th></th>\n",
       "      <th>Id</th>\n",
       "      <th>ActivityHour</th>\n",
       "      <th>Calories</th>\n",
       "    </tr>\n",
       "  </thead>\n",
       "  <tbody>\n",
       "    <tr>\n",
       "      <th>0</th>\n",
       "      <td>1503960366</td>\n",
       "      <td>4/12/2016 12:00:00 AM</td>\n",
       "      <td>81</td>\n",
       "    </tr>\n",
       "    <tr>\n",
       "      <th>1</th>\n",
       "      <td>1503960366</td>\n",
       "      <td>4/12/2016 1:00:00 AM</td>\n",
       "      <td>61</td>\n",
       "    </tr>\n",
       "    <tr>\n",
       "      <th>2</th>\n",
       "      <td>1503960366</td>\n",
       "      <td>4/12/2016 2:00:00 AM</td>\n",
       "      <td>59</td>\n",
       "    </tr>\n",
       "    <tr>\n",
       "      <th>3</th>\n",
       "      <td>1503960366</td>\n",
       "      <td>4/12/2016 3:00:00 AM</td>\n",
       "      <td>47</td>\n",
       "    </tr>\n",
       "    <tr>\n",
       "      <th>4</th>\n",
       "      <td>1503960366</td>\n",
       "      <td>4/12/2016 4:00:00 AM</td>\n",
       "      <td>48</td>\n",
       "    </tr>\n",
       "  </tbody>\n",
       "</table>\n",
       "</div>"
      ],
      "text/plain": [
       "           Id           ActivityHour  Calories\n",
       "0  1503960366  4/12/2016 12:00:00 AM        81\n",
       "1  1503960366   4/12/2016 1:00:00 AM        61\n",
       "2  1503960366   4/12/2016 2:00:00 AM        59\n",
       "3  1503960366   4/12/2016 3:00:00 AM        47\n",
       "4  1503960366   4/12/2016 4:00:00 AM        48"
      ]
     },
     "execution_count": 46,
     "metadata": {},
     "output_type": "execute_result"
    }
   ],
   "source": [
    "# General viewing and inspection of the hourlyCalories_merged dataset variables and data\n",
    "\n",
    "hourlyCalories_merged.head()"
   ]
  },
  {
   "cell_type": "code",
   "execution_count": 47,
   "id": "5265318d-e68b-44d2-8df0-4811d9ee29a6",
   "metadata": {},
   "outputs": [
    {
     "data": {
      "text/plain": [
       "Id               int64\n",
       "ActivityHour    object\n",
       "Calories         int64\n",
       "dtype: object"
      ]
     },
     "execution_count": 47,
     "metadata": {},
     "output_type": "execute_result"
    }
   ],
   "source": [
    "# Checking the datatypes dataset variables\n",
    "\n",
    "hourlyCalories_merged.dtypes"
   ]
  },
  {
   "cell_type": "code",
   "execution_count": 48,
   "id": "4bf785e0-db32-46eb-8e1c-febdcf066a74",
   "metadata": {},
   "outputs": [],
   "source": [
    "# Converting datatype to 'string' and 'date format' datatype respectively\n",
    "\n",
    "# Extracting the date part in the ActivityHour column and assigning it to another column \"ActivityDate\"\n",
    "hourlyCalories_merged['ActivityHour'] = pd.to_datetime(hourlyCalories_merged['ActivityHour'])\n",
    "hourlyCalories_merged['ActivityDate'] = hourlyCalories_merged['ActivityHour'].dt.date\n",
    "\n",
    "# Rearranging columns\n",
    "hourlyCalories_merged = hourlyCalories_merged[['Id', 'ActivityHour', 'ActivityDate', 'Calories']]\n",
    "\n",
    "# Converting to the respective datatype\n",
    "hourlyCalories_merged['Id'] = hourlyCalories_merged['Id'].astype(str)\n",
    "hourlyCalories_merged['ActivityDate'] = pd.to_datetime(hourlyCalories_merged['ActivityDate'])"
   ]
  },
  {
   "cell_type": "code",
   "execution_count": 49,
   "id": "fb71f3e2-c808-489a-b47c-e783557404ba",
   "metadata": {},
   "outputs": [
    {
     "data": {
      "text/plain": [
       "Id                      object\n",
       "ActivityHour    datetime64[ns]\n",
       "ActivityDate    datetime64[ns]\n",
       "Calories                 int64\n",
       "dtype: object"
      ]
     },
     "execution_count": 49,
     "metadata": {},
     "output_type": "execute_result"
    }
   ],
   "source": [
    "#  Cross-checking the datatypes\n",
    "hourlyCalories_merged.dtypes"
   ]
  },
  {
   "cell_type": "code",
   "execution_count": 50,
   "id": "7980347f-2403-4360-a29c-282d2555c664",
   "metadata": {},
   "outputs": [],
   "source": [
    "# Checking for unique datatype"
   ]
  },
  {
   "cell_type": "code",
   "execution_count": 51,
   "id": "dfaad218-146a-4641-a030-de4bc697044e",
   "metadata": {},
   "outputs": [
    {
     "name": "stdout",
     "output_type": "stream",
     "text": [
      "Column Name: Count of Unique Data Types\n",
      "Id: 1\n",
      "ActivityHour: 1\n",
      "ActivityDate: 1\n",
      "Calories: 1\n"
     ]
    }
   ],
   "source": [
    "# Counting the number of unique data types in each column and store the result in a dictionary\n",
    "result = {}\n",
    "for column in hourlyCalories_merged.columns:\n",
    "    result[column] = count_unique_data_types(hourlyCalories_merged[column])\n",
    "\n",
    "# Printing the result with column names\n",
    "print(\"Column Name: Count of Unique Data Types\")\n",
    "for column, count in result.items():\n",
    "    print(f\"{column}: {count}\")"
   ]
  },
  {
   "cell_type": "code",
   "execution_count": 52,
   "id": "9e066b62-3bad-45bc-a966-de3b8a91d07e",
   "metadata": {},
   "outputs": [
    {
     "data": {
      "text/html": [
       "<div>\n",
       "<style scoped>\n",
       "    .dataframe tbody tr th:only-of-type {\n",
       "        vertical-align: middle;\n",
       "    }\n",
       "\n",
       "    .dataframe tbody tr th {\n",
       "        vertical-align: top;\n",
       "    }\n",
       "\n",
       "    .dataframe thead th {\n",
       "        text-align: right;\n",
       "    }\n",
       "</style>\n",
       "<table border=\"1\" class=\"dataframe\">\n",
       "  <thead>\n",
       "    <tr style=\"text-align: right;\">\n",
       "      <th></th>\n",
       "      <th>Calories</th>\n",
       "    </tr>\n",
       "  </thead>\n",
       "  <tbody>\n",
       "    <tr>\n",
       "      <th>count</th>\n",
       "      <td>22099.000000</td>\n",
       "    </tr>\n",
       "    <tr>\n",
       "      <th>mean</th>\n",
       "      <td>97.386760</td>\n",
       "    </tr>\n",
       "    <tr>\n",
       "      <th>std</th>\n",
       "      <td>60.702622</td>\n",
       "    </tr>\n",
       "    <tr>\n",
       "      <th>min</th>\n",
       "      <td>42.000000</td>\n",
       "    </tr>\n",
       "    <tr>\n",
       "      <th>25%</th>\n",
       "      <td>63.000000</td>\n",
       "    </tr>\n",
       "    <tr>\n",
       "      <th>50%</th>\n",
       "      <td>83.000000</td>\n",
       "    </tr>\n",
       "    <tr>\n",
       "      <th>75%</th>\n",
       "      <td>108.000000</td>\n",
       "    </tr>\n",
       "    <tr>\n",
       "      <th>max</th>\n",
       "      <td>948.000000</td>\n",
       "    </tr>\n",
       "  </tbody>\n",
       "</table>\n",
       "</div>"
      ],
      "text/plain": [
       "           Calories\n",
       "count  22099.000000\n",
       "mean      97.386760\n",
       "std       60.702622\n",
       "min       42.000000\n",
       "25%       63.000000\n",
       "50%       83.000000\n",
       "75%      108.000000\n",
       "max      948.000000"
      ]
     },
     "execution_count": 52,
     "metadata": {},
     "output_type": "execute_result"
    }
   ],
   "source": [
    "# Checking the descriptive statistics of the dataset\n",
    "\n",
    "hourlyCalories_merged.describe()"
   ]
  },
  {
   "cell_type": "code",
   "execution_count": 53,
   "id": "753e3ad3-c6c1-46f3-adcc-ea8ea8be7f02",
   "metadata": {},
   "outputs": [
    {
     "data": {
      "text/plain": [
       "0"
      ]
     },
     "execution_count": 53,
     "metadata": {},
     "output_type": "execute_result"
    }
   ],
   "source": [
    "# Number of rows with missing data\n",
    "hourlyCalories_merged.isna().any(axis=1).sum()"
   ]
  },
  {
   "cell_type": "code",
   "execution_count": null,
   "id": "00f57698-c7f7-45d3-b78d-62863ff889b8",
   "metadata": {},
   "outputs": [],
   "source": []
  },
  {
   "cell_type": "markdown",
   "id": "e96933a5-7d96-4cf6-a6fc-bed73ebae22c",
   "metadata": {},
   "source": [
    "**VII. PROCESSING HOURLYINTENSITIES_MERGED DATASET**"
   ]
  },
  {
   "cell_type": "code",
   "execution_count": 54,
   "id": "25378e55-97f1-4e10-866f-e46da4acaf82",
   "metadata": {},
   "outputs": [
    {
     "data": {
      "text/html": [
       "<div>\n",
       "<style scoped>\n",
       "    .dataframe tbody tr th:only-of-type {\n",
       "        vertical-align: middle;\n",
       "    }\n",
       "\n",
       "    .dataframe tbody tr th {\n",
       "        vertical-align: top;\n",
       "    }\n",
       "\n",
       "    .dataframe thead th {\n",
       "        text-align: right;\n",
       "    }\n",
       "</style>\n",
       "<table border=\"1\" class=\"dataframe\">\n",
       "  <thead>\n",
       "    <tr style=\"text-align: right;\">\n",
       "      <th></th>\n",
       "      <th>Id</th>\n",
       "      <th>ActivityHour</th>\n",
       "      <th>TotalIntensity</th>\n",
       "      <th>AverageIntensity</th>\n",
       "    </tr>\n",
       "  </thead>\n",
       "  <tbody>\n",
       "    <tr>\n",
       "      <th>0</th>\n",
       "      <td>1503960366</td>\n",
       "      <td>4/12/2016 12:00:00 AM</td>\n",
       "      <td>20</td>\n",
       "      <td>0.333333</td>\n",
       "    </tr>\n",
       "    <tr>\n",
       "      <th>1</th>\n",
       "      <td>1503960366</td>\n",
       "      <td>4/12/2016 1:00:00 AM</td>\n",
       "      <td>8</td>\n",
       "      <td>0.133333</td>\n",
       "    </tr>\n",
       "    <tr>\n",
       "      <th>2</th>\n",
       "      <td>1503960366</td>\n",
       "      <td>4/12/2016 2:00:00 AM</td>\n",
       "      <td>7</td>\n",
       "      <td>0.116667</td>\n",
       "    </tr>\n",
       "    <tr>\n",
       "      <th>3</th>\n",
       "      <td>1503960366</td>\n",
       "      <td>4/12/2016 3:00:00 AM</td>\n",
       "      <td>0</td>\n",
       "      <td>0.000000</td>\n",
       "    </tr>\n",
       "    <tr>\n",
       "      <th>4</th>\n",
       "      <td>1503960366</td>\n",
       "      <td>4/12/2016 4:00:00 AM</td>\n",
       "      <td>0</td>\n",
       "      <td>0.000000</td>\n",
       "    </tr>\n",
       "  </tbody>\n",
       "</table>\n",
       "</div>"
      ],
      "text/plain": [
       "           Id           ActivityHour  TotalIntensity  AverageIntensity\n",
       "0  1503960366  4/12/2016 12:00:00 AM              20          0.333333\n",
       "1  1503960366   4/12/2016 1:00:00 AM               8          0.133333\n",
       "2  1503960366   4/12/2016 2:00:00 AM               7          0.116667\n",
       "3  1503960366   4/12/2016 3:00:00 AM               0          0.000000\n",
       "4  1503960366   4/12/2016 4:00:00 AM               0          0.000000"
      ]
     },
     "execution_count": 54,
     "metadata": {},
     "output_type": "execute_result"
    }
   ],
   "source": [
    "# General viewing and inspection of the heartrate_seconds_merged dataset variables and data\n",
    "\n",
    "hourlyIntensities_merged.head()"
   ]
  },
  {
   "cell_type": "code",
   "execution_count": 55,
   "id": "c64390a4-14ae-4e3b-bcd9-304735cae4cf",
   "metadata": {},
   "outputs": [
    {
     "data": {
      "text/plain": [
       "Id                    int64\n",
       "ActivityHour         object\n",
       "TotalIntensity        int64\n",
       "AverageIntensity    float64\n",
       "dtype: object"
      ]
     },
     "execution_count": 55,
     "metadata": {},
     "output_type": "execute_result"
    }
   ],
   "source": [
    "# Checking the datatypes dataset variables\n",
    "\n",
    "hourlyIntensities_merged.dtypes"
   ]
  },
  {
   "cell_type": "code",
   "execution_count": 56,
   "id": "96f85a66-2514-41f8-8832-0c6f20f6c66d",
   "metadata": {},
   "outputs": [],
   "source": [
    "# Converting datatype to 'string' and 'date format' datatype respectively\n",
    "\n",
    "# Extracting the date part from the ActivityHour column and assigning it to a new column 'ActivityDate'\n",
    "hourlyIntensities_merged['ActivityHour'] = pd.to_datetime(hourlyIntensities_merged['ActivityHour'])\n",
    "hourlyIntensities_merged['ActivityDate'] = hourlyIntensities_merged['ActivityHour'].dt.date\n",
    "\n",
    "# Rearranging columns\n",
    "hourlyIntensities_merged = hourlyIntensities_merged[['Id', 'ActivityHour', 'ActivityDate', 'TotalIntensity', 'AverageIntensity']]\n",
    "\n",
    "# Converting to the respective datatype\n",
    "hourlyIntensities_merged['Id'] = hourlyIntensities_merged['Id'].astype(str)\n",
    "hourlyIntensities_merged['ActivityDate'] = pd.to_datetime(hourlyIntensities_merged['ActivityDate'])"
   ]
  },
  {
   "cell_type": "code",
   "execution_count": 57,
   "id": "fcd23f46-7b1a-4e37-a433-f847505470a0",
   "metadata": {},
   "outputs": [
    {
     "data": {
      "text/plain": [
       "Id                          object\n",
       "ActivityHour        datetime64[ns]\n",
       "ActivityDate        datetime64[ns]\n",
       "TotalIntensity               int64\n",
       "AverageIntensity           float64\n",
       "dtype: object"
      ]
     },
     "execution_count": 57,
     "metadata": {},
     "output_type": "execute_result"
    }
   ],
   "source": [
    "#  Cross-checking the datatypes\n",
    "\n",
    "hourlyIntensities_merged.dtypes"
   ]
  },
  {
   "cell_type": "code",
   "execution_count": 58,
   "id": "dd7117a1-4f65-4e1c-8e7c-5e7cba219a33",
   "metadata": {},
   "outputs": [],
   "source": [
    "# Checking for unique datatype"
   ]
  },
  {
   "cell_type": "code",
   "execution_count": 59,
   "id": "22a861cc-b60a-4aa1-819f-25c4030d1fbf",
   "metadata": {},
   "outputs": [
    {
     "name": "stdout",
     "output_type": "stream",
     "text": [
      "Column Name: Count of Unique Data Types\n",
      "Id: 1\n",
      "ActivityHour: 1\n",
      "ActivityDate: 1\n",
      "TotalIntensity: 1\n",
      "AverageIntensity: 1\n"
     ]
    }
   ],
   "source": [
    "# Counting the number of unique data types in each column and store the result in a dictionary\n",
    "\n",
    "result = {}\n",
    "for column in hourlyIntensities_merged.columns:\n",
    "    result[column] = count_unique_data_types(hourlyIntensities_merged[column])\n",
    "\n",
    "print('Column Name: Count of Unique Data Types')\n",
    "for column, count in result.items():\n",
    "    print(f\"{column}: {count}\")"
   ]
  },
  {
   "cell_type": "code",
   "execution_count": 60,
   "id": "2c14615c-188b-4eb6-a706-382a6867c82d",
   "metadata": {},
   "outputs": [
    {
     "data": {
      "text/html": [
       "<div>\n",
       "<style scoped>\n",
       "    .dataframe tbody tr th:only-of-type {\n",
       "        vertical-align: middle;\n",
       "    }\n",
       "\n",
       "    .dataframe tbody tr th {\n",
       "        vertical-align: top;\n",
       "    }\n",
       "\n",
       "    .dataframe thead th {\n",
       "        text-align: right;\n",
       "    }\n",
       "</style>\n",
       "<table border=\"1\" class=\"dataframe\">\n",
       "  <thead>\n",
       "    <tr style=\"text-align: right;\">\n",
       "      <th></th>\n",
       "      <th>TotalIntensity</th>\n",
       "      <th>AverageIntensity</th>\n",
       "    </tr>\n",
       "  </thead>\n",
       "  <tbody>\n",
       "    <tr>\n",
       "      <th>count</th>\n",
       "      <td>22099.000000</td>\n",
       "      <td>22099.000000</td>\n",
       "    </tr>\n",
       "    <tr>\n",
       "      <th>mean</th>\n",
       "      <td>12.035341</td>\n",
       "      <td>0.200589</td>\n",
       "    </tr>\n",
       "    <tr>\n",
       "      <th>std</th>\n",
       "      <td>21.133110</td>\n",
       "      <td>0.352219</td>\n",
       "    </tr>\n",
       "    <tr>\n",
       "      <th>min</th>\n",
       "      <td>0.000000</td>\n",
       "      <td>0.000000</td>\n",
       "    </tr>\n",
       "    <tr>\n",
       "      <th>25%</th>\n",
       "      <td>0.000000</td>\n",
       "      <td>0.000000</td>\n",
       "    </tr>\n",
       "    <tr>\n",
       "      <th>50%</th>\n",
       "      <td>3.000000</td>\n",
       "      <td>0.050000</td>\n",
       "    </tr>\n",
       "    <tr>\n",
       "      <th>75%</th>\n",
       "      <td>16.000000</td>\n",
       "      <td>0.266667</td>\n",
       "    </tr>\n",
       "    <tr>\n",
       "      <th>max</th>\n",
       "      <td>180.000000</td>\n",
       "      <td>3.000000</td>\n",
       "    </tr>\n",
       "  </tbody>\n",
       "</table>\n",
       "</div>"
      ],
      "text/plain": [
       "       TotalIntensity  AverageIntensity\n",
       "count    22099.000000      22099.000000\n",
       "mean        12.035341          0.200589\n",
       "std         21.133110          0.352219\n",
       "min          0.000000          0.000000\n",
       "25%          0.000000          0.000000\n",
       "50%          3.000000          0.050000\n",
       "75%         16.000000          0.266667\n",
       "max        180.000000          3.000000"
      ]
     },
     "execution_count": 60,
     "metadata": {},
     "output_type": "execute_result"
    }
   ],
   "source": [
    "# Checking the descriptive statistics of the dataset\n",
    "\n",
    "hourlyIntensities_merged.describe()"
   ]
  },
  {
   "cell_type": "code",
   "execution_count": 61,
   "id": "9cbf73bc-bffc-4291-8a05-9e84593dd524",
   "metadata": {},
   "outputs": [
    {
     "data": {
      "text/plain": [
       "count    22099.000000\n",
       "mean        12.035341\n",
       "std         21.133110\n",
       "min          0.000000\n",
       "25%          0.000000\n",
       "50%          3.000000\n",
       "75%         16.000000\n",
       "max        180.000000\n",
       "Name: TotalIntensity, dtype: float64"
      ]
     },
     "execution_count": 61,
     "metadata": {},
     "output_type": "execute_result"
    }
   ],
   "source": [
    "hourlyIntensities_merged['TotalIntensity'].describe()"
   ]
  },
  {
   "cell_type": "code",
   "execution_count": 62,
   "id": "d6ee0c52-8f34-4e9a-8bb0-c08b25689507",
   "metadata": {},
   "outputs": [
    {
     "data": {
      "text/plain": [
       "0"
      ]
     },
     "execution_count": 62,
     "metadata": {},
     "output_type": "execute_result"
    }
   ],
   "source": [
    "# Number of rows with missing data\n",
    "hourlyIntensities_merged.isna().any(axis=1).sum()"
   ]
  },
  {
   "cell_type": "code",
   "execution_count": null,
   "id": "bba26b1d-9c75-4a98-bcad-5d0548039e73",
   "metadata": {},
   "outputs": [],
   "source": []
  },
  {
   "cell_type": "markdown",
   "id": "e29614b1-1d99-43a0-a6b1-826be6eb7ed7",
   "metadata": {},
   "source": [
    "**VIII. PROCESSING MINUTECALORIESNARROW_MERGED DATASET**"
   ]
  },
  {
   "cell_type": "code",
   "execution_count": 63,
   "id": "0cceddd0-3dae-4171-b732-82a271b704df",
   "metadata": {},
   "outputs": [
    {
     "data": {
      "text/html": [
       "<div>\n",
       "<style scoped>\n",
       "    .dataframe tbody tr th:only-of-type {\n",
       "        vertical-align: middle;\n",
       "    }\n",
       "\n",
       "    .dataframe tbody tr th {\n",
       "        vertical-align: top;\n",
       "    }\n",
       "\n",
       "    .dataframe thead th {\n",
       "        text-align: right;\n",
       "    }\n",
       "</style>\n",
       "<table border=\"1\" class=\"dataframe\">\n",
       "  <thead>\n",
       "    <tr style=\"text-align: right;\">\n",
       "      <th></th>\n",
       "      <th>Id</th>\n",
       "      <th>ActivityMinute</th>\n",
       "      <th>Calories</th>\n",
       "    </tr>\n",
       "  </thead>\n",
       "  <tbody>\n",
       "    <tr>\n",
       "      <th>0</th>\n",
       "      <td>1503960366</td>\n",
       "      <td>4/12/2016 12:00:00 AM</td>\n",
       "      <td>0.7865</td>\n",
       "    </tr>\n",
       "    <tr>\n",
       "      <th>1</th>\n",
       "      <td>1503960366</td>\n",
       "      <td>4/12/2016 12:01:00 AM</td>\n",
       "      <td>0.7865</td>\n",
       "    </tr>\n",
       "    <tr>\n",
       "      <th>2</th>\n",
       "      <td>1503960366</td>\n",
       "      <td>4/12/2016 12:02:00 AM</td>\n",
       "      <td>0.7865</td>\n",
       "    </tr>\n",
       "    <tr>\n",
       "      <th>3</th>\n",
       "      <td>1503960366</td>\n",
       "      <td>4/12/2016 12:03:00 AM</td>\n",
       "      <td>0.7865</td>\n",
       "    </tr>\n",
       "    <tr>\n",
       "      <th>4</th>\n",
       "      <td>1503960366</td>\n",
       "      <td>4/12/2016 12:04:00 AM</td>\n",
       "      <td>0.7865</td>\n",
       "    </tr>\n",
       "  </tbody>\n",
       "</table>\n",
       "</div>"
      ],
      "text/plain": [
       "           Id         ActivityMinute  Calories\n",
       "0  1503960366  4/12/2016 12:00:00 AM    0.7865\n",
       "1  1503960366  4/12/2016 12:01:00 AM    0.7865\n",
       "2  1503960366  4/12/2016 12:02:00 AM    0.7865\n",
       "3  1503960366  4/12/2016 12:03:00 AM    0.7865\n",
       "4  1503960366  4/12/2016 12:04:00 AM    0.7865"
      ]
     },
     "execution_count": 63,
     "metadata": {},
     "output_type": "execute_result"
    }
   ],
   "source": [
    "# General viewing and inspection of the heartrate_seconds_merged dataset variables and data\n",
    "\n",
    "minuteCaloriesNarrow_merged.head()"
   ]
  },
  {
   "cell_type": "code",
   "execution_count": 64,
   "id": "4627129a-b167-4291-bd40-ad41108428e5",
   "metadata": {},
   "outputs": [
    {
     "data": {
      "text/plain": [
       "Id                  int64\n",
       "ActivityMinute     object\n",
       "Calories          float64\n",
       "dtype: object"
      ]
     },
     "execution_count": 64,
     "metadata": {},
     "output_type": "execute_result"
    }
   ],
   "source": [
    "# Checking the datatypes dataset variables\n",
    "\n",
    "minuteCaloriesNarrow_merged.dtypes"
   ]
  },
  {
   "cell_type": "code",
   "execution_count": 65,
   "id": "75b6066a-d386-4b4f-8f15-900fce85eef1",
   "metadata": {},
   "outputs": [],
   "source": [
    "# Converting datatype to 'string' and 'date format' datatype respectively\n",
    "\n",
    "# Extracting the date part from the ActivityMinute column and assigning it to a new column 'ActivityDate'\n",
    "minuteCaloriesNarrow_merged['ActivityMinute'] = pd.to_datetime(minuteCaloriesNarrow_merged['ActivityMinute'])\n",
    "minuteCaloriesNarrow_merged['ActivityDate'] = minuteCaloriesNarrow_merged['ActivityMinute'].dt.date\n",
    "\n",
    "# Rearranging columns\n",
    "minuteCaloriesNarrow_merged = minuteCaloriesNarrow_merged[['Id','ActivityMinute','ActivityDate','Calories']]\n",
    "\n",
    "# Converting to the respective datatype\n",
    "minuteCaloriesNarrow_merged['Id'] = minuteCaloriesNarrow_merged['Id'].astype(str)\n",
    "minuteCaloriesNarrow_merged['ActivityDate'] = pd.to_datetime(minuteCaloriesNarrow_merged['ActivityDate'])"
   ]
  },
  {
   "cell_type": "code",
   "execution_count": 66,
   "id": "2e85a1a6-f87b-4811-b685-721a7195c0f6",
   "metadata": {},
   "outputs": [
    {
     "data": {
      "text/plain": [
       "Id                        object\n",
       "ActivityMinute    datetime64[ns]\n",
       "ActivityDate      datetime64[ns]\n",
       "Calories                 float64\n",
       "dtype: object"
      ]
     },
     "execution_count": 66,
     "metadata": {},
     "output_type": "execute_result"
    }
   ],
   "source": [
    "#  Cross-checking the datatypes\n",
    "minuteCaloriesNarrow_merged.dtypes"
   ]
  },
  {
   "cell_type": "code",
   "execution_count": 67,
   "id": "4eedb91b-6ea4-4c56-89b2-8f13af4e2e9b",
   "metadata": {},
   "outputs": [],
   "source": [
    "# Checking for unique datatype"
   ]
  },
  {
   "cell_type": "code",
   "execution_count": 68,
   "id": "d64e7748-4720-4fee-867a-b833ae3cb0ca",
   "metadata": {},
   "outputs": [
    {
     "name": "stdout",
     "output_type": "stream",
     "text": [
      "Column Name: Count of Unique Data Types\n",
      "Id: 1\n",
      "ActivityMinute: 1\n",
      "ActivityDate: 1\n",
      "Calories: 1\n"
     ]
    }
   ],
   "source": [
    "# Counting the number of unique data types in each column and store the result in a dictionary\n",
    "result = {}\n",
    "for column in minuteCaloriesNarrow_merged.columns:\n",
    "    result[column] = count_unique_data_types(minuteCaloriesNarrow_merged[column])\n",
    "\n",
    "print('Column Name: Count of Unique Data Types')\n",
    "for column, count in result.items():\n",
    "    print(f\"{column}: {count}\")"
   ]
  },
  {
   "cell_type": "code",
   "execution_count": 69,
   "id": "15be24e1-98a4-432b-9670-67536a0f0ba0",
   "metadata": {},
   "outputs": [
    {
     "data": {
      "text/html": [
       "<div>\n",
       "<style scoped>\n",
       "    .dataframe tbody tr th:only-of-type {\n",
       "        vertical-align: middle;\n",
       "    }\n",
       "\n",
       "    .dataframe tbody tr th {\n",
       "        vertical-align: top;\n",
       "    }\n",
       "\n",
       "    .dataframe thead th {\n",
       "        text-align: right;\n",
       "    }\n",
       "</style>\n",
       "<table border=\"1\" class=\"dataframe\">\n",
       "  <thead>\n",
       "    <tr style=\"text-align: right;\">\n",
       "      <th></th>\n",
       "      <th>Calories</th>\n",
       "    </tr>\n",
       "  </thead>\n",
       "  <tbody>\n",
       "    <tr>\n",
       "      <th>count</th>\n",
       "      <td>1.325580e+06</td>\n",
       "    </tr>\n",
       "    <tr>\n",
       "      <th>mean</th>\n",
       "      <td>1.623130e+00</td>\n",
       "    </tr>\n",
       "    <tr>\n",
       "      <th>std</th>\n",
       "      <td>1.410447e+00</td>\n",
       "    </tr>\n",
       "    <tr>\n",
       "      <th>min</th>\n",
       "      <td>0.000000e+00</td>\n",
       "    </tr>\n",
       "    <tr>\n",
       "      <th>25%</th>\n",
       "      <td>9.357000e-01</td>\n",
       "    </tr>\n",
       "    <tr>\n",
       "      <th>50%</th>\n",
       "      <td>1.217600e+00</td>\n",
       "    </tr>\n",
       "    <tr>\n",
       "      <th>75%</th>\n",
       "      <td>1.432700e+00</td>\n",
       "    </tr>\n",
       "    <tr>\n",
       "      <th>max</th>\n",
       "      <td>1.974995e+01</td>\n",
       "    </tr>\n",
       "  </tbody>\n",
       "</table>\n",
       "</div>"
      ],
      "text/plain": [
       "           Calories\n",
       "count  1.325580e+06\n",
       "mean   1.623130e+00\n",
       "std    1.410447e+00\n",
       "min    0.000000e+00\n",
       "25%    9.357000e-01\n",
       "50%    1.217600e+00\n",
       "75%    1.432700e+00\n",
       "max    1.974995e+01"
      ]
     },
     "execution_count": 69,
     "metadata": {},
     "output_type": "execute_result"
    }
   ],
   "source": [
    "# Checking the descriptive statistics of the dataset\n",
    "minuteCaloriesNarrow_merged.describe()"
   ]
  },
  {
   "cell_type": "code",
   "execution_count": 70,
   "id": "d557a56f-5351-4c83-9144-303255c28f81",
   "metadata": {},
   "outputs": [
    {
     "data": {
      "text/plain": [
       "0"
      ]
     },
     "execution_count": 70,
     "metadata": {},
     "output_type": "execute_result"
    }
   ],
   "source": [
    "# Number of rows with missing data\n",
    "minuteCaloriesNarrow_merged.isna().any(axis=1).sum()"
   ]
  },
  {
   "cell_type": "code",
   "execution_count": null,
   "id": "dd108721-10ed-45a5-9d5f-e2f74390152b",
   "metadata": {},
   "outputs": [],
   "source": []
  },
  {
   "cell_type": "markdown",
   "id": "272bea10-c5bd-476a-8239-dde2d420ff64",
   "metadata": {},
   "source": [
    "**IX. PROCESSING MINUTECALORIESWIDE_MERGED DATASET**"
   ]
  },
  {
   "cell_type": "code",
   "execution_count": 71,
   "id": "40b71581-2504-43e7-9641-2d3ab3425e3a",
   "metadata": {},
   "outputs": [
    {
     "data": {
      "text/html": [
       "<div>\n",
       "<style scoped>\n",
       "    .dataframe tbody tr th:only-of-type {\n",
       "        vertical-align: middle;\n",
       "    }\n",
       "\n",
       "    .dataframe tbody tr th {\n",
       "        vertical-align: top;\n",
       "    }\n",
       "\n",
       "    .dataframe thead th {\n",
       "        text-align: right;\n",
       "    }\n",
       "</style>\n",
       "<table border=\"1\" class=\"dataframe\">\n",
       "  <thead>\n",
       "    <tr style=\"text-align: right;\">\n",
       "      <th></th>\n",
       "      <th>Id</th>\n",
       "      <th>ActivityMinute</th>\n",
       "      <th>ActivityDate</th>\n",
       "      <th>Calories</th>\n",
       "    </tr>\n",
       "  </thead>\n",
       "  <tbody>\n",
       "    <tr>\n",
       "      <th>0</th>\n",
       "      <td>1503960366</td>\n",
       "      <td>2016-04-12 00:00:00</td>\n",
       "      <td>2016-04-12</td>\n",
       "      <td>0.7865</td>\n",
       "    </tr>\n",
       "    <tr>\n",
       "      <th>1</th>\n",
       "      <td>1503960366</td>\n",
       "      <td>2016-04-12 00:01:00</td>\n",
       "      <td>2016-04-12</td>\n",
       "      <td>0.7865</td>\n",
       "    </tr>\n",
       "    <tr>\n",
       "      <th>2</th>\n",
       "      <td>1503960366</td>\n",
       "      <td>2016-04-12 00:02:00</td>\n",
       "      <td>2016-04-12</td>\n",
       "      <td>0.7865</td>\n",
       "    </tr>\n",
       "    <tr>\n",
       "      <th>3</th>\n",
       "      <td>1503960366</td>\n",
       "      <td>2016-04-12 00:03:00</td>\n",
       "      <td>2016-04-12</td>\n",
       "      <td>0.7865</td>\n",
       "    </tr>\n",
       "    <tr>\n",
       "      <th>4</th>\n",
       "      <td>1503960366</td>\n",
       "      <td>2016-04-12 00:04:00</td>\n",
       "      <td>2016-04-12</td>\n",
       "      <td>0.7865</td>\n",
       "    </tr>\n",
       "  </tbody>\n",
       "</table>\n",
       "</div>"
      ],
      "text/plain": [
       "           Id      ActivityMinute ActivityDate  Calories\n",
       "0  1503960366 2016-04-12 00:00:00   2016-04-12    0.7865\n",
       "1  1503960366 2016-04-12 00:01:00   2016-04-12    0.7865\n",
       "2  1503960366 2016-04-12 00:02:00   2016-04-12    0.7865\n",
       "3  1503960366 2016-04-12 00:03:00   2016-04-12    0.7865\n",
       "4  1503960366 2016-04-12 00:04:00   2016-04-12    0.7865"
      ]
     },
     "execution_count": 71,
     "metadata": {},
     "output_type": "execute_result"
    }
   ],
   "source": [
    "# General viewing and inspection of the heartrate_seconds_merged dataset variables and data\n",
    "\n",
    "minuteCaloriesNarrow_merged.head()"
   ]
  },
  {
   "cell_type": "code",
   "execution_count": 72,
   "id": "2ce7abd6-4db0-4861-8282-d00863d043bf",
   "metadata": {},
   "outputs": [
    {
     "data": {
      "text/plain": [
       "Id                        object\n",
       "ActivityMinute    datetime64[ns]\n",
       "ActivityDate      datetime64[ns]\n",
       "Calories                 float64\n",
       "dtype: object"
      ]
     },
     "execution_count": 72,
     "metadata": {},
     "output_type": "execute_result"
    }
   ],
   "source": [
    "# Checking the datatypes dataset variables\n",
    "\n",
    "minuteCaloriesNarrow_merged.dtypes"
   ]
  },
  {
   "cell_type": "code",
   "execution_count": 73,
   "id": "076318f2-7fa5-46a6-80ed-3ddade300c5a",
   "metadata": {},
   "outputs": [],
   "source": [
    "# Converting datatype to 'string' and 'date format' datatype respectively\n",
    "\n",
    "# Extracting the date part from 'ActivityMinute' column and assigning it to a new column 'ActivityDate'\n",
    "minuteCaloriesNarrow_merged['ActivityMinute'] = pd.to_datetime(minuteCaloriesNarrow_merged['ActivityMinute'])\n",
    "minuteCaloriesNarrow_merged['ActivityDate'] = minuteCaloriesNarrow_merged['ActivityMinute'].dt.date\n",
    "\n",
    "# Rearranging column\n",
    "minuteCaloriesNarrow_merged = minuteCaloriesNarrow_merged[['Id','ActivityMinute','ActivityDate','Calories']]\n",
    "\n",
    "# Converting to the respective datatype\n",
    "minuteCaloriesNarrow_merged['Id'] = minuteCaloriesNarrow_merged['Id'].astype(str)\n",
    "minuteCaloriesNarrow_merged['ActivityDate'] = pd.to_datetime(minuteCaloriesNarrow_merged['ActivityDate'])"
   ]
  },
  {
   "cell_type": "code",
   "execution_count": 74,
   "id": "54ac1b35-7aa0-4d98-9206-25230bb4ee0f",
   "metadata": {},
   "outputs": [
    {
     "data": {
      "text/plain": [
       "Id                        object\n",
       "ActivityMinute    datetime64[ns]\n",
       "ActivityDate      datetime64[ns]\n",
       "Calories                 float64\n",
       "dtype: object"
      ]
     },
     "execution_count": 74,
     "metadata": {},
     "output_type": "execute_result"
    }
   ],
   "source": [
    "# Cross-checking the datatypes\n",
    "minuteCaloriesNarrow_merged.dtypes"
   ]
  },
  {
   "cell_type": "code",
   "execution_count": 75,
   "id": "4c131468-d50f-4abe-8412-9163d142282f",
   "metadata": {},
   "outputs": [],
   "source": [
    "# Checking for unique datatype"
   ]
  },
  {
   "cell_type": "code",
   "execution_count": 76,
   "id": "5dbe3450-fb67-4667-a5be-942f3b2878f9",
   "metadata": {},
   "outputs": [
    {
     "name": "stdout",
     "output_type": "stream",
     "text": [
      "Column Name: Count of Unique Data Types\n",
      "Id: 1\n",
      "ActivityMinute: 1\n",
      "ActivityDate: 1\n",
      "Calories: 1\n"
     ]
    }
   ],
   "source": [
    "# Counting the number of unique data types in each column and store the result in a dictionary\n",
    "result = {}\n",
    "for column in minuteCaloriesNarrow_merged.columns:\n",
    "    result[column] = count_unique_data_types(minuteCaloriesNarrow_merged[column])\n",
    "\n",
    "print('Column Name: Count of Unique Data Types')\n",
    "for column, count in  result.items():\n",
    "    print(f\"{column}: {count}\")"
   ]
  },
  {
   "cell_type": "code",
   "execution_count": 77,
   "id": "7d4a4f58-21c7-47a1-83cc-35246cd78f2e",
   "metadata": {},
   "outputs": [
    {
     "data": {
      "text/html": [
       "<div>\n",
       "<style scoped>\n",
       "    .dataframe tbody tr th:only-of-type {\n",
       "        vertical-align: middle;\n",
       "    }\n",
       "\n",
       "    .dataframe tbody tr th {\n",
       "        vertical-align: top;\n",
       "    }\n",
       "\n",
       "    .dataframe thead th {\n",
       "        text-align: right;\n",
       "    }\n",
       "</style>\n",
       "<table border=\"1\" class=\"dataframe\">\n",
       "  <thead>\n",
       "    <tr style=\"text-align: right;\">\n",
       "      <th></th>\n",
       "      <th>Calories</th>\n",
       "    </tr>\n",
       "  </thead>\n",
       "  <tbody>\n",
       "    <tr>\n",
       "      <th>count</th>\n",
       "      <td>1.325580e+06</td>\n",
       "    </tr>\n",
       "    <tr>\n",
       "      <th>mean</th>\n",
       "      <td>1.623130e+00</td>\n",
       "    </tr>\n",
       "    <tr>\n",
       "      <th>std</th>\n",
       "      <td>1.410447e+00</td>\n",
       "    </tr>\n",
       "    <tr>\n",
       "      <th>min</th>\n",
       "      <td>0.000000e+00</td>\n",
       "    </tr>\n",
       "    <tr>\n",
       "      <th>25%</th>\n",
       "      <td>9.357000e-01</td>\n",
       "    </tr>\n",
       "    <tr>\n",
       "      <th>50%</th>\n",
       "      <td>1.217600e+00</td>\n",
       "    </tr>\n",
       "    <tr>\n",
       "      <th>75%</th>\n",
       "      <td>1.432700e+00</td>\n",
       "    </tr>\n",
       "    <tr>\n",
       "      <th>max</th>\n",
       "      <td>1.974995e+01</td>\n",
       "    </tr>\n",
       "  </tbody>\n",
       "</table>\n",
       "</div>"
      ],
      "text/plain": [
       "           Calories\n",
       "count  1.325580e+06\n",
       "mean   1.623130e+00\n",
       "std    1.410447e+00\n",
       "min    0.000000e+00\n",
       "25%    9.357000e-01\n",
       "50%    1.217600e+00\n",
       "75%    1.432700e+00\n",
       "max    1.974995e+01"
      ]
     },
     "execution_count": 77,
     "metadata": {},
     "output_type": "execute_result"
    }
   ],
   "source": [
    "# Checking the descriptive statistics of the dataset\n",
    "minuteCaloriesNarrow_merged.describe()"
   ]
  },
  {
   "cell_type": "code",
   "execution_count": 78,
   "id": "9d354d13-a030-478c-806c-c0480526c6d1",
   "metadata": {},
   "outputs": [
    {
     "data": {
      "text/plain": [
       "0"
      ]
     },
     "execution_count": 78,
     "metadata": {},
     "output_type": "execute_result"
    }
   ],
   "source": [
    "# Number of rows with missing data\n",
    "minuteCaloriesNarrow_merged.isna().any(axis=1).sum()"
   ]
  }
 ],
 "metadata": {
  "kernelspec": {
   "display_name": "Python 3 (ipykernel)",
   "language": "python",
   "name": "python3"
  },
  "language_info": {
   "codemirror_mode": {
    "name": "ipython",
    "version": 3
   },
   "file_extension": ".py",
   "mimetype": "text/x-python",
   "name": "python",
   "nbconvert_exporter": "python",
   "pygments_lexer": "ipython3",
   "version": "3.10.6"
  }
 },
 "nbformat": 4,
 "nbformat_minor": 5
}
